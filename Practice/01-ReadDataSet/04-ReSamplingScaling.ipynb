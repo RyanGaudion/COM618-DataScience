{
 "cells": [
  {
   "cell_type": "code",
   "execution_count": 3,
   "metadata": {
    "collapsed": true
   },
   "outputs": [],
   "source": [
    "import pandas as pd\n",
    "import numpy as np\n",
    "import matplotlib.pyplot as plt\n",
    "import seaborn as sns\n",
    "import plotly.express as px\n",
    "import math\n",
    "\n",
    "from sklearn.model_selection import train_test_split\n",
    "from sklearn.ensemble import RandomForestClassifier\n",
    "from sklearn.metrics import classification_report\n",
    "\n",
    "#Inspired by https://www.kaggle.com/code/mahmoudlimam/resampling-tutorial\n",
    "# Importance measurement - f1 score (recall & precision)\n",
    "\n",
    "y_col = \"HeartDiseaseOrAttack\"\n",
    "colsToDrop = [\"State\"]"
   ]
  },
  {
   "cell_type": "code",
   "execution_count": 4,
   "outputs": [],
   "source": [
    "df = pd.read_csv('../data/heart_disease_health_indicators_BRFSS2021.csv')\n",
    "\n",
    "for col in colsToDrop:\n",
    "    df = df.drop(col, axis=1)"
   ],
   "metadata": {
    "collapsed": false
   }
  },
  {
   "cell_type": "code",
   "execution_count": 5,
   "outputs": [
    {
     "data": {
      "text/plain": "<AxesSubplot: xlabel='HeartDiseaseOrAttack', ylabel='count'>"
     },
     "execution_count": 5,
     "metadata": {},
     "output_type": "execute_result"
    },
    {
     "data": {
      "text/plain": "<Figure size 640x480 with 1 Axes>",
      "image/png": "[encoded data removed]"
     },
     "metadata": {},
     "output_type": "display_data"
    }
   ],
   "source": [
    "sns.countplot(data=df, x=y_col)"
   ],
   "metadata": {
    "collapsed": false
   }
  },
  {
   "cell_type": "code",
   "execution_count": 6,
   "outputs": [],
   "source": [
    "X = df.drop(y_col, axis=1)\n",
    "y = df[y_col]\n",
    "\n",
    "X_train, X_test, y_train, y_test = train_test_split(X, y, test_size=0.2, random_state=45)"
   ],
   "metadata": {
    "collapsed": false
   }
  },
  {
   "cell_type": "code",
   "execution_count": 7,
   "outputs": [],
   "source": [
    "def train_evaluate(X_train, X_test, y_train, y_test, sampler=None, model=None, depth=12, basic=False):\n",
    "\n",
    "    if model is None:\n",
    "        if basic:\n",
    "            model = RandomForestClassifier(n_jobs=-1, max_depth=6, verbose=1, random_state=9)\n",
    "        else:\n",
    "            model = RandomForestClassifier(n_jobs=-1, max_depth=depth, class_weight=\"balanced_subsample\", verbose=1, random_state=9)\n",
    "        #model = RandomForestClassifier(n_jobs=-1, max_depth=6, verbose=1, random_state=7)\n",
    "\n",
    "    Xs_train, ys_train = X_train, y_train\n",
    "\n",
    "    if sampler is not None:\n",
    "        Xs_train, ys_train = sampler.fit_resample(X_train, y_train)\n",
    "\n",
    "    model.fit(Xs_train, ys_train)\n",
    "\n",
    "    y_pred_train = model.predict(X_train)\n",
    "    y_pred_test = model.predict(X_test)\n",
    "\n",
    "    print(\"Training Results:\\n\")\n",
    "    print(classification_report(y_train, y_pred_train))\n",
    "    print(\"\\n\\nTesting Results:\\n\")\n",
    "    print(classification_report(y_test, y_pred_test))"
   ],
   "metadata": {
    "collapsed": false
   }
  },
  {
   "cell_type": "code",
   "execution_count": 8,
   "outputs": [
    {
     "name": "stderr",
     "output_type": "stream",
     "text": [
      "[Parallel(n_jobs=-1)]: Using backend ThreadingBackend with 16 concurrent workers.\n",
      "[Parallel(n_jobs=-1)]: Done  18 tasks      | elapsed:    1.3s\n",
      "[Parallel(n_jobs=-1)]: Done 100 out of 100 | elapsed:    5.1s finished\n",
      "[Parallel(n_jobs=16)]: Using backend ThreadingBackend with 16 concurrent workers.\n",
      "[Parallel(n_jobs=16)]: Done  18 tasks      | elapsed:    0.0s\n",
      "[Parallel(n_jobs=16)]: Done 100 out of 100 | elapsed:    0.3s finished\n",
      "[Parallel(n_jobs=16)]: Using backend ThreadingBackend with 16 concurrent workers.\n",
      "[Parallel(n_jobs=16)]: Done  18 tasks      | elapsed:    0.0s\n",
      "[Parallel(n_jobs=16)]: Done 100 out of 100 | elapsed:    0.0s finished\n"
     ]
    },
    {
     "name": "stdout",
     "output_type": "stream",
     "text": [
      "Training Results:\n",
      "\n",
      "              precision    recall  f1-score   support\n",
      "\n",
      "         0.0       0.91      1.00      0.96    173132\n",
      "         1.0       0.73      0.01      0.01     16314\n",
      "\n",
      "    accuracy                           0.91    189446\n",
      "   macro avg       0.82      0.50      0.48    189446\n",
      "weighted avg       0.90      0.91      0.87    189446\n",
      "\n",
      "\n",
      "\n",
      "Testing Results:\n",
      "\n",
      "              precision    recall  f1-score   support\n",
      "\n",
      "         0.0       0.92      1.00      0.96     43425\n",
      "         1.0       0.78      0.01      0.01      3937\n",
      "\n",
      "    accuracy                           0.92     47362\n",
      "   macro avg       0.85      0.50      0.48     47362\n",
      "weighted avg       0.91      0.92      0.88     47362\n",
      "\n"
     ]
    }
   ],
   "source": [
    "# Without re-sampling\n",
    "train_evaluate(X_train, X_test, y_train, y_test, depth=6, basic=True)"
   ],
   "metadata": {
    "collapsed": false
   }
  },
  {
   "cell_type": "code",
   "execution_count": 9,
   "outputs": [
    {
     "name": "stderr",
     "output_type": "stream",
     "text": [
      "[Parallel(n_jobs=-1)]: Using backend ThreadingBackend with 16 concurrent workers.\n",
      "[Parallel(n_jobs=-1)]: Done  18 tasks      | elapsed:    1.6s\n",
      "[Parallel(n_jobs=-1)]: Done 100 out of 100 | elapsed:    5.5s finished\n",
      "[Parallel(n_jobs=16)]: Using backend ThreadingBackend with 16 concurrent workers.\n",
      "[Parallel(n_jobs=16)]: Done  18 tasks      | elapsed:    0.0s\n",
      "[Parallel(n_jobs=16)]: Done 100 out of 100 | elapsed:    0.3s finished\n",
      "[Parallel(n_jobs=16)]: Using backend ThreadingBackend with 16 concurrent workers.\n",
      "[Parallel(n_jobs=16)]: Done  18 tasks      | elapsed:    0.0s\n",
      "[Parallel(n_jobs=16)]: Done 100 out of 100 | elapsed:    0.0s finished\n"
     ]
    },
    {
     "name": "stdout",
     "output_type": "stream",
     "text": [
      "Training Results:\n",
      "\n",
      "              precision    recall  f1-score   support\n",
      "\n",
      "         0.0       0.98      0.72      0.83    173132\n",
      "         1.0       0.22      0.83      0.35     16314\n",
      "\n",
      "    accuracy                           0.73    189446\n",
      "   macro avg       0.60      0.78      0.59    189446\n",
      "weighted avg       0.91      0.73      0.79    189446\n",
      "\n",
      "\n",
      "\n",
      "Testing Results:\n",
      "\n",
      "              precision    recall  f1-score   support\n",
      "\n",
      "         0.0       0.98      0.72      0.83     43425\n",
      "         1.0       0.21      0.83      0.34      3937\n",
      "\n",
      "    accuracy                           0.73     47362\n",
      "   macro avg       0.60      0.78      0.59     47362\n",
      "weighted avg       0.92      0.73      0.79     47362\n",
      "\n"
     ]
    }
   ],
   "source": [
    "# With balanced subsample class_weight\n",
    "train_evaluate(X_train, X_test, y_train, y_test, depth=6)\n",
    "\n",
    "# With no re-sampling we get for test (max depth 6, default):\n",
    "# Recall for 1.0: 0.01 --> 0.83\n",
    "# Macro-Average F1: 0.48 --> 0.59\n",
    "\n",
    "\n",
    "# 1 = 0.75, 0.58\n",
    "# 2 = 0.78, 0.59\n",
    "# 3 = 0.74, 0.59\n",
    "# 6 = 0.83, 0.59 # High recall, low precision\n",
    "# 10 = 0.8, 0.61\n",
    "# 15 = 0.58, 0.65\n",
    "# 20 = 0.31, 0.63\n",
    "# 25 = 0.14, 0.58\n",
    "# 50 = 0.06, 0.53"
   ],
   "metadata": {
    "collapsed": false
   }
  },
  {
   "cell_type": "code",
   "execution_count": 10,
   "outputs": [
    {
     "name": "stderr",
     "output_type": "stream",
     "text": [
      "[Parallel(n_jobs=-1)]: Using backend ThreadingBackend with 16 concurrent workers.\n",
      "[Parallel(n_jobs=-1)]: Done  18 tasks      | elapsed:    0.4s\n",
      "[Parallel(n_jobs=-1)]: Done 100 out of 100 | elapsed:    1.1s finished\n",
      "[Parallel(n_jobs=16)]: Using backend ThreadingBackend with 16 concurrent workers.\n",
      "[Parallel(n_jobs=16)]: Done  18 tasks      | elapsed:    0.0s\n",
      "[Parallel(n_jobs=16)]: Done 100 out of 100 | elapsed:    0.3s finished\n",
      "[Parallel(n_jobs=16)]: Using backend ThreadingBackend with 16 concurrent workers.\n",
      "[Parallel(n_jobs=16)]: Done  18 tasks      | elapsed:    0.0s\n",
      "[Parallel(n_jobs=16)]: Done 100 out of 100 | elapsed:    0.0s finished\n"
     ]
    },
    {
     "name": "stdout",
     "output_type": "stream",
     "text": [
      "Training Results:\n",
      "\n",
      "              precision    recall  f1-score   support\n",
      "\n",
      "         0.0       0.99      0.74      0.84    173132\n",
      "         1.0       0.24      0.90      0.38     16314\n",
      "\n",
      "    accuracy                           0.75    189446\n",
      "   macro avg       0.61      0.82      0.61    189446\n",
      "weighted avg       0.92      0.75      0.80    189446\n",
      "\n",
      "\n",
      "\n",
      "Testing Results:\n",
      "\n",
      "              precision    recall  f1-score   support\n",
      "\n",
      "         0.0       0.98      0.73      0.84     43425\n",
      "         1.0       0.22      0.83      0.34      3937\n",
      "\n",
      "    accuracy                           0.74     47362\n",
      "   macro avg       0.60      0.78      0.59     47362\n",
      "weighted avg       0.92      0.74      0.79     47362\n",
      "\n"
     ]
    }
   ],
   "source": [
    "## -- Undersampling --\n",
    "\n",
    "#Random Undersampling\n",
    "from imblearn.under_sampling import RandomUnderSampler\n",
    "\n",
    "sampler = RandomUnderSampler(random_state=11)\n",
    "\n",
    "train_evaluate(X_train, X_test, y_train, y_test, sampler)\n",
    "\n",
    "# Test Results:\n",
    "# Recall for 1.0: 0.01 -> 0.83 --> 0.83\n",
    "# Macro-Average F1: 0.48 -> 0.58 --> 0.59"
   ],
   "metadata": {
    "collapsed": false
   }
  },
  {
   "cell_type": "code",
   "execution_count": 11,
   "outputs": [],
   "source": [
    "import faiss\n",
    "\n",
    "#https://towardsdatascience.com/k-means-8x-faster-27x-lower-error-than-scikit-learns-in-25-lines-eaedc7a3a0c8\n",
    "# class FaissKMeans:\n",
    "#     def __init__(self, n_clusters=8, n_init=10, max_iter=300):\n",
    "#         self.n_clusters = n_clusters\n",
    "#         self.n_init = n_init\n",
    "#         self.max_iter = max_iter\n",
    "#         self.kmeans = None\n",
    "#         self.cluster_centers_ = None\n",
    "#         self.inertia_ = None\n",
    "#\n",
    "#     def fit(self, X, y=None):\n",
    "#         self.kmeans = faiss.Kmeans(d=X.shape[1],\n",
    "#                                    k=self.n_clusters,\n",
    "#                                    niter=self.max_iter,\n",
    "#                                    nredo=self.n_init)\n",
    "#         self.kmeans.train(X.astype(np.float32))\n",
    "#         self.cluster_centers_ = self.kmeans.centroids\n",
    "#         self.inertia_ = self.kmeans.obj[-1]\n",
    "#\n",
    "#     def predict(self, X):\n",
    "#         return self.kmeans.index.search(X.astype(np.float32), 1)[1]\n",
    "#\n",
    "#     def get_params(self, deep=True):\n",
    "#         out = dict()\n",
    "#         out[\"n_clusters\"] = self.n_clusters\n",
    "#         out[\"n_init\"] = self.n_init\n",
    "#         out[\"max_iter\"] = self.max_iter\n",
    "#         return out\n",
    "#\n",
    "#     def set_params(self, **params):\n",
    "#         for key, value in params.items():\n",
    "#             setattr(self, key, value)\n",
    "#         return self"
   ],
   "metadata": {
    "collapsed": false
   }
  },
  {
   "cell_type": "code",
   "execution_count": 12,
   "outputs": [
    {
     "name": "stderr",
     "output_type": "stream",
     "text": [
      "C:\\VSCode\\Uni\\COM618-DataScience\\Practice\\01-ReadDataSet\\venv\\lib\\site-packages\\sklearn\\cluster\\_kmeans.py:870: FutureWarning: The default value of `n_init` will change from 3 to 'auto' in 1.4. Set the value of `n_init` explicitly to suppress the warning\n",
      "  warnings.warn(\n"
     ]
    },
    {
     "name": "stdout",
     "output_type": "stream",
     "text": [
      "Init 1/3 with method k-means++\n",
      "Inertia for init 1/3: 331535.9225749999\n",
      "Init 2/3 with method k-means++\n",
      "Inertia for init 2/3: 333136.7548999997\n",
      "Init 3/3 with method k-means++\n",
      "Inertia for init 3/3: 334069.0760499998\n",
      "[MiniBatchKMeans] Reassigning 2048 cluster centers.\n",
      "Minibatch step 1/4226: mean batch inertia: 6.561894854736329\n",
      "[MiniBatchKMeans] Reassigning 2048 cluster centers.\n",
      "Minibatch step 2/4226: mean batch inertia: 7.273075881266277, ewa inertia: 7.273075881266277\n",
      "[MiniBatchKMeans] Reassigning 2048 cluster centers.\n",
      "Minibatch step 3/4226: mean batch inertia: 7.245167257879279, ewa inertia: 7.271755350559904\n",
      "[MiniBatchKMeans] Reassigning 2048 cluster centers.\n",
      "Minibatch step 4/4226: mean batch inertia: 7.283605307125247, ewa inertia: 7.272316045772159\n",
      "[MiniBatchKMeans] Reassigning 2048 cluster centers.\n",
      "Minibatch step 5/4226: mean batch inertia: 7.296393980422934, ewa inertia: 7.2734553227480045\n",
      "[MiniBatchKMeans] Reassigning 2048 cluster centers.\n",
      "Minibatch step 6/4226: mean batch inertia: 6.9776057633347826, ewa inertia: 7.25945683839948\n",
      "[MiniBatchKMeans] Reassigning 2048 cluster centers.\n",
      "Minibatch step 7/4226: mean batch inertia: 7.08138795827387, ewa inertia: 7.251031291184396\n",
      "[MiniBatchKMeans] Reassigning 2048 cluster centers.\n",
      "Minibatch step 8/4226: mean batch inertia: 7.066659133304943, ewa inertia: 7.242307496660252\n",
      "[MiniBatchKMeans] Reassigning 2048 cluster centers.\n",
      "Minibatch step 9/4226: mean batch inertia: 6.745082901988115, ewa inertia: 7.218780705814173\n",
      "[MiniBatchKMeans] Reassigning 2048 cluster centers.\n",
      "Minibatch step 10/4226: mean batch inertia: 6.832215514327993, ewa inertia: 7.20048990019852\n",
      "[MiniBatchKMeans] Reassigning 2048 cluster centers.\n",
      "Minibatch step 11/4226: mean batch inertia: 6.741668490514921, ewa inertia: 7.178780203097863\n",
      "[MiniBatchKMeans] Reassigning 2048 cluster centers.\n",
      "Minibatch step 12/4226: mean batch inertia: 6.9080886269788975, ewa inertia: 7.165972099549916\n",
      "[MiniBatchKMeans] Reassigning 2048 cluster centers.\n",
      "Minibatch step 13/4226: mean batch inertia: 6.6552655209267675, ewa inertia: 7.1418073921164344\n",
      "[MiniBatchKMeans] Reassigning 1935 cluster centers.\n",
      "Minibatch step 14/4226: mean batch inertia: 6.591297684453639, ewa inertia: 7.115759350869683\n",
      "Minibatch step 15/4226: mean batch inertia: 6.247228763639573, ewa inertia: 7.074663762099264\n",
      "Minibatch step 16/4226: mean batch inertia: 6.523908693590219, ewa inertia: 7.048604111303482\n",
      "Minibatch step 17/4226: mean batch inertia: 6.276869762228012, ewa inertia: 7.012088555126287\n",
      "Minibatch step 18/4226: mean batch inertia: 6.3757941393433075, ewa inertia: 6.9819815053201015\n",
      "Minibatch step 19/4226: mean batch inertia: 6.21963940863273, ewa inertia: 6.945910355071085\n",
      "Minibatch step 20/4226: mean batch inertia: 6.067651258939602, ewa inertia: 6.904354449983614\n",
      "Minibatch step 21/4226: mean batch inertia: 6.184659359541661, ewa inertia: 6.870301195081887\n",
      "Minibatch step 22/4226: mean batch inertia: 6.281544531898081, ewa inertia: 6.842443452278367\n",
      "Minibatch step 23/4226: mean batch inertia: 6.107067731147384, ewa inertia: 6.80764824912527\n",
      "Minibatch step 24/4226: mean batch inertia: 6.001483090365901, ewa inertia: 6.769503557006744\n",
      "Minibatch step 25/4226: mean batch inertia: 5.888761901823245, ewa inertia: 6.727830186596347\n",
      "Minibatch step 26/4226: mean batch inertia: 5.968556883079567, ewa inertia: 6.691904240055771\n",
      "Minibatch step 27/4226: mean batch inertia: 5.724340162535058, ewa inertia: 6.646122760366458\n",
      "Minibatch step 28/4226: mean batch inertia: 6.047197632546031, ewa inertia: 6.617783884201284\n",
      "Minibatch step 29/4226: mean batch inertia: 5.954826795485213, ewa inertia: 6.586415257360866\n",
      "Minibatch step 30/4226: mean batch inertia: 5.96294712128367, ewa inertia: 6.556915098692418\n",
      "Minibatch step 31/4226: mean batch inertia: 5.9615044931315, ewa inertia: 6.5287425164535895\n",
      "Minibatch step 32/4226: mean batch inertia: 5.5568194159273085, ewa inertia: 6.482754784250535\n",
      "Minibatch step 33/4226: mean batch inertia: 5.803952747475631, ewa inertia: 6.450636434281089\n",
      "Minibatch step 34/4226: mean batch inertia: 5.793803167917987, ewa inertia: 6.419557563597588\n",
      "Minibatch step 35/4226: mean batch inertia: 5.657850160275213, ewa inertia: 6.383516444642699\n",
      "Minibatch step 36/4226: mean batch inertia: 5.7851449236490105, ewa inertia: 6.355203763062756\n",
      "Minibatch step 37/4226: mean batch inertia: 5.7778255137485734, ewa inertia: 6.327884403851156\n",
      "Minibatch step 38/4226: mean batch inertia: 5.586393180746358, ewa inertia: 6.292799838230075\n",
      "Minibatch step 39/4226: mean batch inertia: 5.717747155906465, ewa inertia: 6.265590516069684\n",
      "Minibatch step 40/4226: mean batch inertia: 5.468673083717742, ewa inertia: 6.227883391455502\n",
      "Minibatch step 41/4226: mean batch inertia: 5.671903745329011, ewa inertia: 6.201576533369128\n",
      "Minibatch step 42/4226: mean batch inertia: 5.749628706990856, ewa inertia: 6.18019206828338\n",
      "Minibatch step 43/4226: mean batch inertia: 5.714610275806396, ewa inertia: 6.158162495388718\n",
      "Minibatch step 44/4226: mean batch inertia: 5.595882183321594, ewa inertia: 6.1315575135744265\n",
      "Minibatch step 45/4226: mean batch inertia: 5.511593082854968, ewa inertia: 6.102223137017364\n",
      "Minibatch step 46/4226: mean batch inertia: 5.653683328423726, ewa inertia: 6.0809999264682535\n",
      "Minibatch step 47/4226: mean batch inertia: 5.519440745628817, ewa inertia: 6.054429065861456\n",
      "Minibatch step 48/4226: mean batch inertia: 5.50770289135125, ewa inertia: 6.0285600471210214\n",
      "Minibatch step 49/4226: mean batch inertia: 5.526219775273327, ewa inertia: 6.004791201742172\n",
      "Minibatch step 50/4226: mean batch inertia: 5.536909130627322, ewa inertia: 5.982652788345692\n",
      "Minibatch step 51/4226: mean batch inertia: 5.485140513648308, ewa inertia: 5.959112385566782\n",
      "Minibatch step 52/4226: mean batch inertia: 5.4930976232290565, ewa inertia: 5.937062326172728\n",
      "Minibatch step 53/4226: mean batch inertia: 5.751778317468799, ewa inertia: 5.928295386309717\n",
      "Minibatch step 54/4226: mean batch inertia: 5.572009067255708, ewa inertia: 5.911437262637797\n",
      "Minibatch step 55/4226: mean batch inertia: 5.611813066264305, ewa inertia: 5.897260176717195\n",
      "Minibatch step 56/4226: mean batch inertia: 5.396735618638428, ewa inertia: 5.873577244059751\n",
      "Minibatch step 57/4226: mean batch inertia: 5.446280114067999, ewa inertia: 5.853359156873065\n",
      "Minibatch step 58/4226: mean batch inertia: 5.597498286893516, ewa inertia: 5.841252786355183\n",
      "Minibatch step 59/4226: mean batch inertia: 5.423347734588801, ewa inertia: 5.821479096855953\n",
      "Minibatch step 60/4226: mean batch inertia: 5.267642590425932, ewa inertia: 5.795273644049875\n",
      "Minibatch step 61/4226: mean batch inertia: 5.635801097613397, ewa inertia: 5.7877280051456355\n",
      "Minibatch step 62/4226: mean batch inertia: 5.441615347185543, ewa inertia: 5.7713512607121125\n",
      "Minibatch step 63/4226: mean batch inertia: 5.415802094368428, ewa inertia: 5.754528016323766\n",
      "Minibatch step 64/4226: mean batch inertia: 5.371588393338501, ewa inertia: 5.736408758923413\n",
      "Minibatch step 65/4226: mean batch inertia: 5.371648394892055, ewa inertia: 5.719149675431849\n",
      "Minibatch step 66/4226: mean batch inertia: 5.236640546561483, ewa inertia: 5.696319164878077\n",
      "Minibatch step 67/4226: mean batch inertia: 5.321814715796543, ewa inertia: 5.678599028064899\n",
      "Minibatch step 68/4226: mean batch inertia: 5.446663198355873, ewa inertia: 5.66762470013795\n",
      "Minibatch step 69/4226: mean batch inertia: 5.486454223587743, ewa inertia: 5.659052397088276\n",
      "Minibatch step 70/4226: mean batch inertia: 5.302704688592539, ewa inertia: 5.642191368699713\n",
      "Minibatch step 71/4226: mean batch inertia: 5.431925990978123, ewa inertia: 5.63224240475699\n",
      "Minibatch step 72/4226: mean batch inertia: 5.190563493560005, ewa inertia: 5.611343825973479\n",
      "Minibatch step 73/4226: mean batch inertia: 5.363178403518463, ewa inertia: 5.599601574982902\n",
      "Minibatch step 74/4226: mean batch inertia: 5.526410961946399, ewa inertia: 5.5961384714613605\n",
      "Minibatch step 75/4226: mean batch inertia: 5.249658391771939, ewa inertia: 5.579744342018587\n",
      "Minibatch step 76/4226: mean batch inertia: 5.34417793730718, ewa inertia: 5.568598228987588\n",
      "Minibatch step 77/4226: mean batch inertia: 5.469259357731773, ewa inertia: 5.563897888594203\n",
      "Minibatch step 78/4226: mean batch inertia: 5.205156520148955, ewa inertia: 5.54692360125266\n",
      "Minibatch step 79/4226: mean batch inertia: 5.343268610237711, ewa inertia: 5.537287415855338\n",
      "Minibatch step 80/4226: mean batch inertia: 5.438295303762778, ewa inertia: 5.532603482796578\n",
      "Minibatch step 81/4226: mean batch inertia: 5.481880210077717, ewa inertia: 5.530203449006873\n",
      "Minibatch step 82/4226: mean batch inertia: 5.467780217843769, ewa inertia: 5.527249817349776\n",
      "Minibatch step 83/4226: mean batch inertia: 5.311203986618701, ewa inertia: 5.517027344191285\n",
      "Minibatch step 84/4226: mean batch inertia: 5.360410965478744, ewa inertia: 5.509616848361991\n",
      "Minibatch step 85/4226: mean batch inertia: 5.309690457783643, ewa inertia: 5.50015708626223\n",
      "Minibatch step 86/4226: mean batch inertia: 5.29838780707083, ewa inertia: 5.490610125630022\n",
      "Minibatch step 87/4226: mean batch inertia: 5.255532464468888, ewa inertia: 5.479487138098864\n",
      "Minibatch step 88/4226: mean batch inertia: 5.257773647371808, ewa inertia: 5.46899649266422\n",
      "Minibatch step 89/4226: mean batch inertia: 5.451755713053333, ewa inertia: 5.4681807240552756\n",
      "Minibatch step 90/4226: mean batch inertia: 5.201015943231818, ewa inertia: 5.455539495147408\n",
      "Minibatch step 91/4226: mean batch inertia: 5.228834654097973, ewa inertia: 5.444812677857365\n",
      "Minibatch step 92/4226: mean batch inertia: 5.299901874503378, ewa inertia: 5.437956045666645\n",
      "Minibatch step 93/4226: mean batch inertia: 5.30609330446081, ewa inertia: 5.431716798521628\n",
      "[MiniBatchKMeans] Reassigning 171 cluster centers.\n",
      "Minibatch step 94/4226: mean batch inertia: 5.385180947502782, ewa inertia: 5.429514897719664\n",
      "Minibatch step 95/4226: mean batch inertia: 5.3385823929961855, ewa inertia: 5.4252123148573865\n",
      "Minibatch step 96/4226: mean batch inertia: 5.3412335990185635, ewa inertia: 5.421238759035263\n",
      "Minibatch step 97/4226: mean batch inertia: 5.3266152507716535, ewa inertia: 5.41676153181864\n",
      "Minibatch step 98/4226: mean batch inertia: 5.296044755788893, ewa inertia: 5.411049669670836\n",
      "Minibatch step 99/4226: mean batch inertia: 5.235704644719992, ewa inertia: 5.4027530050003385\n",
      "Minibatch step 100/4226: mean batch inertia: 5.186891066992494, ewa inertia: 5.392539232951334\n",
      "Minibatch step 101/4226: mean batch inertia: 5.156273097189699, ewa inertia: 5.381360011288454\n",
      "Minibatch step 102/4226: mean batch inertia: 5.103532471745444, ewa inertia: 5.3682142608888395\n",
      "Minibatch step 103/4226: mean batch inertia: 5.263980302917502, ewa inertia: 5.363282303470547\n",
      "Minibatch step 104/4226: mean batch inertia: 5.170204804739366, ewa inertia: 5.354146605079103\n",
      "Minibatch step 105/4226: mean batch inertia: 5.250145941558436, ewa inertia: 5.349225686273553\n",
      "Minibatch step 106/4226: mean batch inertia: 5.3302930223742795, ewa inertia: 5.348329864086778\n",
      "Minibatch step 107/4226: mean batch inertia: 5.218125477301027, ewa inertia: 5.342169084012795\n",
      "Minibatch step 108/4226: mean batch inertia: 5.247194247030997, ewa inertia: 5.337675233247459\n",
      "Minibatch step 109/4226: mean batch inertia: 5.227321161158621, ewa inertia: 5.332453695131953\n",
      "Minibatch step 110/4226: mean batch inertia: 5.086599468479281, ewa inertia: 5.320820801202206\n",
      "Minibatch step 111/4226: mean batch inertia: 5.116495669720811, ewa inertia: 5.311152907287726\n",
      "Minibatch step 112/4226: mean batch inertia: 5.33887740189493, ewa inertia: 5.312464725715305\n",
      "Minibatch step 113/4226: mean batch inertia: 5.156988221959573, ewa inertia: 5.305108164466051\n",
      "Minibatch step 114/4226: mean batch inertia: 5.393245998949429, ewa inertia: 5.309278514082171\n",
      "Minibatch step 115/4226: mean batch inertia: 5.21708244812569, ewa inertia: 5.304916144272167\n",
      "Minibatch step 116/4226: mean batch inertia: 5.253219375486618, ewa inertia: 5.302470048323438\n",
      "Minibatch step 117/4226: mean batch inertia: 5.121677021978963, ewa inertia: 5.293915604792661\n",
      "Minibatch step 118/4226: mean batch inertia: 5.054015298210123, ewa inertia: 5.282564427885172\n",
      "Minibatch step 119/4226: mean batch inertia: 5.109728720174597, ewa inertia: 5.274386494634058\n",
      "Minibatch step 120/4226: mean batch inertia: 5.24647799103719, ewa inertia: 5.273065969595702\n",
      "Minibatch step 121/4226: mean batch inertia: 5.259197279324242, ewa inertia: 5.272409755524994\n",
      "Minibatch step 122/4226: mean batch inertia: 5.1904655363981425, ewa inertia: 5.268532464407257\n",
      "Minibatch step 123/4226: mean batch inertia: 5.124118265925066, ewa inertia: 5.261699329684436\n",
      "Minibatch step 124/4226: mean batch inertia: 5.304412613081556, ewa inertia: 5.263720361016356\n",
      "Minibatch step 125/4226: mean batch inertia: 5.089016762204048, ewa inertia: 5.255454046209413\n",
      "Minibatch step 126/4226: mean batch inertia: 5.000806797487496, ewa inertia: 5.2434050996681405\n",
      "Minibatch step 127/4226: mean batch inertia: 5.081673100233725, ewa inertia: 5.235752551977251\n",
      "Minibatch step 128/4226: mean batch inertia: 5.125327900363514, ewa inertia: 5.230527674305058\n",
      "Minibatch step 129/4226: mean batch inertia: 5.20645112984912, ewa inertia: 5.229388463107984\n",
      "Minibatch step 130/4226: mean batch inertia: 5.297647481517993, ewa inertia: 5.232618222188083\n",
      "Minibatch step 131/4226: mean batch inertia: 4.979332117262339, ewa inertia: 5.220633679833062\n",
      "Minibatch step 132/4226: mean batch inertia: 5.095316372155522, ewa inertia: 5.214704137894238\n",
      "Minibatch step 133/4226: mean batch inertia: 5.122633777875049, ewa inertia: 5.210347716014659\n",
      "Minibatch step 134/4226: mean batch inertia: 5.231289296560603, ewa inertia: 5.211338592553691\n",
      "Minibatch step 135/4226: mean batch inertia: 5.122136456748529, ewa inertia: 5.207117884216656\n",
      "Minibatch step 136/4226: mean batch inertia: 5.048988952668227, ewa inertia: 5.199635820096905\n",
      "Minibatch step 137/4226: mean batch inertia: 5.141719611440431, ewa inertia: 5.196895443731256\n",
      "Minibatch step 138/4226: mean batch inertia: 5.074118007717414, ewa inertia: 5.191086078931793\n",
      "Minibatch step 139/4226: mean batch inertia: 5.201642691577625, ewa inertia: 5.191585577992021\n",
      "Minibatch step 140/4226: mean batch inertia: 5.308970806969814, ewa inertia: 5.197139803909588\n",
      "Minibatch step 141/4226: mean batch inertia: 5.10783223694068, ewa inertia: 5.192914106967876\n",
      "Minibatch step 142/4226: mean batch inertia: 5.150790750777631, ewa inertia: 5.190920988764469\n",
      "Minibatch step 143/4226: mean batch inertia: 5.153510145713562, ewa inertia: 5.189150848893542\n",
      "Minibatch step 144/4226: mean batch inertia: 5.193639515637986, ewa inertia: 5.189363235659614\n",
      "Minibatch step 145/4226: mean batch inertia: 5.094881597398346, ewa inertia: 5.184892721195957\n",
      "Minibatch step 146/4226: mean batch inertia: 5.2539693599098936, ewa inertia: 5.188161166982401\n",
      "Minibatch step 147/4226: mean batch inertia: 5.1175625953521635, ewa inertia: 5.184820709075503\n",
      "Minibatch step 148/4226: mean batch inertia: 5.2223947572656915, ewa inertia: 5.186598571197536\n",
      "Minibatch step 149/4226: mean batch inertia: 5.201649126886085, ewa inertia: 5.187310706678355\n",
      "Minibatch step 150/4226: mean batch inertia: 5.23767797836196, ewa inertia: 5.1896938958429395\n",
      "Minibatch step 151/4226: mean batch inertia: 5.10173055818718, ewa inertia: 5.185531802757993\n",
      "Minibatch step 152/4226: mean batch inertia: 5.12016041214588, ewa inertia: 5.1824386753247795\n",
      "Minibatch step 153/4226: mean batch inertia: 5.231040134977465, ewa inertia: 5.184738312929828\n",
      "Minibatch step 154/4226: mean batch inertia: 5.120817673073024, ewa inertia: 5.181713829545915\n",
      "Minibatch step 155/4226: mean batch inertia: 5.160540360858659, ewa inertia: 5.18071198093539\n",
      "Minibatch step 156/4226: mean batch inertia: 5.06723193306559, ewa inertia: 5.175342533446179\n",
      "Minibatch step 157/4226: mean batch inertia: 5.084292929124416, ewa inertia: 5.17103440987295\n",
      "Minibatch step 158/4226: mean batch inertia: 5.176605962796415, ewa inertia: 5.1712980347252255\n",
      "Minibatch step 159/4226: mean batch inertia: 5.086188846122811, ewa inertia: 5.167270989199352\n",
      "Minibatch step 160/4226: mean batch inertia: 4.99423766801668, ewa inertia: 5.15908370562471\n",
      "Minibatch step 161/4226: mean batch inertia: 5.338290481767575, ewa inertia: 5.167563093783884\n",
      "Minibatch step 162/4226: mean batch inertia: 5.312941438806103, ewa inertia: 5.17444184828142\n",
      "Minibatch step 163/4226: mean batch inertia: 5.0181010155003, ewa inertia: 5.167044390245442\n",
      "Minibatch step 164/4226: mean batch inertia: 5.218326952518241, ewa inertia: 5.169470887505575\n",
      "Minibatch step 165/4226: mean batch inertia: 5.167900102354661, ewa inertia: 5.169396563881793\n",
      "Minibatch step 166/4226: mean batch inertia: 5.032968758952684, ewa inertia: 5.162941315154056\n",
      "Minibatch step 167/4226: mean batch inertia: 5.2729253708335015, ewa inertia: 5.168145345489844\n",
      "Minibatch step 168/4226: mean batch inertia: 5.313640355841537, ewa inertia: 5.175029620150371\n",
      "Minibatch step 169/4226: mean batch inertia: 5.223364801864249, ewa inertia: 5.177316658488528\n",
      "Minibatch step 170/4226: mean batch inertia: 4.940783345330889, ewa inertia: 5.1661247949998375\n",
      "Converged (lack of improvement in inertia) at step 170/4226\n"
     ]
    },
    {
     "name": "stderr",
     "output_type": "stream",
     "text": [
      "[Parallel(n_jobs=-1)]: Using backend ThreadingBackend with 16 concurrent workers.\n",
      "[Parallel(n_jobs=-1)]: Done  18 tasks      | elapsed:    0.2s\n",
      "[Parallel(n_jobs=-1)]: Done 100 out of 100 | elapsed:    0.9s finished\n",
      "[Parallel(n_jobs=16)]: Using backend ThreadingBackend with 16 concurrent workers.\n",
      "[Parallel(n_jobs=16)]: Done  18 tasks      | elapsed:    0.0s\n",
      "[Parallel(n_jobs=16)]: Done 100 out of 100 | elapsed:    0.3s finished\n",
      "[Parallel(n_jobs=16)]: Using backend ThreadingBackend with 16 concurrent workers.\n",
      "[Parallel(n_jobs=16)]: Done  18 tasks      | elapsed:    0.0s\n",
      "[Parallel(n_jobs=16)]: Done 100 out of 100 | elapsed:    0.0s finished\n"
     ]
    },
    {
     "name": "stdout",
     "output_type": "stream",
     "text": [
      "Training Results:\n",
      "\n",
      "              precision    recall  f1-score   support\n",
      "\n",
      "         0.0       1.00      0.18      0.31    173132\n",
      "         1.0       0.10      1.00      0.19     16314\n",
      "\n",
      "    accuracy                           0.25    189446\n",
      "   macro avg       0.55      0.59      0.25    189446\n",
      "weighted avg       0.92      0.25      0.30    189446\n",
      "\n",
      "\n",
      "\n",
      "Testing Results:\n",
      "\n",
      "              precision    recall  f1-score   support\n",
      "\n",
      "         0.0       1.00      0.18      0.31     43425\n",
      "         1.0       0.10      0.99      0.18      3937\n",
      "\n",
      "    accuracy                           0.25     47362\n",
      "   macro avg       0.55      0.59      0.24     47362\n",
      "weighted avg       0.92      0.25      0.30     47362\n",
      "\n"
     ]
    }
   ],
   "source": [
    "# Cluster Centroid Undersampling\n",
    "from imblearn.under_sampling import ClusterCentroids\n",
    "from sklearn.cluster import MiniBatchKMeans\n",
    "\n",
    "skipKMeans = True\n",
    "\n",
    "if not skipKMeans:\n",
    "    kmeans = MiniBatchKMeans(verbose=1, batch_size=4096)\n",
    "    sampler = ClusterCentroids(estimator=kmeans)\n",
    "\n",
    "    # Time consuming\n",
    "    train_evaluate(X_train, X_test, y_train, y_test, sampler)\n",
    "\n",
    "    # Test Results:\n",
    "    # Recall for 1.0: 0.01 -> 0.98\n",
    "    # Macro-Average F1: 0.48 -> 0.33"
   ],
   "metadata": {
    "collapsed": false
   }
  },
  {
   "cell_type": "code",
   "execution_count": 13,
   "outputs": [
    {
     "name": "stderr",
     "output_type": "stream",
     "text": [
      "[Parallel(n_jobs=-1)]: Using backend ThreadingBackend with 16 concurrent workers.\n",
      "[Parallel(n_jobs=-1)]: Done  18 tasks      | elapsed:    2.4s\n",
      "[Parallel(n_jobs=-1)]: Done 100 out of 100 | elapsed:    8.1s finished\n",
      "[Parallel(n_jobs=16)]: Using backend ThreadingBackend with 16 concurrent workers.\n",
      "[Parallel(n_jobs=16)]: Done  18 tasks      | elapsed:    0.0s\n",
      "[Parallel(n_jobs=16)]: Done 100 out of 100 | elapsed:    0.2s finished\n",
      "[Parallel(n_jobs=16)]: Using backend ThreadingBackend with 16 concurrent workers.\n",
      "[Parallel(n_jobs=16)]: Done  18 tasks      | elapsed:    0.0s\n",
      "[Parallel(n_jobs=16)]: Done 100 out of 100 | elapsed:    0.0s finished\n"
     ]
    },
    {
     "name": "stdout",
     "output_type": "stream",
     "text": [
      "Training Results:\n",
      "\n",
      "              precision    recall  f1-score   support\n",
      "\n",
      "         0.0       0.98      0.72      0.83    173132\n",
      "         1.0       0.22      0.83      0.35     16314\n",
      "\n",
      "    accuracy                           0.73    189446\n",
      "   macro avg       0.60      0.78      0.59    189446\n",
      "weighted avg       0.91      0.73      0.79    189446\n",
      "\n",
      "\n",
      "\n",
      "Testing Results:\n",
      "\n",
      "              precision    recall  f1-score   support\n",
      "\n",
      "         0.0       0.98      0.72      0.83     43425\n",
      "         1.0       0.21      0.83      0.34      3937\n",
      "\n",
      "    accuracy                           0.73     47362\n",
      "   macro avg       0.60      0.78      0.59     47362\n",
      "weighted avg       0.92      0.73      0.79     47362\n",
      "\n"
     ]
    }
   ],
   "source": [
    "## Oversampling\n",
    "\n",
    "# Random Oversampling\n",
    "from imblearn.over_sampling import RandomOverSampler\n",
    "sampler = RandomOverSampler(random_state=11)\n",
    "\n",
    "train_evaluate(X_train, X_test, y_train, y_test, sampler, basic=True)\n",
    "# Test Results:\n",
    "# Recall for 1.0: 0.01 -> 0.83\n",
    "# Macro-Average F1: 0.48 -> 0.59"
   ],
   "metadata": {
    "collapsed": false
   }
  },
  {
   "cell_type": "code",
   "execution_count": 14,
   "outputs": [
    {
     "name": "stderr",
     "output_type": "stream",
     "text": [
      "[Parallel(n_jobs=-1)]: Using backend ThreadingBackend with 16 concurrent workers.\n",
      "[Parallel(n_jobs=-1)]: Done  18 tasks      | elapsed:    2.5s\n",
      "[Parallel(n_jobs=-1)]: Done 100 out of 100 | elapsed:    8.9s finished\n",
      "[Parallel(n_jobs=16)]: Using backend ThreadingBackend with 16 concurrent workers.\n",
      "[Parallel(n_jobs=16)]: Done  18 tasks      | elapsed:    0.0s\n",
      "[Parallel(n_jobs=16)]: Done 100 out of 100 | elapsed:    0.2s finished\n",
      "[Parallel(n_jobs=16)]: Using backend ThreadingBackend with 16 concurrent workers.\n",
      "[Parallel(n_jobs=16)]: Done  18 tasks      | elapsed:    0.0s\n",
      "[Parallel(n_jobs=16)]: Done 100 out of 100 | elapsed:    0.0s finished\n"
     ]
    },
    {
     "name": "stdout",
     "output_type": "stream",
     "text": [
      "Training Results:\n",
      "\n",
      "              precision    recall  f1-score   support\n",
      "\n",
      "         0.0       0.96      0.85      0.90    173132\n",
      "         1.0       0.28      0.60      0.38     16314\n",
      "\n",
      "    accuracy                           0.83    189446\n",
      "   macro avg       0.62      0.73      0.64    189446\n",
      "weighted avg       0.90      0.83      0.86    189446\n",
      "\n",
      "\n",
      "\n",
      "Testing Results:\n",
      "\n",
      "              precision    recall  f1-score   support\n",
      "\n",
      "         0.0       0.96      0.86      0.90     43425\n",
      "         1.0       0.27      0.60      0.38      3937\n",
      "\n",
      "    accuracy                           0.83     47362\n",
      "   macro avg       0.62      0.73      0.64     47362\n",
      "weighted avg       0.90      0.83      0.86     47362\n",
      "\n"
     ]
    }
   ],
   "source": [
    "#SMOTE Oversampling\n",
    "from imblearn.over_sampling import SMOTE\n",
    "\n",
    "sampler = SMOTE(k_neighbors=5, random_state=11)\n",
    "train_evaluate(X_train, X_test, y_train, y_test, sampler, basic=True)\n",
    "# Test Results:\n",
    "# Recall for 1.0: 0.01 -> 0.61 - 0.35 - 0.40\n",
    "# Macro-Average F1: 0.48 -> 0.64 -> 0.65 - 0.66"
   ],
   "metadata": {
    "collapsed": false
   }
  },
  {
   "cell_type": "code",
   "execution_count": 15,
   "outputs": [
    {
     "name": "stderr",
     "output_type": "stream",
     "text": [
      "[Parallel(n_jobs=-1)]: Using backend ThreadingBackend with 16 concurrent workers.\n",
      "[Parallel(n_jobs=-1)]: Done  18 tasks      | elapsed:    2.6s\n",
      "[Parallel(n_jobs=-1)]: Done 100 out of 100 | elapsed:    8.8s finished\n",
      "[Parallel(n_jobs=16)]: Using backend ThreadingBackend with 16 concurrent workers.\n",
      "[Parallel(n_jobs=16)]: Done  18 tasks      | elapsed:    0.0s\n",
      "[Parallel(n_jobs=16)]: Done 100 out of 100 | elapsed:    0.2s finished\n",
      "[Parallel(n_jobs=16)]: Using backend ThreadingBackend with 16 concurrent workers.\n",
      "[Parallel(n_jobs=16)]: Done  18 tasks      | elapsed:    0.0s\n",
      "[Parallel(n_jobs=16)]: Done 100 out of 100 | elapsed:    0.0s finished\n"
     ]
    },
    {
     "name": "stdout",
     "output_type": "stream",
     "text": [
      "Training Results:\n",
      "\n",
      "              precision    recall  f1-score   support\n",
      "\n",
      "         0.0       0.96      0.86      0.90    173132\n",
      "         1.0       0.28      0.60      0.38     16314\n",
      "\n",
      "    accuracy                           0.84    189446\n",
      "   macro avg       0.62      0.73      0.64    189446\n",
      "weighted avg       0.90      0.84      0.86    189446\n",
      "\n",
      "\n",
      "\n",
      "Testing Results:\n",
      "\n",
      "              precision    recall  f1-score   support\n",
      "\n",
      "         0.0       0.96      0.86      0.91     43425\n",
      "         1.0       0.28      0.59      0.38      3937\n",
      "\n",
      "    accuracy                           0.84     47362\n",
      "   macro avg       0.62      0.73      0.64     47362\n",
      "weighted avg       0.90      0.84      0.86     47362\n",
      "\n"
     ]
    }
   ],
   "source": [
    "# Borderline SMOTE\n",
    "from imblearn.over_sampling import BorderlineSMOTE\n",
    "sampler = BorderlineSMOTE(k_neighbors=5, random_state=11)\n",
    "\n",
    "train_evaluate(X_train, X_test, y_train, y_test, sampler, basic=True)\n",
    "# Test Results:\n",
    "# Recall for 1.0: 0.01 -> 0.59\n",
    "# Macro-Average F1: 0.48 -> 0.64"
   ],
   "metadata": {
    "collapsed": false
   }
  },
  {
   "cell_type": "code",
   "execution_count": 16,
   "outputs": [
    {
     "name": "stderr",
     "output_type": "stream",
     "text": [
      "[Parallel(n_jobs=-1)]: Using backend ThreadingBackend with 16 concurrent workers.\n",
      "[Parallel(n_jobs=-1)]: Done  18 tasks      | elapsed:    2.5s\n",
      "[Parallel(n_jobs=-1)]: Done 100 out of 100 | elapsed:    8.5s finished\n",
      "[Parallel(n_jobs=16)]: Using backend ThreadingBackend with 16 concurrent workers.\n",
      "[Parallel(n_jobs=16)]: Done  18 tasks      | elapsed:    0.0s\n",
      "[Parallel(n_jobs=16)]: Done 100 out of 100 | elapsed:    0.2s finished\n",
      "[Parallel(n_jobs=16)]: Using backend ThreadingBackend with 16 concurrent workers.\n",
      "[Parallel(n_jobs=16)]: Done  18 tasks      | elapsed:    0.0s\n",
      "[Parallel(n_jobs=16)]: Done 100 out of 100 | elapsed:    0.0s finished\n"
     ]
    },
    {
     "name": "stdout",
     "output_type": "stream",
     "text": [
      "Training Results:\n",
      "\n",
      "              precision    recall  f1-score   support\n",
      "\n",
      "         0.0       0.96      0.86      0.90    173132\n",
      "         1.0       0.28      0.60      0.38     16314\n",
      "\n",
      "    accuracy                           0.84    189446\n",
      "   macro avg       0.62      0.73      0.64    189446\n",
      "weighted avg       0.90      0.84      0.86    189446\n",
      "\n",
      "\n",
      "\n",
      "Testing Results:\n",
      "\n",
      "              precision    recall  f1-score   support\n",
      "\n",
      "         0.0       0.96      0.86      0.91     43425\n",
      "         1.0       0.28      0.59      0.38      3937\n",
      "\n",
      "    accuracy                           0.84     47362\n",
      "   macro avg       0.62      0.73      0.64     47362\n",
      "weighted avg       0.90      0.84      0.86     47362\n",
      "\n"
     ]
    }
   ],
   "source": [
    "from smote_variants import DBSMOTE\n",
    "oversampler = DBSMOTE(min_samples=10)\n",
    "\n",
    "train_evaluate(X_train, X_test, y_train, y_test, sampler, basic=True)\n",
    "# Test Results:\n",
    "# Recall for 1.0: 0.01 -> 0.6\n",
    "# Macro-Average F1: 0.48 -> 0.64"
   ],
   "metadata": {
    "collapsed": false
   }
  },
  {
   "cell_type": "code",
   "execution_count": 17,
   "outputs": [],
   "source": [
    "# Scaling\n",
    "from sklearn.preprocessing import MinMaxScaler\n",
    "\n",
    "scaler = MinMaxScaler()\n",
    "\n",
    "X_train_scal = scaler.fit_transform(X_train)\n",
    "X_train_scal = pd.DataFrame(X_train_scal, columns=X_train.columns)\n",
    "\n",
    "X_test_scal = scaler.transform(X_test)\n",
    "X_test_scal = pd.DataFrame(X_test_scal, columns=X_test.columns)\n",
    "\n",
    "#df_scaled = scaler.fit_transform(df.to_numpy())\n",
    "#df_scaled = pd.DataFrame(df_scaled, columns=df.columns)\n",
    "\n",
    "#X_scal = df.drop(y_col, axis=1)\n",
    "#y_scal = df[y_col]\n",
    "\n",
    "#X_scal_train, X_scal_test, y_scal_train, y_scal_test = train_test_split(X_scal, y_scal, test_size=0.1, random_state=45)"
   ],
   "metadata": {
    "collapsed": false
   }
  },
  {
   "cell_type": "code",
   "execution_count": 18,
   "outputs": [
    {
     "name": "stdout",
     "output_type": "stream",
     "text": [
      "Training Results:\n",
      "\n",
      "              precision    recall  f1-score   support\n",
      "\n",
      "         0.0       0.98      0.75      0.85    173132\n",
      "         1.0       0.24      0.84      0.37     16314\n",
      "\n",
      "    accuracy                           0.75    189446\n",
      "   macro avg       0.61      0.79      0.61    189446\n",
      "weighted avg       0.92      0.75      0.81    189446\n",
      "\n",
      "\n",
      "\n",
      "Testing Results:\n",
      "\n",
      "              precision    recall  f1-score   support\n",
      "\n",
      "         0.0       0.98      0.74      0.85     43425\n",
      "         1.0       0.23      0.82      0.35      3937\n",
      "\n",
      "    accuracy                           0.75     47362\n",
      "   macro avg       0.60      0.78      0.60     47362\n",
      "weighted avg       0.92      0.75      0.80     47362\n",
      "\n"
     ]
    }
   ],
   "source": [
    "from sklearn.ensemble import HistGradientBoostingClassifier\n",
    "model2 = HistGradientBoostingClassifier(class_weight='balanced')\n",
    "\n",
    "train_evaluate(X_train_scal, X_test_scal, y_train, y_test, model=model2)\n",
    "# With Scaling\n",
    "# 0.83, 0.60"
   ],
   "metadata": {
    "collapsed": false
   }
  },
  {
   "cell_type": "code",
   "execution_count": 19,
   "outputs": [],
   "source": [
    "pd.set_option('display.float_format', lambda x: '%.3f' % x)\n",
    "\n",
    "X_clean = X.drop(\"DiabetesAge\", axis=1)\n",
    "\n",
    "toDrop = [\"DiabetesAge\"]\n",
    "\n",
    "X_cat = X.drop(toDrop, axis=1)\n",
    "X_cat[\"BMI\"] =  pd.cut(X_cat[\"BMI\"], [0,20,40,60,80,100], labels=[0, 1, 2, 3, 4] ,include_lowest=True)\n",
    "X_cat[\"FruitsPerDay\"] = pd.cut(X_cat[\"FruitsPerDay\"], [0,0.5,1,2,4,8], labels=[0, 1, 2, 3, 4] ,include_lowest=True)\n",
    "X_cat[\"DarkGreensPerDay\"] = pd.cut(X_cat[\"DarkGreensPerDay\"], [0,0.5,1,2,4, 8], labels=[0, 1, 2, 3, 4] ,include_lowest=True)\n",
    "X_cat[\"PotatoesPerDay\"] = pd.cut(X_cat[\"PotatoesPerDay\"], [0, 0.25, 0.5,1,2,4, 8], labels=[0, 1, 2, 3, 4, 5] ,include_lowest=True)\n",
    "X_cat[\"OtherVegPerDay\"] = pd.cut(X_cat[\"OtherVegPerDay\"], [0, 0.25, 0.5,1,2,4, 8], labels=[0, 1, 2, 3, 4, 5] ,include_lowest=True)\n",
    "X_cat[\"BadMentalHealthLast30Days\"] = pd.cut(X_cat[\"BadMentalHealthLast30Days\"], [0, 5, 10, 15, 20, 25, 30], labels=[0, 1, 2, 3, 4, 5] ,include_lowest=True)\n",
    "X_cat[\"BadPhysicalHealthLast30Days\"] = pd.cut(X_cat[\"BadPhysicalHealthLast30Days\"], [0, 5, 10, 15, 20, 25, 30], labels=[0, 1, 2, 3, 4, 5] ,include_lowest=True)"
   ],
   "metadata": {
    "collapsed": false
   }
  },
  {
   "cell_type": "code",
   "execution_count": 20,
   "outputs": [],
   "source": [
    "X_train_cat, X_test_cat, y_train_cat, y_test_cat = train_test_split(X_cat, y, test_size=0.2, random_state=109)"
   ],
   "metadata": {
    "collapsed": false
   }
  },
  {
   "cell_type": "code",
   "execution_count": 21,
   "outputs": [
    {
     "data": {
      "text/plain": "False"
     },
     "execution_count": 21,
     "metadata": {},
     "output_type": "execute_result"
    }
   ],
   "source": [
    "np.any(np.isnan(y_test_cat.values))"
   ],
   "metadata": {
    "collapsed": false
   }
  },
  {
   "cell_type": "code",
   "execution_count": 22,
   "outputs": [],
   "source": [
    "from sklearn.naive_bayes import GaussianNB, MultinomialNB, ComplementNB, BernoulliNB, CategoricalNB\n",
    "from sklearn import metrics\n",
    "\n",
    "def evalBayes(model, sampler=None):\n",
    "\n",
    "    new_X_train_cat, new_X_test_cat, new_y_train_cat, new_y_test_cat = train_test_split(X_cat, y, test_size=0.2, random_state=109)\n",
    "\n",
    "    X_train_toUse = new_X_train_cat\n",
    "    y_train_toUse = new_y_train_cat\n",
    "\n",
    "    if(sampler is not None):\n",
    "        X_train_toUse, y_train_toUse = sampler.fit_resample(new_X_train_cat, new_y_train_cat)\n",
    "\n",
    "    model.fit(X_train_toUse, y_train_toUse)\n",
    "\n",
    "    new_y_pred_cat = model.predict(new_X_test_cat)\n",
    "\n",
    "    print(\"Accuracy: \", metrics.accuracy_score(new_y_test_cat, new_y_pred_cat))\n",
    "\n",
    "    print(classification_report(new_y_test_cat, new_y_pred_cat))\n",
    "\n",
    "    return model, new_y_test_cat, new_y_pred_cat"
   ],
   "metadata": {
    "collapsed": false
   }
  },
  {
   "cell_type": "code",
   "execution_count": 23,
   "outputs": [
    {
     "data": {
      "text/plain": "   HighBP  HighChol  CholCheckLast5Years BMI  Smoker  Stroke  Diabetes  \\\n0   0.000     1.000                1.000   0   1.000   0.000     0.000   \n1   1.000     1.000                1.000   1   0.000   0.000     2.000   \n2   0.000     1.000                1.000   1   0.000   1.000     2.000   \n3   0.000     0.000                1.000   1   1.000   0.000     0.000   \n4   1.000     0.000                1.000   1   1.000   0.000     0.000   \n\n   PhysActivityLast30Days FruitsPerDay DarkGreensPerDay  ... GeneralHealth  \\\n0                   0.000            1                1  ...         5.000   \n1                   1.000            0                0  ...         2.000   \n2                   1.000            1                1  ...         5.000   \n3                   0.000            0                0  ...         3.000   \n4                   1.000            1                0  ...         3.000   \n\n  BadMentalHealthLast30Days  BadPhysicalHealthLast30Days  DiffWalking   Sex  \\\n0                         1                            3        0.000 0.000   \n1                         1                            0        0.000 0.000   \n2                         0                            5        1.000 1.000   \n3                         0                            0        1.000 1.000   \n4                         0                            4        1.000 0.000   \n\n   AgeGroup HighestEducation IncomeGroup  HighBPMeds  CholMeds  \n0    11.000            4.000       5.000       0.000     1.000  \n1     9.000            4.000       7.000       1.000     0.000  \n2    12.000            3.000       4.000       0.000     1.000  \n3    13.000            5.000       6.000       0.000     0.000  \n4    10.000            4.000       8.000       1.000     1.000  \n\n[5 rows x 25 columns]",
      "text/html": "<div>\n<style scoped>\n    .dataframe tbody tr th:only-of-type {\n        vertical-align: middle;\n    }\n\n    .dataframe tbody tr th {\n        vertical-align: top;\n    }\n\n    .dataframe thead th {\n        text-align: right;\n    }\n</style>\n<table border=\"1\" class=\"dataframe\">\n  <thead>\n    <tr style=\"text-align: right;\">\n      <th></th>\n      <th>HighBP</th>\n      <th>HighChol</th>\n      <th>CholCheckLast5Years</th>\n      <th>BMI</th>\n      <th>Smoker</th>\n      <th>Stroke</th>\n      <th>Diabetes</th>\n      <th>PhysActivityLast30Days</th>\n      <th>FruitsPerDay</th>\n      <th>DarkGreensPerDay</th>\n      <th>...</th>\n      <th>GeneralHealth</th>\n      <th>BadMentalHealthLast30Days</th>\n      <th>BadPhysicalHealthLast30Days</th>\n      <th>DiffWalking</th>\n      <th>Sex</th>\n      <th>AgeGroup</th>\n      <th>HighestEducation</th>\n      <th>IncomeGroup</th>\n      <th>HighBPMeds</th>\n      <th>CholMeds</th>\n    </tr>\n  </thead>\n  <tbody>\n    <tr>\n      <th>0</th>\n      <td>0.000</td>\n      <td>1.000</td>\n      <td>1.000</td>\n      <td>0</td>\n      <td>1.000</td>\n      <td>0.000</td>\n      <td>0.000</td>\n      <td>0.000</td>\n      <td>1</td>\n      <td>1</td>\n      <td>...</td>\n      <td>5.000</td>\n      <td>1</td>\n      <td>3</td>\n      <td>0.000</td>\n      <td>0.000</td>\n      <td>11.000</td>\n      <td>4.000</td>\n      <td>5.000</td>\n      <td>0.000</td>\n      <td>1.000</td>\n    </tr>\n    <tr>\n      <th>1</th>\n      <td>1.000</td>\n      <td>1.000</td>\n      <td>1.000</td>\n      <td>1</td>\n      <td>0.000</td>\n      <td>0.000</td>\n      <td>2.000</td>\n      <td>1.000</td>\n      <td>0</td>\n      <td>0</td>\n      <td>...</td>\n      <td>2.000</td>\n      <td>1</td>\n      <td>0</td>\n      <td>0.000</td>\n      <td>0.000</td>\n      <td>9.000</td>\n      <td>4.000</td>\n      <td>7.000</td>\n      <td>1.000</td>\n      <td>0.000</td>\n    </tr>\n    <tr>\n      <th>2</th>\n      <td>0.000</td>\n      <td>1.000</td>\n      <td>1.000</td>\n      <td>1</td>\n      <td>0.000</td>\n      <td>1.000</td>\n      <td>2.000</td>\n      <td>1.000</td>\n      <td>1</td>\n      <td>1</td>\n      <td>...</td>\n      <td>5.000</td>\n      <td>0</td>\n      <td>5</td>\n      <td>1.000</td>\n      <td>1.000</td>\n      <td>12.000</td>\n      <td>3.000</td>\n      <td>4.000</td>\n      <td>0.000</td>\n      <td>1.000</td>\n    </tr>\n    <tr>\n      <th>3</th>\n      <td>0.000</td>\n      <td>0.000</td>\n      <td>1.000</td>\n      <td>1</td>\n      <td>1.000</td>\n      <td>0.000</td>\n      <td>0.000</td>\n      <td>0.000</td>\n      <td>0</td>\n      <td>0</td>\n      <td>...</td>\n      <td>3.000</td>\n      <td>0</td>\n      <td>0</td>\n      <td>1.000</td>\n      <td>1.000</td>\n      <td>13.000</td>\n      <td>5.000</td>\n      <td>6.000</td>\n      <td>0.000</td>\n      <td>0.000</td>\n    </tr>\n    <tr>\n      <th>4</th>\n      <td>1.000</td>\n      <td>0.000</td>\n      <td>1.000</td>\n      <td>1</td>\n      <td>1.000</td>\n      <td>0.000</td>\n      <td>0.000</td>\n      <td>1.000</td>\n      <td>1</td>\n      <td>0</td>\n      <td>...</td>\n      <td>3.000</td>\n      <td>0</td>\n      <td>4</td>\n      <td>1.000</td>\n      <td>0.000</td>\n      <td>10.000</td>\n      <td>4.000</td>\n      <td>8.000</td>\n      <td>1.000</td>\n      <td>1.000</td>\n    </tr>\n  </tbody>\n</table>\n<p>5 rows × 25 columns</p>\n</div>"
     },
     "execution_count": 23,
     "metadata": {},
     "output_type": "execute_result"
    }
   ],
   "source": [
    "X_cat.head()"
   ],
   "metadata": {
    "collapsed": false
   }
  },
  {
   "cell_type": "code",
   "execution_count": 24,
   "outputs": [],
   "source": [
    "to_predict = [0, 0, 0, 1, 0, 0, 0, 1, 2, 1, 1, 3, 0, 1, 1, 4, 0, 0, 0, 1, 0, 4, 5, 0, 0]"
   ],
   "metadata": {
    "collapsed": false
   }
  },
  {
   "cell_type": "code",
   "execution_count": 72,
   "outputs": [
    {
     "name": "stdout",
     "output_type": "stream",
     "text": [
      "Accuracy:  0.8091296820235632\n",
      "              precision    recall  f1-score   support\n",
      "\n",
      "         0.0       0.96      0.83      0.89     65137\n",
      "         1.0       0.25      0.62      0.35      5906\n",
      "\n",
      "    accuracy                           0.81     71043\n",
      "   macro avg       0.60      0.72      0.62     71043\n",
      "weighted avg       0.90      0.81      0.84     71043\n",
      "\n"
     ]
    },
    {
     "data": {
      "text/plain": "(GaussianNB(),\n 101637   0.000\n 118159   1.000\n 111167   0.000\n 164341   0.000\n 169897   0.000\n           ... \n 140673   0.000\n 200787   0.000\n 79426    0.000\n 232733   0.000\n 29106    0.000\n Name: HeartDiseaseOrAttack, Length: 71043, dtype: float64,\n array([0., 0., 0., ..., 0., 0., 0.]))"
     },
     "execution_count": 72,
     "metadata": {},
     "output_type": "execute_result"
    }
   ],
   "source": [
    "gnb = GaussianNB()\n",
    "\n",
    "evalBayes(gnb)"
   ],
   "metadata": {
    "collapsed": false
   }
  },
  {
   "cell_type": "code",
   "execution_count": 73,
   "outputs": [
    {
     "name": "stdout",
     "output_type": "stream",
     "text": [
      "Accuracy:  0.8578466562504399\n",
      "              precision    recall  f1-score   support\n",
      "\n",
      "         0.0       0.94      0.90      0.92     65137\n",
      "         1.0       0.26      0.40      0.32      5906\n",
      "\n",
      "    accuracy                           0.86     71043\n",
      "   macro avg       0.60      0.65      0.62     71043\n",
      "weighted avg       0.89      0.86      0.87     71043\n",
      "\n"
     ]
    },
    {
     "data": {
      "text/plain": "(MultinomialNB(),\n 101637   0.000\n 118159   1.000\n 111167   0.000\n 164341   0.000\n 169897   0.000\n           ... \n 140673   0.000\n 200787   0.000\n 79426    0.000\n 232733   0.000\n 29106    0.000\n Name: HeartDiseaseOrAttack, Length: 71043, dtype: float64,\n array([0., 0., 0., ..., 0., 0., 0.]))"
     },
     "execution_count": 73,
     "metadata": {},
     "output_type": "execute_result"
    }
   ],
   "source": [
    "evalBayes(MultinomialNB())"
   ],
   "metadata": {
    "collapsed": false
   }
  },
  {
   "cell_type": "code",
   "execution_count": 74,
   "outputs": [
    {
     "name": "stdout",
     "output_type": "stream",
     "text": [
      "Accuracy:  0.8578466562504399\n",
      "              precision    recall  f1-score   support\n",
      "\n",
      "         0.0       0.94      0.90      0.92     65137\n",
      "         1.0       0.26      0.40      0.32      5906\n",
      "\n",
      "    accuracy                           0.86     71043\n",
      "   macro avg       0.60      0.65      0.62     71043\n",
      "weighted avg       0.89      0.86      0.87     71043\n",
      "\n"
     ]
    },
    {
     "data": {
      "text/plain": "(MultinomialNB(),\n 101637   0.000\n 118159   1.000\n 111167   0.000\n 164341   0.000\n 169897   0.000\n           ... \n 140673   0.000\n 200787   0.000\n 79426    0.000\n 232733   0.000\n 29106    0.000\n Name: HeartDiseaseOrAttack, Length: 71043, dtype: float64,\n array([0., 0., 0., ..., 0., 0., 0.]))"
     },
     "execution_count": 74,
     "metadata": {},
     "output_type": "execute_result"
    }
   ],
   "source": [
    "evalBayes(MultinomialNB())"
   ],
   "metadata": {
    "collapsed": false
   }
  },
  {
   "cell_type": "code",
   "execution_count": 75,
   "outputs": [
    {
     "name": "stdout",
     "output_type": "stream",
     "text": [
      "Accuracy:  0.7499542530580071\n",
      "              precision    recall  f1-score   support\n",
      "\n",
      "         0.0       0.96      0.75      0.85     65137\n",
      "         1.0       0.21      0.70      0.32      5906\n",
      "\n",
      "    accuracy                           0.75     71043\n",
      "   macro avg       0.59      0.73      0.58     71043\n",
      "weighted avg       0.90      0.75      0.80     71043\n",
      "\n"
     ]
    },
    {
     "data": {
      "text/plain": "(ComplementNB(),\n 101637   0.000\n 118159   1.000\n 111167   0.000\n 164341   0.000\n 169897   0.000\n           ... \n 140673   0.000\n 200787   0.000\n 79426    0.000\n 232733   0.000\n 29106    0.000\n Name: HeartDiseaseOrAttack, Length: 71043, dtype: float64,\n array([0., 0., 1., ..., 0., 0., 0.]))"
     },
     "execution_count": 75,
     "metadata": {},
     "output_type": "execute_result"
    }
   ],
   "source": [
    "evalBayes(ComplementNB())"
   ],
   "metadata": {
    "collapsed": false
   }
  },
  {
   "cell_type": "code",
   "execution_count": 76,
   "outputs": [
    {
     "name": "stdout",
     "output_type": "stream",
     "text": [
      "Accuracy:  0.851076108835494\n",
      "              precision    recall  f1-score   support\n",
      "\n",
      "         0.0       0.95      0.88      0.92     65137\n",
      "         1.0       0.28      0.49      0.36      5906\n",
      "\n",
      "    accuracy                           0.85     71043\n",
      "   macro avg       0.61      0.69      0.64     71043\n",
      "weighted avg       0.89      0.85      0.87     71043\n",
      "\n"
     ]
    },
    {
     "data": {
      "text/plain": "(BernoulliNB(),\n 101637   0.000\n 118159   1.000\n 111167   0.000\n 164341   0.000\n 169897   0.000\n           ... \n 140673   0.000\n 200787   0.000\n 79426    0.000\n 232733   0.000\n 29106    0.000\n Name: HeartDiseaseOrAttack, Length: 71043, dtype: float64,\n array([0., 0., 0., ..., 0., 0., 0.]))"
     },
     "execution_count": 76,
     "metadata": {},
     "output_type": "execute_result"
    }
   ],
   "source": [
    "evalBayes(BernoulliNB())"
   ],
   "metadata": {
    "collapsed": false
   }
  },
  {
   "cell_type": "code",
   "execution_count": 77,
   "outputs": [
    {
     "name": "stdout",
     "output_type": "stream",
     "text": [
      "Accuracy:  0.8387314724884929\n",
      "              precision    recall  f1-score   support\n",
      "\n",
      "         0.0       0.96      0.86      0.91     65137\n",
      "         1.0       0.28      0.58      0.37      5906\n",
      "\n",
      "    accuracy                           0.84     71043\n",
      "   macro avg       0.62      0.72      0.64     71043\n",
      "weighted avg       0.90      0.84      0.86     71043\n",
      "\n"
     ]
    },
    {
     "data": {
      "text/plain": "(CategoricalNB(),\n 101637   0.000\n 118159   1.000\n 111167   0.000\n 164341   0.000\n 169897   0.000\n           ... \n 140673   0.000\n 200787   0.000\n 79426    0.000\n 232733   0.000\n 29106    0.000\n Name: HeartDiseaseOrAttack, Length: 71043, dtype: float64,\n array([0., 0., 0., ..., 0., 0., 0.]))"
     },
     "execution_count": 77,
     "metadata": {},
     "output_type": "execute_result"
    }
   ],
   "source": [
    "evalBayes(CategoricalNB())"
   ],
   "metadata": {
    "collapsed": false
   }
  },
  {
   "cell_type": "code",
   "execution_count": 25,
   "outputs": [
    {
     "name": "stdout",
     "output_type": "stream",
     "text": [
      "Accuracy:  0.9149318018664753\n",
      "              precision    recall  f1-score   support\n",
      "\n",
      "         0.0       0.92      0.99      0.96     43343\n",
      "         1.0       0.50      0.13      0.21      4019\n",
      "\n",
      "    accuracy                           0.91     47362\n",
      "   macro avg       0.71      0.56      0.58     47362\n",
      "weighted avg       0.89      0.91      0.89     47362\n",
      "\n"
     ]
    }
   ],
   "source": [
    "from sklearn.ensemble import HistGradientBoostingClassifier\n",
    "from sklearn.metrics import confusion_matrix, ConfusionMatrixDisplay\n",
    "\n",
    "sampler = BorderlineSMOTE(random_state=11)\n",
    "\n",
    "hgbc = HistGradientBoostingClassifier()\n",
    "\n",
    "m, test, pred = evalBayes(hgbc, sampler)"
   ],
   "metadata": {
    "collapsed": false
   }
  },
  {
   "cell_type": "code",
   "execution_count": 27,
   "outputs": [
    {
     "name": "stdout",
     "output_type": "stream",
     "text": [
      "Heart disease prediction: 0.0\n"
     ]
    },
    {
     "name": "stderr",
     "output_type": "stream",
     "text": [
      "C:\\VSCode\\Uni\\COM618-DataScience\\Practice\\01-ReadDataSet\\venv\\lib\\site-packages\\sklearn\\base.py:420: UserWarning: X does not have valid feature names, but HistGradientBoostingClassifier was fitted with feature names\n",
      "  warnings.warn(\n"
     ]
    }
   ],
   "source": [
    "to_predict_result = m.predict([to_predict])\n",
    "print(\"Heart disease prediction:\" , to_predict_result[0])"
   ],
   "metadata": {
    "collapsed": false
   }
  },
  {
   "cell_type": "code",
   "execution_count": 79,
   "outputs": [
    {
     "data": {
      "text/plain": "<Figure size 640x480 with 2 Axes>",
      "image/png": "[encoded data removed]"
     },
     "metadata": {},
     "output_type": "display_data"
    }
   ],
   "source": [
    "cm = confusion_matrix(test, pred)\n",
    "disp = ConfusionMatrixDisplay(confusion_matrix=cm)\n",
    "disp.plot(cmap=\"Blues\")\n",
    "plt.show()"
   ],
   "metadata": {
    "collapsed": false
   }
  },
  {
   "cell_type": "code",
   "execution_count": 146,
   "outputs": [
    {
     "name": "stdout",
     "output_type": "stream",
     "text": [
      "Accuracy:  0.9111946286052109\n",
      "              precision    recall  f1-score   support\n",
      "\n",
      "         0.0       0.92      0.99      0.95     43343\n",
      "         1.0       0.40      0.09      0.14      4019\n",
      "\n",
      "    accuracy                           0.91     47362\n",
      "   macro avg       0.66      0.54      0.55     47362\n",
      "weighted avg       0.88      0.91      0.88     47362\n",
      "\n"
     ]
    },
    {
     "data": {
      "text/plain": "(RandomForestClassifier(class_weight='balanced_subsample', n_jobs=-1),\n 101637   0.000\n 118159   1.000\n 111167   0.000\n 164341   0.000\n 169897   0.000\n           ... \n 90860    0.000\n 63804    0.000\n 150785   0.000\n 200909   0.000\n 121130   0.000\n Name: HeartDiseaseOrAttack, Length: 47362, dtype: float64,\n array([0., 1., 0., ..., 0., 0., 0.]))"
     },
     "execution_count": 146,
     "metadata": {},
     "output_type": "execute_result"
    }
   ],
   "source": [
    "rfc = RandomForestClassifier(n_jobs=-1, class_weight=\"balanced_subsample\")\n",
    "\n",
    "evalBayes(rfc)"
   ],
   "metadata": {
    "collapsed": false
   }
  },
  {
   "cell_type": "code",
   "execution_count": 147,
   "outputs": [
    {
     "name": "stdout",
     "output_type": "stream",
     "text": [
      "HighBP = 0.03840828236331124\n",
      "HighChol = 0.029855061265159324\n",
      "CholCheckLast5Years = 0.0032275233964878013\n",
      "BMI = 0.015595871247816235\n",
      "Smoker = 0.02252685066393977\n",
      "Stroke = 0.019288958160080073\n",
      "Diabetes = 0.028388374877905215\n",
      "PhysActivityLast30Days = 0.020930685932535917\n",
      "FruitsPerDay = 0.05469526694708619\n",
      "DarkGreensPerDay = 0.034480745711341514\n",
      "PotatoesPerDay = 0.039361104512134655\n",
      "OtherVegPerDay = 0.056075557925900715\n",
      "HeavyDrinker = 0.008996957326795101\n",
      "AnyHealthcare = 0.004285821390933245\n",
      "CantAffordHealthcare = 0.008539711213408184\n",
      "GeneralHealth = 0.07808552831222372\n",
      "BadMentalHealthLast30Days = 0.02699490332964225\n",
      "BadPhysicalHealthLast30Days = 0.02968311631835155\n",
      "DiffWalking = 0.027971449524484323\n",
      "Sex = 0.02532881973957854\n",
      "AgeGroup = 0.13915750598612062\n",
      "HighestEducation = 0.0516521356600778\n",
      "IncomeGroup = 0.09781576334322904\n",
      "HighBPMeds = 0.04856566890985538\n",
      "CholMeds = 0.09008833594160161\n"
     ]
    },
    {
     "data": {
      "text/plain": "<Figure size 640x480 with 1 Axes>",
      "image/png": "[encoded data removed]"
     },
     "metadata": {},
     "output_type": "display_data"
    }
   ],
   "source": [
    "for name, importance in zip(X_cat.columns, rfc.feature_importances_):\n",
    "    print(name, \"=\", importance)\n",
    "\n",
    "\n",
    "features = X_cat.columns\n",
    "importances = rfc.feature_importances_\n",
    "indices = np.argsort(importances)\n",
    "\n",
    "plt.title('Feature Importances')\n",
    "plt.barh(range(len(indices)), importances[indices], color='b', align='center')\n",
    "plt.yticks(range(len(indices)), [features[i] for i in indices])\n",
    "plt.xlabel('Relative Importance')\n",
    "plt.show()"
   ],
   "metadata": {
    "collapsed": false
   }
  },
  {
   "cell_type": "code",
   "execution_count": null,
   "outputs": [],
   "source": [],
   "metadata": {
    "collapsed": false
   }
  }
 ],
 "metadata": {
  "kernelspec": {
   "display_name": "Python 3",
   "language": "python",
   "name": "python3"
  },
  "language_info": {
   "codemirror_mode": {
    "name": "ipython",
    "version": 2
   },
   "file_extension": ".py",
   "mimetype": "text/x-python",
   "name": "python",
   "nbconvert_exporter": "python",
   "pygments_lexer": "ipython2",
   "version": "2.7.6"
  }
 },
 "nbformat": 4,
 "nbformat_minor": 0
}
