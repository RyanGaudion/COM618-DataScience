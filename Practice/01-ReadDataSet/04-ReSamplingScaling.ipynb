{
 "cells": [
  {
   "cell_type": "code",
   "execution_count": 98,
   "metadata": {
    "collapsed": true
   },
   "outputs": [],
   "source": [
    "import pandas as pd\n",
    "import numpy as np\n",
    "import matplotlib.pyplot as plt\n",
    "import seaborn as sns\n",
    "import plotly.express as px\n",
    "import math\n",
    "\n",
    "from sklearn.model_selection import train_test_split\n",
    "from sklearn.ensemble import RandomForestClassifier\n",
    "from sklearn.metrics import classification_report\n",
    "\n",
    "#Inspired by https://www.kaggle.com/code/mahmoudlimam/resampling-tutorial\n",
    "# Importance measurement - f1 score (recall & precision)\n",
    "\n",
    "y_col = \"HeartDiseaseOrAttack\"\n",
    "colsToDrop = [\"State\"]"
   ]
  },
  {
   "cell_type": "code",
   "execution_count": 99,
   "outputs": [],
   "source": [
    "df = pd.read_csv('../data/heart_disease_health_indicators_BRFSS2021.csv')\n",
    "\n",
    "for col in colsToDrop:\n",
    "    df = df.drop(col, axis=1)"
   ],
   "metadata": {
    "collapsed": false
   }
  },
  {
   "cell_type": "code",
   "execution_count": 100,
   "outputs": [
    {
     "data": {
      "text/plain": "<AxesSubplot: xlabel='HeartDiseaseOrAttack', ylabel='count'>"
     },
     "execution_count": 100,
     "metadata": {},
     "output_type": "execute_result"
    },
    {
     "data": {
      "text/plain": "<Figure size 640x480 with 1 Axes>",
      "image/png": "[encoded data removed]"
     },
     "metadata": {},
     "output_type": "display_data"
    }
   ],
   "source": [
    "sns.countplot(data=df, x=y_col)"
   ],
   "metadata": {
    "collapsed": false
   }
  },
  {
   "cell_type": "code",
   "execution_count": 101,
   "outputs": [],
   "source": [
    "X = df.drop(y_col, axis=1)\n",
    "y = df[y_col]\n",
    "\n",
    "X_train, X_test, y_train, y_test = train_test_split(X, y, test_size=0.2, random_state=45)"
   ],
   "metadata": {
    "collapsed": false
   }
  },
  {
   "cell_type": "code",
   "execution_count": 57,
   "outputs": [],
   "source": [
    "def train_evaluate(X_train, X_test, y_train, y_test, sampler=None, model=None, depth=12):\n",
    "\n",
    "    if model is None:\n",
    "        model = RandomForestClassifier(n_jobs=-1, max_depth=depth, class_weight=\"balanced_subsample\", verbose=1, random_state=9)\n",
    "        #model = RandomForestClassifier(n_jobs=-1, max_depth=6, verbose=1, random_state=7)\n",
    "\n",
    "    Xs_train, ys_train = X_train, y_train\n",
    "\n",
    "    if sampler is not None:\n",
    "        Xs_train, ys_train = sampler.fit_resample(X_train, y_train)\n",
    "\n",
    "    model.fit(Xs_train, ys_train)\n",
    "\n",
    "    y_pred_train = model.predict(X_train)\n",
    "    y_pred_test = model.predict(X_test)\n",
    "\n",
    "    print(\"Training Results:\\n\")\n",
    "    print(classification_report(y_train, y_pred_train))\n",
    "    print(\"\\n\\nTesting Results:\\n\")\n",
    "    print(classification_report(y_test, y_pred_test))"
   ],
   "metadata": {
    "collapsed": false
   }
  },
  {
   "cell_type": "code",
   "execution_count": 58,
   "outputs": [
    {
     "name": "stderr",
     "output_type": "stream",
     "text": [
      "[Parallel(n_jobs=-1)]: Using backend ThreadingBackend with 16 concurrent workers.\n",
      "[Parallel(n_jobs=-1)]: Done  18 tasks      | elapsed:    2.3s\n",
      "[Parallel(n_jobs=-1)]: Done 100 out of 100 | elapsed:    7.2s finished\n",
      "[Parallel(n_jobs=16)]: Using backend ThreadingBackend with 16 concurrent workers.\n",
      "[Parallel(n_jobs=16)]: Done  18 tasks      | elapsed:    0.0s\n",
      "[Parallel(n_jobs=16)]: Done 100 out of 100 | elapsed:    0.3s finished\n",
      "[Parallel(n_jobs=16)]: Using backend ThreadingBackend with 16 concurrent workers.\n",
      "[Parallel(n_jobs=16)]: Done  18 tasks      | elapsed:    0.0s\n",
      "[Parallel(n_jobs=16)]: Done 100 out of 100 | elapsed:    0.0s finished\n"
     ]
    },
    {
     "name": "stdout",
     "output_type": "stream",
     "text": [
      "Training Results:\n",
      "\n",
      "              precision    recall  f1-score   support\n",
      "\n",
      "         0.0       0.98      0.72      0.83    173132\n",
      "         1.0       0.22      0.83      0.35     16314\n",
      "\n",
      "    accuracy                           0.73    189446\n",
      "   macro avg       0.60      0.78      0.59    189446\n",
      "weighted avg       0.91      0.73      0.79    189446\n",
      "\n",
      "\n",
      "\n",
      "Testing Results:\n",
      "\n",
      "              precision    recall  f1-score   support\n",
      "\n",
      "         0.0       0.98      0.72      0.83     43425\n",
      "         1.0       0.21      0.83      0.34      3937\n",
      "\n",
      "    accuracy                           0.73     47362\n",
      "   macro avg       0.60      0.78      0.59     47362\n",
      "weighted avg       0.92      0.73      0.79     47362\n",
      "\n"
     ]
    }
   ],
   "source": [
    "# Without re-sampling\n",
    "train_evaluate(X_train, X_test, y_train, y_test, depth=6)\n",
    "\n",
    "# With no re-sampling we get for test (max depth 6, default):\n",
    "# Recall for 1.0: 0.01 --> 0.83\n",
    "# Macro-Average F1: 0.48 --> 0.59\n",
    "\n",
    "\n",
    "# 1 = 0.75, 0.58\n",
    "# 2 = 0.78, 0.59\n",
    "# 3 = 0.74, 0.59\n",
    "# 6 = 0.83, 0.59 # High recall, low precision\n",
    "# 10 = 0.8, 0.61\n",
    "# 15 = 0.58, 0.65\n",
    "# 20 = 0.31, 0.63\n",
    "# 25 = 0.14, 0.58\n",
    "# 50 = 0.06, 0.53"
   ],
   "metadata": {
    "collapsed": false
   }
  },
  {
   "cell_type": "code",
   "execution_count": 59,
   "outputs": [
    {
     "name": "stderr",
     "output_type": "stream",
     "text": [
      "[Parallel(n_jobs=-1)]: Using backend ThreadingBackend with 16 concurrent workers.\n",
      "[Parallel(n_jobs=-1)]: Done  18 tasks      | elapsed:    0.5s\n",
      "[Parallel(n_jobs=-1)]: Done 100 out of 100 | elapsed:    1.7s finished\n",
      "[Parallel(n_jobs=16)]: Using backend ThreadingBackend with 16 concurrent workers.\n",
      "[Parallel(n_jobs=16)]: Done  18 tasks      | elapsed:    0.1s\n",
      "[Parallel(n_jobs=16)]: Done 100 out of 100 | elapsed:    0.4s finished\n",
      "[Parallel(n_jobs=16)]: Using backend ThreadingBackend with 16 concurrent workers.\n",
      "[Parallel(n_jobs=16)]: Done  18 tasks      | elapsed:    0.0s\n",
      "[Parallel(n_jobs=16)]: Done 100 out of 100 | elapsed:    0.0s finished\n"
     ]
    },
    {
     "name": "stdout",
     "output_type": "stream",
     "text": [
      "Training Results:\n",
      "\n",
      "              precision    recall  f1-score   support\n",
      "\n",
      "         0.0       0.99      0.74      0.84    173132\n",
      "         1.0       0.24      0.90      0.38     16314\n",
      "\n",
      "    accuracy                           0.75    189446\n",
      "   macro avg       0.61      0.82      0.61    189446\n",
      "weighted avg       0.92      0.75      0.80    189446\n",
      "\n",
      "\n",
      "\n",
      "Testing Results:\n",
      "\n",
      "              precision    recall  f1-score   support\n",
      "\n",
      "         0.0       0.98      0.73      0.84     43425\n",
      "         1.0       0.22      0.83      0.34      3937\n",
      "\n",
      "    accuracy                           0.74     47362\n",
      "   macro avg       0.60      0.78      0.59     47362\n",
      "weighted avg       0.92      0.74      0.79     47362\n",
      "\n"
     ]
    }
   ],
   "source": [
    "## -- Undersampling --\n",
    "\n",
    "#Random Undersampling\n",
    "from imblearn.under_sampling import RandomUnderSampler\n",
    "\n",
    "sampler = RandomUnderSampler(random_state=11)\n",
    "\n",
    "train_evaluate(X_train, X_test, y_train, y_test, sampler)\n",
    "\n",
    "# Test Results:\n",
    "# Recall for 1.0: 0.01 -> 0.83 --> 0.83\n",
    "# Macro-Average F1: 0.48 -> 0.58 --> 0.59"
   ],
   "metadata": {
    "collapsed": false
   }
  },
  {
   "cell_type": "code",
   "execution_count": 60,
   "outputs": [],
   "source": [
    "import faiss\n",
    "\n",
    "#https://towardsdatascience.com/k-means-8x-faster-27x-lower-error-than-scikit-learns-in-25-lines-eaedc7a3a0c8\n",
    "# class FaissKMeans:\n",
    "#     def __init__(self, n_clusters=8, n_init=10, max_iter=300):\n",
    "#         self.n_clusters = n_clusters\n",
    "#         self.n_init = n_init\n",
    "#         self.max_iter = max_iter\n",
    "#         self.kmeans = None\n",
    "#         self.cluster_centers_ = None\n",
    "#         self.inertia_ = None\n",
    "#\n",
    "#     def fit(self, X, y=None):\n",
    "#         self.kmeans = faiss.Kmeans(d=X.shape[1],\n",
    "#                                    k=self.n_clusters,\n",
    "#                                    niter=self.max_iter,\n",
    "#                                    nredo=self.n_init)\n",
    "#         self.kmeans.train(X.astype(np.float32))\n",
    "#         self.cluster_centers_ = self.kmeans.centroids\n",
    "#         self.inertia_ = self.kmeans.obj[-1]\n",
    "#\n",
    "#     def predict(self, X):\n",
    "#         return self.kmeans.index.search(X.astype(np.float32), 1)[1]\n",
    "#\n",
    "#     def get_params(self, deep=True):\n",
    "#         out = dict()\n",
    "#         out[\"n_clusters\"] = self.n_clusters\n",
    "#         out[\"n_init\"] = self.n_init\n",
    "#         out[\"max_iter\"] = self.max_iter\n",
    "#         return out\n",
    "#\n",
    "#     def set_params(self, **params):\n",
    "#         for key, value in params.items():\n",
    "#             setattr(self, key, value)\n",
    "#         return self"
   ],
   "metadata": {
    "collapsed": false
   }
  },
  {
   "cell_type": "code",
   "execution_count": 61,
   "outputs": [],
   "source": [
    "# Cluster Centroid Undersampling\n",
    "from imblearn.under_sampling import ClusterCentroids\n",
    "from sklearn.cluster import MiniBatchKMeans\n",
    "\n",
    "kmeans = MiniBatchKMeans(verbose=1, batch_size=4096)\n",
    "sampler = ClusterCentroids(estimator=kmeans)\n",
    "\n",
    "# Time consuming\n",
    "# train_evaluate(X_train, X_test, y_train, y_test, sampler)\n",
    "\n",
    "# Test Results:\n",
    "# Recall for 1.0: 0.01 -> 0.98\n",
    "# Macro-Average F1: 0.48 -> 0.33"
   ],
   "metadata": {
    "collapsed": false
   }
  },
  {
   "cell_type": "code",
   "execution_count": 62,
   "outputs": [
    {
     "name": "stderr",
     "output_type": "stream",
     "text": [
      "[Parallel(n_jobs=-1)]: Using backend ThreadingBackend with 16 concurrent workers.\n",
      "[Parallel(n_jobs=-1)]: Done  18 tasks      | elapsed:    5.7s\n",
      "[Parallel(n_jobs=-1)]: Done 100 out of 100 | elapsed:   16.7s finished\n",
      "[Parallel(n_jobs=16)]: Using backend ThreadingBackend with 16 concurrent workers.\n",
      "[Parallel(n_jobs=16)]: Done  18 tasks      | elapsed:    0.1s\n",
      "[Parallel(n_jobs=16)]: Done 100 out of 100 | elapsed:    0.5s finished\n",
      "[Parallel(n_jobs=16)]: Using backend ThreadingBackend with 16 concurrent workers.\n",
      "[Parallel(n_jobs=16)]: Done  18 tasks      | elapsed:    0.0s\n",
      "[Parallel(n_jobs=16)]: Done 100 out of 100 | elapsed:    0.0s finished\n"
     ]
    },
    {
     "name": "stdout",
     "output_type": "stream",
     "text": [
      "Training Results:\n",
      "\n",
      "              precision    recall  f1-score   support\n",
      "\n",
      "         0.0       0.99      0.79      0.88    173132\n",
      "         1.0       0.29      0.88      0.43     16314\n",
      "\n",
      "    accuracy                           0.80    189446\n",
      "   macro avg       0.64      0.84      0.66    189446\n",
      "weighted avg       0.93      0.80      0.84    189446\n",
      "\n",
      "\n",
      "\n",
      "Testing Results:\n",
      "\n",
      "              precision    recall  f1-score   support\n",
      "\n",
      "         0.0       0.97      0.78      0.87     43425\n",
      "         1.0       0.24      0.77      0.37      3937\n",
      "\n",
      "    accuracy                           0.78     47362\n",
      "   macro avg       0.61      0.77      0.62     47362\n",
      "weighted avg       0.91      0.78      0.83     47362\n",
      "\n"
     ]
    }
   ],
   "source": [
    "## Oversampling\n",
    "\n",
    "# Random Oversampling\n",
    "from imblearn.over_sampling import RandomOverSampler\n",
    "sampler = RandomOverSampler(random_state=11)\n",
    "\n",
    "train_evaluate(X_train, X_test, y_train, y_test, sampler)\n",
    "# Test Results:\n",
    "# Recall for 1.0: 0.01 -> 0.83 -> 0.70\n",
    "# Macro-Average F1: 0.48 -> 0.59 -> 0.63"
   ],
   "metadata": {
    "collapsed": false
   }
  },
  {
   "cell_type": "code",
   "execution_count": 63,
   "outputs": [
    {
     "name": "stderr",
     "output_type": "stream",
     "text": [
      "[Parallel(n_jobs=-1)]: Using backend ThreadingBackend with 16 concurrent workers.\n",
      "[Parallel(n_jobs=-1)]: Done  18 tasks      | elapsed:    6.2s\n",
      "[Parallel(n_jobs=-1)]: Done 100 out of 100 | elapsed:   19.0s finished\n",
      "[Parallel(n_jobs=16)]: Using backend ThreadingBackend with 16 concurrent workers.\n",
      "[Parallel(n_jobs=16)]: Done  18 tasks      | elapsed:    0.1s\n",
      "[Parallel(n_jobs=16)]: Done 100 out of 100 | elapsed:    0.5s finished\n",
      "[Parallel(n_jobs=16)]: Using backend ThreadingBackend with 16 concurrent workers.\n",
      "[Parallel(n_jobs=16)]: Done  18 tasks      | elapsed:    0.0s\n",
      "[Parallel(n_jobs=16)]: Done 100 out of 100 | elapsed:    0.0s finished\n"
     ]
    },
    {
     "name": "stdout",
     "output_type": "stream",
     "text": [
      "Training Results:\n",
      "\n",
      "              precision    recall  f1-score   support\n",
      "\n",
      "         0.0       0.95      0.93      0.94    173132\n",
      "         1.0       0.39      0.45      0.41     16314\n",
      "\n",
      "    accuracy                           0.89    189446\n",
      "   macro avg       0.67      0.69      0.68    189446\n",
      "weighted avg       0.90      0.89      0.90    189446\n",
      "\n",
      "\n",
      "\n",
      "Testing Results:\n",
      "\n",
      "              precision    recall  f1-score   support\n",
      "\n",
      "         0.0       0.94      0.93      0.94     43425\n",
      "         1.0       0.35      0.40      0.37      3937\n",
      "\n",
      "    accuracy                           0.89     47362\n",
      "   macro avg       0.65      0.67      0.66     47362\n",
      "weighted avg       0.90      0.89      0.89     47362\n",
      "\n"
     ]
    }
   ],
   "source": [
    "#SMOTE Oversampling\n",
    "from imblearn.over_sampling import SMOTE\n",
    "\n",
    "sampler = SMOTE(k_neighbors=5, random_state=11)\n",
    "train_evaluate(X_train, X_test, y_train, y_test, sampler)\n",
    "# Test Results:\n",
    "# Recall for 1.0: 0.01 -> 0.61 - 0.35\n",
    "# Macro-Average F1: 0.48 -> 0.64 -> 0.65"
   ],
   "metadata": {
    "collapsed": false
   }
  },
  {
   "cell_type": "code",
   "execution_count": 64,
   "outputs": [
    {
     "name": "stderr",
     "output_type": "stream",
     "text": [
      "[Parallel(n_jobs=-1)]: Using backend ThreadingBackend with 16 concurrent workers.\n",
      "[Parallel(n_jobs=-1)]: Done  18 tasks      | elapsed:    5.1s\n",
      "[Parallel(n_jobs=-1)]: Done 100 out of 100 | elapsed:   15.6s finished\n",
      "[Parallel(n_jobs=16)]: Using backend ThreadingBackend with 16 concurrent workers.\n",
      "[Parallel(n_jobs=16)]: Done  18 tasks      | elapsed:    0.0s\n",
      "[Parallel(n_jobs=16)]: Done 100 out of 100 | elapsed:    0.3s finished\n",
      "[Parallel(n_jobs=16)]: Using backend ThreadingBackend with 16 concurrent workers.\n",
      "[Parallel(n_jobs=16)]: Done  18 tasks      | elapsed:    0.0s\n",
      "[Parallel(n_jobs=16)]: Done 100 out of 100 | elapsed:    0.0s finished\n"
     ]
    },
    {
     "name": "stdout",
     "output_type": "stream",
     "text": [
      "Training Results:\n",
      "\n",
      "              precision    recall  f1-score   support\n",
      "\n",
      "         0.0       0.95      0.93      0.94    173132\n",
      "         1.0       0.38      0.47      0.42     16314\n",
      "\n",
      "    accuracy                           0.89    189446\n",
      "   macro avg       0.67      0.70      0.68    189446\n",
      "weighted avg       0.90      0.89      0.89    189446\n",
      "\n",
      "\n",
      "\n",
      "Testing Results:\n",
      "\n",
      "              precision    recall  f1-score   support\n",
      "\n",
      "         0.0       0.95      0.93      0.94     43425\n",
      "         1.0       0.35      0.42      0.38      3937\n",
      "\n",
      "    accuracy                           0.89     47362\n",
      "   macro avg       0.65      0.67      0.66     47362\n",
      "weighted avg       0.90      0.89      0.89     47362\n",
      "\n"
     ]
    }
   ],
   "source": [
    "# Borderline SMOTE\n",
    "from imblearn.over_sampling import BorderlineSMOTE\n",
    "sampler = BorderlineSMOTE(k_neighbors=5, random_state=11)\n",
    "\n",
    "train_evaluate(X_train, X_test, y_train, y_test, sampler)\n",
    "# Test Results:\n",
    "# Recall for 1.0: 0.01 -> 0.59\n",
    "# Macro-Average F1: 0.48 -> 0.64"
   ],
   "metadata": {
    "collapsed": false
   }
  },
  {
   "cell_type": "code",
   "execution_count": 65,
   "outputs": [
    {
     "name": "stderr",
     "output_type": "stream",
     "text": [
      "[Parallel(n_jobs=-1)]: Using backend ThreadingBackend with 16 concurrent workers.\n",
      "[Parallel(n_jobs=-1)]: Done  18 tasks      | elapsed:    5.0s\n",
      "[Parallel(n_jobs=-1)]: Done 100 out of 100 | elapsed:   16.0s finished\n",
      "[Parallel(n_jobs=16)]: Using backend ThreadingBackend with 16 concurrent workers.\n",
      "[Parallel(n_jobs=16)]: Done  18 tasks      | elapsed:    0.0s\n",
      "[Parallel(n_jobs=16)]: Done 100 out of 100 | elapsed:    0.4s finished\n",
      "[Parallel(n_jobs=16)]: Using backend ThreadingBackend with 16 concurrent workers.\n",
      "[Parallel(n_jobs=16)]: Done  18 tasks      | elapsed:    0.0s\n",
      "[Parallel(n_jobs=16)]: Done 100 out of 100 | elapsed:    0.0s finished\n"
     ]
    },
    {
     "name": "stdout",
     "output_type": "stream",
     "text": [
      "Training Results:\n",
      "\n",
      "              precision    recall  f1-score   support\n",
      "\n",
      "         0.0       0.95      0.93      0.94    173132\n",
      "         1.0       0.38      0.47      0.42     16314\n",
      "\n",
      "    accuracy                           0.89    189446\n",
      "   macro avg       0.67      0.70      0.68    189446\n",
      "weighted avg       0.90      0.89      0.89    189446\n",
      "\n",
      "\n",
      "\n",
      "Testing Results:\n",
      "\n",
      "              precision    recall  f1-score   support\n",
      "\n",
      "         0.0       0.95      0.93      0.94     43425\n",
      "         1.0       0.35      0.42      0.38      3937\n",
      "\n",
      "    accuracy                           0.89     47362\n",
      "   macro avg       0.65      0.67      0.66     47362\n",
      "weighted avg       0.90      0.89      0.89     47362\n",
      "\n"
     ]
    }
   ],
   "source": [
    "from smote_variants import DBSMOTE\n",
    "oversampler = DBSMOTE(min_samples=10)\n",
    "\n",
    "train_evaluate(X_train, X_test, y_train, y_test, sampler)\n",
    "# Test Results:\n",
    "# Recall for 1.0: 0.01 -> 0.6\n",
    "# Macro-Average F1: 0.48 -> 0.64"
   ],
   "metadata": {
    "collapsed": false
   }
  },
  {
   "cell_type": "code",
   "execution_count": 66,
   "outputs": [],
   "source": [
    "# Scaling\n",
    "from sklearn.preprocessing import MinMaxScaler\n",
    "\n",
    "scaler = MinMaxScaler()\n",
    "\n",
    "X_train_scal = scaler.fit_transform(X_train)\n",
    "X_train_scal = pd.DataFrame(X_train_scal, columns=X_train.columns)\n",
    "\n",
    "X_test_scal = scaler.transform(X_test)\n",
    "X_test_scal = pd.DataFrame(X_test_scal, columns=X_test.columns)\n",
    "\n",
    "#df_scaled = scaler.fit_transform(df.to_numpy())\n",
    "#df_scaled = pd.DataFrame(df_scaled, columns=df.columns)\n",
    "\n",
    "#X_scal = df.drop(y_col, axis=1)\n",
    "#y_scal = df[y_col]\n",
    "\n",
    "#X_scal_train, X_scal_test, y_scal_train, y_scal_test = train_test_split(X_scal, y_scal, test_size=0.1, random_state=45)"
   ],
   "metadata": {
    "collapsed": false
   }
  },
  {
   "cell_type": "code",
   "execution_count": 67,
   "outputs": [
    {
     "name": "stdout",
     "output_type": "stream",
     "text": [
      "Training Results:\n",
      "\n",
      "              precision    recall  f1-score   support\n",
      "\n",
      "         0.0       0.98      0.75      0.85    173132\n",
      "         1.0       0.24      0.84      0.37     16314\n",
      "\n",
      "    accuracy                           0.75    189446\n",
      "   macro avg       0.61      0.79      0.61    189446\n",
      "weighted avg       0.92      0.75      0.81    189446\n",
      "\n",
      "\n",
      "\n",
      "Testing Results:\n",
      "\n",
      "              precision    recall  f1-score   support\n",
      "\n",
      "         0.0       0.98      0.74      0.85     43425\n",
      "         1.0       0.23      0.82      0.35      3937\n",
      "\n",
      "    accuracy                           0.75     47362\n",
      "   macro avg       0.60      0.78      0.60     47362\n",
      "weighted avg       0.92      0.75      0.80     47362\n",
      "\n"
     ]
    }
   ],
   "source": [
    "from sklearn.ensemble import HistGradientBoostingClassifier\n",
    "model2 = HistGradientBoostingClassifier(class_weight='balanced')\n",
    "\n",
    "train_evaluate(X_train_scal, X_test_scal, y_train, y_test, model=model2)\n",
    "# With Scaling\n",
    "# 0.83, 0.60"
   ],
   "metadata": {
    "collapsed": false
   }
  },
  {
   "cell_type": "code",
   "execution_count": 120,
   "outputs": [],
   "source": [
    "pd.set_option('display.float_format', lambda x: '%.3f' % x)\n",
    "\n",
    "X_clean = X.drop(\"DiabetesAge\", axis=1)\n",
    "\n",
    "toDrop = [\"DiabetesAge\"]\n",
    "\n",
    "X_cat = X.drop(toDrop, axis=1)\n",
    "X_cat[\"BMI\"] =  pd.cut(X_cat[\"BMI\"], [0,20,40,60,80,100], labels=[0, 1, 2, 3, 4] ,include_lowest=True)\n",
    "X_cat[\"FruitsPerDay\"] = pd.cut(X_cat[\"FruitsPerDay\"], [0,0.5,1,2,4,8], labels=[0, 1, 2, 3, 4] ,include_lowest=True)\n",
    "X_cat[\"DarkGreensPerDay\"] = pd.cut(X_cat[\"DarkGreensPerDay\"], [0,0.5,1,2,4, 8], labels=[0, 1, 2, 3, 4] ,include_lowest=True)\n",
    "X_cat[\"PotatoesPerDay\"] = pd.cut(X_cat[\"PotatoesPerDay\"], [0, 0.25, 0.5,1,2,4, 8], labels=[0, 1, 2, 3, 4, 5] ,include_lowest=True)\n",
    "X_cat[\"OtherVegPerDay\"] = pd.cut(X_cat[\"OtherVegPerDay\"], [0, 0.25, 0.5,1,2,4, 8], labels=[0, 1, 2, 3, 4, 5] ,include_lowest=True)\n",
    "X_cat[\"BadMentalHealthLast30Days\"] = pd.cut(X_cat[\"BadMentalHealthLast30Days\"], [0, 5, 10, 15, 20, 25, 30], labels=[0, 1, 2, 3, 4, 5] ,include_lowest=True)\n",
    "X_cat[\"BadPhysicalHealthLast30Days\"] = pd.cut(X_cat[\"BadPhysicalHealthLast30Days\"], [0, 5, 10, 15, 20, 25, 30], labels=[0, 1, 2, 3, 4, 5] ,include_lowest=True)"
   ],
   "metadata": {
    "collapsed": false
   }
  },
  {
   "cell_type": "code",
   "execution_count": 121,
   "outputs": [],
   "source": [
    "X_train_cat, X_test_cat, y_train_cat, y_test_cat = train_test_split(X_cat, y, test_size=0.2, random_state=109)"
   ],
   "metadata": {
    "collapsed": false
   }
  },
  {
   "cell_type": "code",
   "execution_count": 122,
   "outputs": [
    {
     "data": {
      "text/plain": "False"
     },
     "execution_count": 122,
     "metadata": {},
     "output_type": "execute_result"
    }
   ],
   "source": [
    "np.any(np.isnan(y_test_cat.values))"
   ],
   "metadata": {
    "collapsed": false
   }
  },
  {
   "cell_type": "code",
   "execution_count": 142,
   "outputs": [],
   "source": [
    "from sklearn.naive_bayes import GaussianNB, MultinomialNB, ComplementNB, BernoulliNB, CategoricalNB\n",
    "from sklearn import metrics\n",
    "\n",
    "def evalBayes(model, sampler=None):\n",
    "\n",
    "    new_X_train_cat, new_X_test_cat, new_y_train_cat, new_y_test_cat = train_test_split(X_cat, y, test_size=0.2, random_state=109)\n",
    "\n",
    "    X_train_toUse = new_X_train_cat\n",
    "    y_train_toUse = new_y_train_cat\n",
    "\n",
    "    if(sampler is not None):\n",
    "        X_train_toUse, y_train_toUse = sampler.fit_resample(new_X_train_cat, new_y_train_cat)\n",
    "\n",
    "    model.fit(X_train_toUse, y_train_toUse)\n",
    "\n",
    "    new_y_pred_cat = model.predict(new_X_test_cat)\n",
    "\n",
    "    print(\"Accuracy: \", metrics.accuracy_score(new_y_test_cat, new_y_pred_cat))\n",
    "\n",
    "    print(classification_report(new_y_test_cat, new_y_pred_cat))\n",
    "\n",
    "    return model, new_y_test_cat, new_y_pred_cat"
   ],
   "metadata": {
    "collapsed": false
   }
  },
  {
   "cell_type": "code",
   "execution_count": 72,
   "outputs": [
    {
     "name": "stdout",
     "output_type": "stream",
     "text": [
      "Accuracy:  0.8091296820235632\n",
      "              precision    recall  f1-score   support\n",
      "\n",
      "         0.0       0.96      0.83      0.89     65137\n",
      "         1.0       0.25      0.62      0.35      5906\n",
      "\n",
      "    accuracy                           0.81     71043\n",
      "   macro avg       0.60      0.72      0.62     71043\n",
      "weighted avg       0.90      0.81      0.84     71043\n",
      "\n"
     ]
    },
    {
     "data": {
      "text/plain": "(GaussianNB(),\n 101637   0.000\n 118159   1.000\n 111167   0.000\n 164341   0.000\n 169897   0.000\n           ... \n 140673   0.000\n 200787   0.000\n 79426    0.000\n 232733   0.000\n 29106    0.000\n Name: HeartDiseaseOrAttack, Length: 71043, dtype: float64,\n array([0., 0., 0., ..., 0., 0., 0.]))"
     },
     "execution_count": 72,
     "metadata": {},
     "output_type": "execute_result"
    }
   ],
   "source": [
    "gnb = GaussianNB()\n",
    "\n",
    "evalBayes(gnb)"
   ],
   "metadata": {
    "collapsed": false
   }
  },
  {
   "cell_type": "code",
   "execution_count": 73,
   "outputs": [
    {
     "name": "stdout",
     "output_type": "stream",
     "text": [
      "Accuracy:  0.8578466562504399\n",
      "              precision    recall  f1-score   support\n",
      "\n",
      "         0.0       0.94      0.90      0.92     65137\n",
      "         1.0       0.26      0.40      0.32      5906\n",
      "\n",
      "    accuracy                           0.86     71043\n",
      "   macro avg       0.60      0.65      0.62     71043\n",
      "weighted avg       0.89      0.86      0.87     71043\n",
      "\n"
     ]
    },
    {
     "data": {
      "text/plain": "(MultinomialNB(),\n 101637   0.000\n 118159   1.000\n 111167   0.000\n 164341   0.000\n 169897   0.000\n           ... \n 140673   0.000\n 200787   0.000\n 79426    0.000\n 232733   0.000\n 29106    0.000\n Name: HeartDiseaseOrAttack, Length: 71043, dtype: float64,\n array([0., 0., 0., ..., 0., 0., 0.]))"
     },
     "execution_count": 73,
     "metadata": {},
     "output_type": "execute_result"
    }
   ],
   "source": [
    "evalBayes(MultinomialNB())"
   ],
   "metadata": {
    "collapsed": false
   }
  },
  {
   "cell_type": "code",
   "execution_count": 74,
   "outputs": [
    {
     "name": "stdout",
     "output_type": "stream",
     "text": [
      "Accuracy:  0.8578466562504399\n",
      "              precision    recall  f1-score   support\n",
      "\n",
      "         0.0       0.94      0.90      0.92     65137\n",
      "         1.0       0.26      0.40      0.32      5906\n",
      "\n",
      "    accuracy                           0.86     71043\n",
      "   macro avg       0.60      0.65      0.62     71043\n",
      "weighted avg       0.89      0.86      0.87     71043\n",
      "\n"
     ]
    },
    {
     "data": {
      "text/plain": "(MultinomialNB(),\n 101637   0.000\n 118159   1.000\n 111167   0.000\n 164341   0.000\n 169897   0.000\n           ... \n 140673   0.000\n 200787   0.000\n 79426    0.000\n 232733   0.000\n 29106    0.000\n Name: HeartDiseaseOrAttack, Length: 71043, dtype: float64,\n array([0., 0., 0., ..., 0., 0., 0.]))"
     },
     "execution_count": 74,
     "metadata": {},
     "output_type": "execute_result"
    }
   ],
   "source": [
    "evalBayes(MultinomialNB())"
   ],
   "metadata": {
    "collapsed": false
   }
  },
  {
   "cell_type": "code",
   "execution_count": 75,
   "outputs": [
    {
     "name": "stdout",
     "output_type": "stream",
     "text": [
      "Accuracy:  0.7499542530580071\n",
      "              precision    recall  f1-score   support\n",
      "\n",
      "         0.0       0.96      0.75      0.85     65137\n",
      "         1.0       0.21      0.70      0.32      5906\n",
      "\n",
      "    accuracy                           0.75     71043\n",
      "   macro avg       0.59      0.73      0.58     71043\n",
      "weighted avg       0.90      0.75      0.80     71043\n",
      "\n"
     ]
    },
    {
     "data": {
      "text/plain": "(ComplementNB(),\n 101637   0.000\n 118159   1.000\n 111167   0.000\n 164341   0.000\n 169897   0.000\n           ... \n 140673   0.000\n 200787   0.000\n 79426    0.000\n 232733   0.000\n 29106    0.000\n Name: HeartDiseaseOrAttack, Length: 71043, dtype: float64,\n array([0., 0., 1., ..., 0., 0., 0.]))"
     },
     "execution_count": 75,
     "metadata": {},
     "output_type": "execute_result"
    }
   ],
   "source": [
    "evalBayes(ComplementNB())"
   ],
   "metadata": {
    "collapsed": false
   }
  },
  {
   "cell_type": "code",
   "execution_count": 76,
   "outputs": [
    {
     "name": "stdout",
     "output_type": "stream",
     "text": [
      "Accuracy:  0.851076108835494\n",
      "              precision    recall  f1-score   support\n",
      "\n",
      "         0.0       0.95      0.88      0.92     65137\n",
      "         1.0       0.28      0.49      0.36      5906\n",
      "\n",
      "    accuracy                           0.85     71043\n",
      "   macro avg       0.61      0.69      0.64     71043\n",
      "weighted avg       0.89      0.85      0.87     71043\n",
      "\n"
     ]
    },
    {
     "data": {
      "text/plain": "(BernoulliNB(),\n 101637   0.000\n 118159   1.000\n 111167   0.000\n 164341   0.000\n 169897   0.000\n           ... \n 140673   0.000\n 200787   0.000\n 79426    0.000\n 232733   0.000\n 29106    0.000\n Name: HeartDiseaseOrAttack, Length: 71043, dtype: float64,\n array([0., 0., 0., ..., 0., 0., 0.]))"
     },
     "execution_count": 76,
     "metadata": {},
     "output_type": "execute_result"
    }
   ],
   "source": [
    "evalBayes(BernoulliNB())"
   ],
   "metadata": {
    "collapsed": false
   }
  },
  {
   "cell_type": "code",
   "execution_count": 77,
   "outputs": [
    {
     "name": "stdout",
     "output_type": "stream",
     "text": [
      "Accuracy:  0.8387314724884929\n",
      "              precision    recall  f1-score   support\n",
      "\n",
      "         0.0       0.96      0.86      0.91     65137\n",
      "         1.0       0.28      0.58      0.37      5906\n",
      "\n",
      "    accuracy                           0.84     71043\n",
      "   macro avg       0.62      0.72      0.64     71043\n",
      "weighted avg       0.90      0.84      0.86     71043\n",
      "\n"
     ]
    },
    {
     "data": {
      "text/plain": "(CategoricalNB(),\n 101637   0.000\n 118159   1.000\n 111167   0.000\n 164341   0.000\n 169897   0.000\n           ... \n 140673   0.000\n 200787   0.000\n 79426    0.000\n 232733   0.000\n 29106    0.000\n Name: HeartDiseaseOrAttack, Length: 71043, dtype: float64,\n array([0., 0., 0., ..., 0., 0., 0.]))"
     },
     "execution_count": 77,
     "metadata": {},
     "output_type": "execute_result"
    }
   ],
   "source": [
    "evalBayes(CategoricalNB())"
   ],
   "metadata": {
    "collapsed": false
   }
  },
  {
   "cell_type": "code",
   "execution_count": 78,
   "outputs": [
    {
     "name": "stdout",
     "output_type": "stream",
     "text": [
      "Accuracy:  0.9173036048590291\n",
      "              precision    recall  f1-score   support\n",
      "\n",
      "         0.0       0.93      0.99      0.96     65137\n",
      "         1.0       0.51      0.13      0.21      5906\n",
      "\n",
      "    accuracy                           0.92     71043\n",
      "   macro avg       0.72      0.56      0.58     71043\n",
      "weighted avg       0.89      0.92      0.89     71043\n",
      "\n"
     ]
    }
   ],
   "source": [
    "from sklearn.ensemble import HistGradientBoostingClassifier\n",
    "from sklearn.metrics import confusion_matrix, ConfusionMatrixDisplay\n",
    "\n",
    "sampler = BorderlineSMOTE(random_state=11)\n",
    "\n",
    "hgbc = HistGradientBoostingClassifier()\n",
    "\n",
    "m, test, pred = evalBayes(hgbc, sampler)"
   ],
   "metadata": {
    "collapsed": false
   }
  },
  {
   "cell_type": "code",
   "execution_count": 79,
   "outputs": [
    {
     "data": {
      "text/plain": "<Figure size 640x480 with 2 Axes>",
      "image/png": "[encoded data removed]"
     },
     "metadata": {},
     "output_type": "display_data"
    }
   ],
   "source": [
    "cm = confusion_matrix(test, pred)\n",
    "disp = ConfusionMatrixDisplay(confusion_matrix=cm)\n",
    "disp.plot(cmap=\"Blues\")\n",
    "plt.show()"
   ],
   "metadata": {
    "collapsed": false
   }
  },
  {
   "cell_type": "code",
   "execution_count": 144,
   "outputs": [
    {
     "name": "stdout",
     "output_type": "stream",
     "text": [
      "Accuracy:  0.912862632490182\n",
      "              precision    recall  f1-score   support\n",
      "\n",
      "         0.0       0.92      0.99      0.95     43343\n",
      "         1.0       0.44      0.11      0.17      4019\n",
      "\n",
      "    accuracy                           0.91     47362\n",
      "   macro avg       0.68      0.55      0.56     47362\n",
      "weighted avg       0.88      0.91      0.89     47362\n",
      "\n"
     ]
    },
    {
     "data": {
      "text/plain": "(RandomForestClassifier(n_jobs=-1),\n 101637   0.000\n 118159   1.000\n 111167   0.000\n 164341   0.000\n 169897   0.000\n           ... \n 90860    0.000\n 63804    0.000\n 150785   0.000\n 200909   0.000\n 121130   0.000\n Name: HeartDiseaseOrAttack, Length: 47362, dtype: float64,\n array([0., 1., 0., ..., 0., 0., 0.]))"
     },
     "execution_count": 144,
     "metadata": {},
     "output_type": "execute_result"
    }
   ],
   "source": [
    "rfc = RandomForestClassifier(n_jobs=-1)\n",
    "\n",
    "evalBayes(rfc)"
   ],
   "metadata": {
    "collapsed": false
   }
  },
  {
   "cell_type": "code",
   "execution_count": 145,
   "outputs": [
    {
     "name": "stdout",
     "output_type": "stream",
     "text": [
      "HighBP = 0.016100884716838165\n",
      "HighChol = 0.023472227026804026\n",
      "CholCheckLast5Years = 0.003179718195783851\n",
      "BMI = 0.02053919883055021\n",
      "Smoker = 0.024562360444767894\n",
      "Stroke = 0.019880513144669647\n",
      "Diabetes = 0.03225629284556692\n",
      "PhysActivityLast30Days = 0.029307661416135996\n",
      "FruitsPerDay = 0.07299821787449765\n",
      "DarkGreensPerDay = 0.044685392293443885\n",
      "PotatoesPerDay = 0.05258014394704835\n",
      "OtherVegPerDay = 0.07336450390611034\n",
      "HeavyDrinker = 0.010448734421187857\n",
      "AnyHealthcare = 0.004684882420895623\n",
      "CantAffordHealthcare = 0.011234281837160971\n",
      "GeneralHealth = 0.06496978306012355\n",
      "BadMentalHealthLast30Days = 0.03595454380203185\n",
      "BadPhysicalHealthLast30Days = 0.03895933382645157\n",
      "DiffWalking = 0.023392586096220958\n",
      "Sex = 0.02446713562077294\n",
      "AgeGroup = 0.10853319854339091\n",
      "HighestEducation = 0.0701772011576798\n",
      "IncomeGroup = 0.12631272266320145\n",
      "HighBPMeds = 0.020214051718983293\n",
      "CholMeds = 0.0477244301896823\n"
     ]
    },
    {
     "data": {
      "text/plain": "<Figure size 640x480 with 1 Axes>",
      "image/png": "[encoded data removed]"
     },
     "metadata": {},
     "output_type": "display_data"
    }
   ],
   "source": [
    "for name, importance in zip(X_cat.columns, rfc.feature_importances_):\n",
    "    print(name, \"=\", importance)\n",
    "\n",
    "\n",
    "features = X_cat.columns\n",
    "importances = rfc.feature_importances_\n",
    "indices = np.argsort(importances)\n",
    "\n",
    "plt.title('Feature Importances')\n",
    "plt.barh(range(len(indices)), importances[indices], color='b', align='center')\n",
    "plt.yticks(range(len(indices)), [features[i] for i in indices])\n",
    "plt.xlabel('Relative Importance')\n",
    "plt.show()"
   ],
   "metadata": {
    "collapsed": false
   }
  },
  {
   "cell_type": "code",
   "execution_count": null,
   "outputs": [],
   "source": [],
   "metadata": {
    "collapsed": false
   }
  }
 ],
 "metadata": {
  "kernelspec": {
   "display_name": "Python 3",
   "language": "python",
   "name": "python3"
  },
  "language_info": {
   "codemirror_mode": {
    "name": "ipython",
    "version": 2
   },
   "file_extension": ".py",
   "mimetype": "text/x-python",
   "name": "python",
   "nbconvert_exporter": "python",
   "pygments_lexer": "ipython2",
   "version": "2.7.6"
  }
 },
 "nbformat": 4,
 "nbformat_minor": 0
}
