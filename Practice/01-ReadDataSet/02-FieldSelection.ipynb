{
 "cells": [
  {
   "cell_type": "code",
   "execution_count": 244,
   "metadata": {
    "collapsed": true
   },
   "outputs": [],
   "source": [
    "# As per https://www.kaggle.com/code/alexteboul/heart-disease-health-indicators-dataset-notebook/notebook"
   ]
  },
  {
   "cell_type": "code",
   "execution_count": 291,
   "outputs": [],
   "source": [
    "#imports\n",
    "import os\n",
    "import pandas as pd\n",
    "import random\n",
    "random.seed(1)\n",
    "import matplotlib.pyplot as plt\n",
    "import numpy as np\n",
    "import us\n",
    "\n",
    "import warnings\n",
    "from pandas.core.common import SettingWithCopyWarning\n",
    "warnings.simplefilter(action=\"ignore\", category=SettingWithCopyWarning)"
   ],
   "metadata": {
    "collapsed": false
   }
  },
  {
   "cell_type": "code",
   "execution_count": 292,
   "outputs": [],
   "source": [
    "brfssDataset = pd.read_csv('../data/2021.csv')"
   ],
   "metadata": {
    "collapsed": false
   }
  },
  {
   "cell_type": "code",
   "execution_count": 293,
   "outputs": [
    {
     "data": {
      "text/plain": "(438693, 304)"
     },
     "execution_count": 293,
     "metadata": {},
     "output_type": "execute_result"
    }
   ],
   "source": [
    "brfssDataset.shape #304 columns with 438,693 rows"
   ],
   "metadata": {
    "collapsed": false
   }
  },
  {
   "cell_type": "code",
   "execution_count": 294,
   "outputs": [
    {
     "data": {
      "text/plain": "        Unnamed: 0  _STATE  FMONTH        IDATE IMONTH   IDAY    IYEAR  \\\n438688      438688    78.0    12.0  b'01062022'  b'01'  b'06'  b'2022'   \n438689      438689    78.0    12.0  b'01122022'  b'01'  b'12'  b'2022'   \n438690      438690    78.0    12.0  b'12212021'  b'12'  b'21'  b'2021'   \n438691      438691    78.0    12.0  b'01112022'  b'01'  b'11'  b'2022'   \n438692      438692    78.0    12.0  b'12222021'  b'12'  b'22'  b'2021'   \n\n        DISPCODE          SEQNO          _PSU  ...  _FRTRES1  _VEGRES1  \\\n438688    1100.0  b'2021001381'  2.021001e+09  ...       1.0       1.0   \n438689    1100.0  b'2021001382'  2.021001e+09  ...       1.0       1.0   \n438690    1100.0  b'2021001383'  2.021001e+09  ...       1.0       1.0   \n438691    1100.0  b'2021001384'  2.021001e+09  ...       1.0       1.0   \n438692    1100.0  b'2021001385'  2.021001e+09  ...       1.0       1.0   \n\n        _FRUTSU1  _VEGESU1  _FRTLT1A  _VEGLT1A  _FRT16A  _VEG23A  \\\n438688     157.0     393.0       1.0       1.0      1.0      1.0   \n438689     200.0     157.0       1.0       1.0      1.0      1.0   \n438690     200.0     143.0       1.0       1.0      1.0      1.0   \n438691     100.0     156.0       1.0       1.0      1.0      1.0   \n438692      34.0      66.0       2.0       2.0      1.0      1.0   \n\n            _FRUITE1      _VEGETE1  \n438688  5.397605e-79  5.397605e-79  \n438689  5.397605e-79  5.397605e-79  \n438690  5.397605e-79  5.397605e-79  \n438691  5.397605e-79  5.397605e-79  \n438692  5.397605e-79  5.397605e-79  \n\n[5 rows x 304 columns]",
      "text/html": "<div>\n<style scoped>\n    .dataframe tbody tr th:only-of-type {\n        vertical-align: middle;\n    }\n\n    .dataframe tbody tr th {\n        vertical-align: top;\n    }\n\n    .dataframe thead th {\n        text-align: right;\n    }\n</style>\n<table border=\"1\" class=\"dataframe\">\n  <thead>\n    <tr style=\"text-align: right;\">\n      <th></th>\n      <th>Unnamed: 0</th>\n      <th>_STATE</th>\n      <th>FMONTH</th>\n      <th>IDATE</th>\n      <th>IMONTH</th>\n      <th>IDAY</th>\n      <th>IYEAR</th>\n      <th>DISPCODE</th>\n      <th>SEQNO</th>\n      <th>_PSU</th>\n      <th>...</th>\n      <th>_FRTRES1</th>\n      <th>_VEGRES1</th>\n      <th>_FRUTSU1</th>\n      <th>_VEGESU1</th>\n      <th>_FRTLT1A</th>\n      <th>_VEGLT1A</th>\n      <th>_FRT16A</th>\n      <th>_VEG23A</th>\n      <th>_FRUITE1</th>\n      <th>_VEGETE1</th>\n    </tr>\n  </thead>\n  <tbody>\n    <tr>\n      <th>438688</th>\n      <td>438688</td>\n      <td>78.0</td>\n      <td>12.0</td>\n      <td>b'01062022'</td>\n      <td>b'01'</td>\n      <td>b'06'</td>\n      <td>b'2022'</td>\n      <td>1100.0</td>\n      <td>b'2021001381'</td>\n      <td>2.021001e+09</td>\n      <td>...</td>\n      <td>1.0</td>\n      <td>1.0</td>\n      <td>157.0</td>\n      <td>393.0</td>\n      <td>1.0</td>\n      <td>1.0</td>\n      <td>1.0</td>\n      <td>1.0</td>\n      <td>5.397605e-79</td>\n      <td>5.397605e-79</td>\n    </tr>\n    <tr>\n      <th>438689</th>\n      <td>438689</td>\n      <td>78.0</td>\n      <td>12.0</td>\n      <td>b'01122022'</td>\n      <td>b'01'</td>\n      <td>b'12'</td>\n      <td>b'2022'</td>\n      <td>1100.0</td>\n      <td>b'2021001382'</td>\n      <td>2.021001e+09</td>\n      <td>...</td>\n      <td>1.0</td>\n      <td>1.0</td>\n      <td>200.0</td>\n      <td>157.0</td>\n      <td>1.0</td>\n      <td>1.0</td>\n      <td>1.0</td>\n      <td>1.0</td>\n      <td>5.397605e-79</td>\n      <td>5.397605e-79</td>\n    </tr>\n    <tr>\n      <th>438690</th>\n      <td>438690</td>\n      <td>78.0</td>\n      <td>12.0</td>\n      <td>b'12212021'</td>\n      <td>b'12'</td>\n      <td>b'21'</td>\n      <td>b'2021'</td>\n      <td>1100.0</td>\n      <td>b'2021001383'</td>\n      <td>2.021001e+09</td>\n      <td>...</td>\n      <td>1.0</td>\n      <td>1.0</td>\n      <td>200.0</td>\n      <td>143.0</td>\n      <td>1.0</td>\n      <td>1.0</td>\n      <td>1.0</td>\n      <td>1.0</td>\n      <td>5.397605e-79</td>\n      <td>5.397605e-79</td>\n    </tr>\n    <tr>\n      <th>438691</th>\n      <td>438691</td>\n      <td>78.0</td>\n      <td>12.0</td>\n      <td>b'01112022'</td>\n      <td>b'01'</td>\n      <td>b'11'</td>\n      <td>b'2022'</td>\n      <td>1100.0</td>\n      <td>b'2021001384'</td>\n      <td>2.021001e+09</td>\n      <td>...</td>\n      <td>1.0</td>\n      <td>1.0</td>\n      <td>100.0</td>\n      <td>156.0</td>\n      <td>1.0</td>\n      <td>1.0</td>\n      <td>1.0</td>\n      <td>1.0</td>\n      <td>5.397605e-79</td>\n      <td>5.397605e-79</td>\n    </tr>\n    <tr>\n      <th>438692</th>\n      <td>438692</td>\n      <td>78.0</td>\n      <td>12.0</td>\n      <td>b'12222021'</td>\n      <td>b'12'</td>\n      <td>b'22'</td>\n      <td>b'2021'</td>\n      <td>1100.0</td>\n      <td>b'2021001385'</td>\n      <td>2.021001e+09</td>\n      <td>...</td>\n      <td>1.0</td>\n      <td>1.0</td>\n      <td>34.0</td>\n      <td>66.0</td>\n      <td>2.0</td>\n      <td>2.0</td>\n      <td>1.0</td>\n      <td>1.0</td>\n      <td>5.397605e-79</td>\n      <td>5.397605e-79</td>\n    </tr>\n  </tbody>\n</table>\n<p>5 rows × 304 columns</p>\n</div>"
     },
     "execution_count": 294,
     "metadata": {},
     "output_type": "execute_result"
    }
   ],
   "source": [
    "brfssDataset.tail()"
   ],
   "metadata": {
    "collapsed": false
   }
  },
  {
   "cell_type": "code",
   "execution_count": 295,
   "outputs": [],
   "source": [
    "# choose columns\n",
    "requiredFields = ['_MICHD', # Ever had  coronary heart disease (CHD) or myocardial infarction (MI)\n",
    "                  '_RFHYPE6', #High Blood Pressure,\n",
    "                  'TOLDHI3', '_CHOLCH3', #Told cholesterol is high, cholesterol check within last 5 years\n",
    "                  '_BMI5', #Body Mass Index\n",
    "                  'SMOKE100', # Smoked at least 100 cigarettes (5 packs) in your life\n",
    "                  'CVDSTRK3', 'DIABETE4', #Had a stroke, Ever had diabetes\n",
    "                  '_TOTINDA', #Excersise in last 30 days (not during work)\n",
    "                  'FRUTDA2_', 'GRENDA1_', 'POTADA1_', 'VEGEDA2_', #How many per day: fruit, Dark Green Veg, Potatoes, Other Veg\n",
    "                  '_RFDRHV7', #Heavy Drinker,\n",
    "                  'PRIMINSR', 'MEDCOST1', #Primary Source of Healthcare, could not afford healthcare\n",
    "                  'GENHLTH', 'MENTHLTH', 'PHYSHLTH', 'DIFFWALK', #General Health, mental & physical health days not good in past 30, difficulty walking\n",
    "                  'SEXVAR', '_AGEG5YR', 'EDUCA', 'INCOME3', #Sex of respondent, age category, highest education, household income\n",
    "                  '_STATE'\n",
    "                ]\n",
    "optionalFields = ['BPMEDS', #Blood Pressure Meds\n",
    "                  'CHOLMED3', #Cholesterol meds\n",
    "                  'DIABAGE3' #Diabetes Age\n",
    "                  ]\n",
    "\n",
    "brfssSelected = brfssDataset[requiredFields + optionalFields]"
   ],
   "metadata": {
    "collapsed": false
   }
  },
  {
   "cell_type": "code",
   "execution_count": 296,
   "outputs": [
    {
     "data": {
      "text/plain": "(438693, 28)"
     },
     "execution_count": 296,
     "metadata": {},
     "output_type": "execute_result"
    }
   ],
   "source": [
    "brfssSelected.shape #28 columns with 438,693 rows"
   ],
   "metadata": {
    "collapsed": false
   }
  },
  {
   "cell_type": "code",
   "execution_count": 297,
   "outputs": [
    {
     "data": {
      "text/plain": "(302725, 28)"
     },
     "execution_count": 297,
     "metadata": {},
     "output_type": "execute_result"
    }
   ],
   "source": [
    "# --- Cleaning Required Fields ---\n",
    "brfssSelected = brfssSelected.dropna(subset=requiredFields)\n",
    "brfssSelected.shape #Dropped all rows where our required fields were not selected"
   ],
   "metadata": {
    "collapsed": false
   }
  },
  {
   "cell_type": "code",
   "execution_count": 298,
   "outputs": [
    {
     "name": "stdout",
     "output_type": "stream",
     "text": [
      "[0. 1.]\n"
     ]
    }
   ],
   "source": [
    "# _MICHD\n",
    "#Change 2 to 0 as 2 means did not report having MI or CHD\n",
    "brfssSelected['_MICHD'] = brfssSelected['_MICHD'].replace({2: 0})\n",
    "print(brfssSelected['_MICHD'].unique())"
   ],
   "metadata": {
    "collapsed": false
   }
  },
  {
   "cell_type": "code",
   "execution_count": 299,
   "outputs": [
    {
     "name": "stdout",
     "output_type": "stream",
     "text": [
      "[0. 1.]\n",
      "(302049, 28)\n"
     ]
    }
   ],
   "source": [
    "#_RFHYPE6\n",
    "#Change 1 to 0 = No high blood pressure and 2 to 1 = high blood pressure. Remove 9 which means unknown\n",
    "brfssSelected['_RFHYPE6'] = brfssSelected['_RFHYPE6'].replace({1:0, 2:1})\n",
    "brfssSelected = brfssSelected[brfssSelected['_RFHYPE6'] != 9]\n",
    "print(brfssSelected['_RFHYPE6'].unique())\n",
    "print(brfssSelected.shape) # Drops about 800 rows"
   ],
   "metadata": {
    "collapsed": false
   }
  },
  {
   "cell_type": "code",
   "execution_count": 300,
   "outputs": [
    {
     "name": "stdout",
     "output_type": "stream",
     "text": [
      "[1. 0.]\n",
      "(300089, 28)\n"
     ]
    }
   ],
   "source": [
    "#TOLDHI3\n",
    "# Change 2 to 0 = No\n",
    "# Remove all 7 & 9 (dont knows & refused)\n",
    "brfssSelected['TOLDHI3'] = brfssSelected['TOLDHI3'].replace({2:0})\n",
    "brfssSelected = brfssSelected[brfssSelected['TOLDHI3'] != 7]\n",
    "brfssSelected = brfssSelected[brfssSelected['TOLDHI3'] != 9]\n",
    "print(brfssSelected['TOLDHI3'].unique())\n",
    "print(brfssSelected.shape) # Drops about 1800 rows"
   ],
   "metadata": {
    "collapsed": false
   }
  },
  {
   "cell_type": "code",
   "execution_count": 301,
   "outputs": [
    {
     "name": "stdout",
     "output_type": "stream",
     "text": [
      "[1. 0.]\n",
      "(299856, 28)\n"
     ]
    }
   ],
   "source": [
    "#_CHOLCH3\n",
    "# Change 2 & 3 to 0 = Not checked cholesterol in past 5 years\n",
    "# Remove 9\n",
    "brfssSelected['_CHOLCH3'] = brfssSelected['_CHOLCH3'].replace({3:0,2:0})\n",
    "brfssSelected = brfssSelected[brfssSelected['_CHOLCH3'] != 9]\n",
    "print(brfssSelected['_CHOLCH3'].unique())\n",
    "print(brfssSelected.shape) # Drops about 200 rows"
   ],
   "metadata": {
    "collapsed": false
   }
  },
  {
   "cell_type": "code",
   "execution_count": 302,
   "outputs": [
    {
     "name": "stdout",
     "output_type": "stream",
     "text": [
      "0    1454.0\n",
      "2    2829.0\n",
      "3    3347.0\n",
      "4    2873.0\n",
      "5    2437.0\n",
      "Name: _BMI5, dtype: float64\n",
      "[14.54 28.29 33.47 ... 63.83 54.6  56.32]\n"
     ]
    }
   ],
   "source": [
    "#_BMI5\n",
    "print(brfssSelected[\"_BMI5\"].head()) #Need to divide by 100\n",
    "brfssSelected['_BMI5'] = brfssSelected['_BMI5'].div(100)\n",
    "print(brfssSelected['_BMI5'].unique())"
   ],
   "metadata": {
    "collapsed": false
   }
  },
  {
   "cell_type": "code",
   "execution_count": 303,
   "outputs": [
    {
     "name": "stdout",
     "output_type": "stream",
     "text": [
      "[1. 0.]\n",
      "(298397, 28)\n"
     ]
    }
   ],
   "source": [
    "#SMOKE100\n",
    "# Change 2 to 0 = No\n",
    "# Remove all 7 & 9\n",
    "brfssSelected['SMOKE100'] = brfssSelected['SMOKE100'].replace({2:0})\n",
    "brfssSelected = brfssSelected[brfssSelected['SMOKE100'] != 7]\n",
    "brfssSelected = brfssSelected[brfssSelected['SMOKE100'] != 9]\n",
    "print(brfssSelected['SMOKE100'].unique())\n",
    "print(brfssSelected.shape) #drops about 1800 rows"
   ],
   "metadata": {
    "collapsed": false
   }
  },
  {
   "cell_type": "code",
   "execution_count": 304,
   "outputs": [
    {
     "name": "stdout",
     "output_type": "stream",
     "text": [
      "[0. 1.]\n",
      "(297802, 28)\n"
     ]
    }
   ],
   "source": [
    "#CVDSTRK3\n",
    "# Change 2 to 0 = No\n",
    "# Remove all 7 & 9\n",
    "brfssSelected['CVDSTRK3'] = brfssSelected['CVDSTRK3'].replace({2:0})\n",
    "brfssSelected = brfssSelected[brfssSelected['CVDSTRK3'] != 7]\n",
    "brfssSelected = brfssSelected[brfssSelected['CVDSTRK3'] != 9]\n",
    "print(brfssSelected['CVDSTRK3'].unique())\n",
    "print(brfssSelected.shape) #drops about 600 rows"
   ],
   "metadata": {
    "collapsed": false
   }
  },
  {
   "cell_type": "code",
   "execution_count": 305,
   "outputs": [
    {
     "name": "stdout",
     "output_type": "stream",
     "text": [
      "[0. 2. 1.]\n",
      "(297550, 28)\n"
     ]
    }
   ],
   "source": [
    "#DIABETE4\n",
    "# Ordinal. 0 = no diabetes/pregnancy only, 1 = pre-diabetes/borderline, 2 = yes\n",
    "# Remove all 7 & 9\n",
    "brfssSelected['DIABETE4'] = brfssSelected['DIABETE4'].replace({2:0, 3:0, 1:2, 4:1})\n",
    "brfssSelected = brfssSelected[brfssSelected['DIABETE4'] != 7]\n",
    "brfssSelected = brfssSelected[brfssSelected['DIABETE4'] != 9]\n",
    "print(brfssSelected['DIABETE4'].unique())\n",
    "print(brfssSelected.shape) #drops about 300 rows\n"
   ],
   "metadata": {
    "collapsed": false
   }
  },
  {
   "cell_type": "code",
   "execution_count": 306,
   "outputs": [
    {
     "name": "stdout",
     "output_type": "stream",
     "text": [
      "[0. 1.]\n",
      "(297207, 28)\n"
     ]
    }
   ],
   "source": [
    "#_TOTINDA\n",
    "# Change 2 to 0 = No exercise last 30 days\n",
    "# Remove all 9\n",
    "brfssSelected['_TOTINDA'] = brfssSelected['_TOTINDA'].replace({2:0})\n",
    "brfssSelected = brfssSelected[brfssSelected['_TOTINDA'] != 9]\n",
    "print(brfssSelected['_TOTINDA'].unique())\n",
    "print(brfssSelected.shape) #drops about 400 rows"
   ],
   "metadata": {
    "collapsed": false
   }
  },
  {
   "cell_type": "code",
   "execution_count": 307,
   "outputs": [
    {
     "data": {
      "text/plain": "(-9.901, 990.0]     295751\n(990.0, 1980.0]        245\n(1980.0, 2970.0]        70\n(2970.0, 3960.0]       440\n(3960.0, 4950.0]         3\n(4950.0, 5940.0]        11\n(5940.0, 6930.0]        16\n(6930.0, 7920.0]         1\n(7920.0, 8910.0]         3\n(8910.0, 9900.0]       667\nName: FRUTDA2_, dtype: int64"
     },
     "execution_count": 307,
     "metadata": {},
     "output_type": "execute_result"
    }
   ],
   "source": [
    "#FRUTDA2_\n",
    "brfssSelected['FRUTDA2_'].value_counts(sort = False, bins=10) #Max Fruit Per Day - Ignore anything over 13.5"
   ],
   "metadata": {
    "collapsed": false
   }
  },
  {
   "cell_type": "code",
   "execution_count": 308,
   "outputs": [],
   "source": [
    "def remove_outliers(col, plot=False, upper=0.75):\n",
    "    if plot:\n",
    "        plt.boxplot(col)\n",
    "        plt.show()\n",
    "\n",
    "    sorted(col)\n",
    "    Q1, Q3 = col.quantile([0.25, upper])\n",
    "    IQR = Q3 - Q1\n",
    "    lower_range = Q1 - (1.5 *IQR)\n",
    "    upper_range = Q3 + (1.5 *IQR)\n",
    "\n",
    "    col = np.where(col > upper_range, upper_range, col)\n",
    "    col = np.where(col < lower_range, lower_range, col)\n",
    "\n",
    "    if plot:\n",
    "        plt.boxplot(col)\n",
    "        plt.show()\n",
    "\n",
    "    return col"
   ],
   "metadata": {
    "collapsed": false
   }
  },
  {
   "cell_type": "code",
   "execution_count": 309,
   "outputs": [
    {
     "data": {
      "text/plain": "<Figure size 640x480 with 1 Axes>",
      "image/png": "[encoded data removed]"
     },
     "metadata": {},
     "output_type": "display_data"
    },
    {
     "data": {
      "text/plain": "<Figure size 640x480 with 1 Axes>",
      "image/png": "[encoded data removed]"
     },
     "metadata": {},
     "output_type": "display_data"
    },
    {
     "name": "stdout",
     "output_type": "stream",
     "text": [
      "(297207, 28)\n"
     ]
    }
   ],
   "source": [
    "#FRUTDA2_\n",
    "brfssSelected['FRUTDA2_'] = remove_outliers(brfssSelected['FRUTDA2_'], True, 0.95)\n",
    "brfssSelected['FRUTDA2_'] = brfssSelected['FRUTDA2_'].div(100)\n",
    "print(brfssSelected.shape)"
   ],
   "metadata": {
    "collapsed": false
   }
  },
  {
   "cell_type": "code",
   "execution_count": 310,
   "outputs": [
    {
     "data": {
      "text/plain": "<Figure size 640x480 with 1 Axes>",
      "image/png": "[encoded data removed]"
     },
     "metadata": {},
     "output_type": "display_data"
    },
    {
     "data": {
      "text/plain": "<Figure size 640x480 with 1 Axes>",
      "image/png": "[encoded data removed]"
     },
     "metadata": {},
     "output_type": "display_data"
    },
    {
     "name": "stdout",
     "output_type": "stream",
     "text": [
      "(297207, 28)\n"
     ]
    }
   ],
   "source": [
    "#GRENDA1_\n",
    "brfssSelected['GRENDA1_'] = remove_outliers(brfssSelected['GRENDA1_'], True, 0.95)\n",
    "brfssSelected['GRENDA1_'] = brfssSelected['GRENDA1_'].div(100)\n",
    "print(brfssSelected.shape)"
   ],
   "metadata": {
    "collapsed": false
   }
  },
  {
   "cell_type": "code",
   "execution_count": 311,
   "outputs": [
    {
     "data": {
      "text/plain": "<Figure size 640x480 with 1 Axes>",
      "image/png": "[encoded data removed]"
     },
     "metadata": {},
     "output_type": "display_data"
    },
    {
     "data": {
      "text/plain": "<Figure size 640x480 with 1 Axes>",
      "image/png": "[encoded data removed]"
     },
     "metadata": {},
     "output_type": "display_data"
    },
    {
     "name": "stdout",
     "output_type": "stream",
     "text": [
      "(297207, 28)\n"
     ]
    }
   ],
   "source": [
    "# POTADA1_\n",
    "brfssSelected['POTADA1_'] = remove_outliers(brfssSelected['POTADA1_'], True, 0.95)\n",
    "brfssSelected['POTADA1_'] = brfssSelected['POTADA1_'].div(100)\n",
    "print(brfssSelected.shape)"
   ],
   "metadata": {
    "collapsed": false
   }
  },
  {
   "cell_type": "code",
   "execution_count": 312,
   "outputs": [
    {
     "data": {
      "text/plain": "<Figure size 640x480 with 1 Axes>",
      "image/png": "[encoded data removed]"
     },
     "metadata": {},
     "output_type": "display_data"
    },
    {
     "data": {
      "text/plain": "<Figure size 640x480 with 1 Axes>",
      "image/png": "[encoded data removed]"
     },
     "metadata": {},
     "output_type": "display_data"
    },
    {
     "name": "stdout",
     "output_type": "stream",
     "text": [
      "(297207, 28)\n"
     ]
    }
   ],
   "source": [
    "# VEGEDA2_\n",
    "brfssSelected['VEGEDA2_'] = remove_outliers(brfssSelected['VEGEDA2_'], True, 0.95)\n",
    "brfssSelected['VEGEDA2_'] = brfssSelected['VEGEDA2_'].div(100)\n",
    "print(brfssSelected.shape) #drops 0 rows"
   ],
   "metadata": {
    "collapsed": false
   }
  },
  {
   "cell_type": "code",
   "execution_count": 313,
   "outputs": [
    {
     "name": "stdout",
     "output_type": "stream",
     "text": [
      "(293306, 28)\n"
     ]
    }
   ],
   "source": [
    "# _RFDRHV7\n",
    "brfssSelected['_RFDRHV7'] = brfssSelected['_RFDRHV7'].replace({2:1, 1:0})\n",
    "brfssSelected = brfssSelected[brfssSelected['_RFDRHV7'] != 9]\n",
    "print(brfssSelected.shape) # drops 3900"
   ],
   "metadata": {
    "collapsed": false
   }
  },
  {
   "cell_type": "code",
   "execution_count": 314,
   "outputs": [
    {
     "name": "stdout",
     "output_type": "stream",
     "text": [
      "[1. 0.]\n",
      "(286506, 28)\n"
     ]
    }
   ],
   "source": [
    "# PRIMINSR\n",
    "# 1-10 = 1 yes does have health insurance\n",
    "# 88 = 0 no coverage\n",
    "# drop 77 & 99\n",
    "brfssSelected = brfssSelected[brfssSelected['PRIMINSR'] != 99]\n",
    "brfssSelected = brfssSelected[brfssSelected['PRIMINSR'] != 77]\n",
    "brfssSelected['PRIMINSR'] = brfssSelected['PRIMINSR'].replace({88:0, 2:1, 3:1, 4:1, 5:1, 6:1, 7:1, 8:1, 9:1, 10:1})\n",
    "print(brfssSelected['PRIMINSR'].unique())\n",
    "print(brfssSelected.shape) # drops 7000"
   ],
   "metadata": {
    "collapsed": false
   }
  },
  {
   "cell_type": "code",
   "execution_count": 315,
   "outputs": [
    {
     "name": "stdout",
     "output_type": "stream",
     "text": [
      "[0. 1.]\n",
      "(286066, 28)\n"
     ]
    }
   ],
   "source": [
    "# MEDCOST1\n",
    "# Change 2 to 0 = no\n",
    "# Remove 7 & 9\n",
    "brfssSelected['MEDCOST1'] = brfssSelected['MEDCOST1'].replace({2:0})\n",
    "brfssSelected = brfssSelected[brfssSelected['MEDCOST1'] != 7]\n",
    "brfssSelected = brfssSelected[brfssSelected['MEDCOST1'] != 9]\n",
    "print(brfssSelected['MEDCOST1'].unique())\n",
    "print(brfssSelected.shape) # drops 500"
   ],
   "metadata": {
    "collapsed": false
   }
  },
  {
   "cell_type": "code",
   "execution_count": 316,
   "outputs": [
    {
     "name": "stdout",
     "output_type": "stream",
     "text": [
      "[5. 2. 3. 4. 1.]\n",
      "(285696, 28)\n"
     ]
    }
   ],
   "source": [
    "# GENHLTH\n",
    "# 1 = excellant\n",
    "# 5 = poor\n",
    "brfssSelected = brfssSelected[brfssSelected['GENHLTH'] != 7]\n",
    "brfssSelected = brfssSelected[brfssSelected['GENHLTH'] != 9]\n",
    "print(brfssSelected['GENHLTH'].unique())\n",
    "print(brfssSelected.shape) # drops 350"
   ],
   "metadata": {
    "collapsed": false
   }
  },
  {
   "cell_type": "code",
   "execution_count": 317,
   "outputs": [
    {
     "name": "stdout",
     "output_type": "stream",
     "text": [
      "[10.  0.  5. 25.  2.  7. 30.  3. 14. 20.  8.  1. 15.  4. 28. 24. 21. 12.\n",
      "  6. 22. 27. 18. 13. 17. 16.  9. 19. 29. 23. 11. 26.]\n",
      "(282651, 28)\n"
     ]
    }
   ],
   "source": [
    "# MENTHLTH (days in last 30 days)\n",
    "# 88 --> 0 (none)\n",
    "# Drop 77 & 99\n",
    "brfssSelected = brfssSelected[brfssSelected['MENTHLTH'] != 77]\n",
    "brfssSelected = brfssSelected[brfssSelected['MENTHLTH'] != 99]\n",
    "brfssSelected['MENTHLTH'] = brfssSelected['MENTHLTH'].replace({88:0})\n",
    "print(brfssSelected['MENTHLTH'].unique())\n",
    "print(brfssSelected.shape) # drops 3000"
   ],
   "metadata": {
    "collapsed": false
   }
  },
  {
   "cell_type": "code",
   "execution_count": 318,
   "outputs": [
    {
     "name": "stdout",
     "output_type": "stream",
     "text": [
      "[20.  0. 30. 25.  1.  4. 10.  2.  3. 15.  8. 13. 14.  5.  7.  6. 24. 29.\n",
      " 18.  9. 16. 17. 26. 12. 28. 21. 27. 11. 19. 22. 23.]\n",
      "(279182, 28)\n"
     ]
    }
   ],
   "source": [
    "# PHYSHLTH (days in last 30 days)\n",
    "# 88 --> 0 (none)\n",
    "# Drop 77 & 99\n",
    "brfssSelected = brfssSelected[brfssSelected['PHYSHLTH'] != 77]\n",
    "brfssSelected = brfssSelected[brfssSelected['PHYSHLTH'] != 99]\n",
    "brfssSelected['PHYSHLTH'] = brfssSelected['PHYSHLTH'].replace({88:0})\n",
    "print(brfssSelected['PHYSHLTH'].unique())\n",
    "print(brfssSelected.shape) # drops 3000"
   ],
   "metadata": {
    "collapsed": false
   }
  },
  {
   "cell_type": "code",
   "execution_count": 319,
   "outputs": [
    {
     "name": "stdout",
     "output_type": "stream",
     "text": [
      "[0. 1.]\n",
      "(278598, 28)\n"
     ]
    }
   ],
   "source": [
    "# DIFFWALK\n",
    "brfssSelected['DIFFWALK'] = brfssSelected['DIFFWALK'].replace({2:0})\n",
    "brfssSelected = brfssSelected[brfssSelected['DIFFWALK'] != 7]\n",
    "brfssSelected = brfssSelected[brfssSelected['DIFFWALK'] != 9]\n",
    "print(brfssSelected['DIFFWALK'].unique())\n",
    "print(brfssSelected.shape) # drops 600"
   ],
   "metadata": {
    "collapsed": false
   }
  },
  {
   "cell_type": "code",
   "execution_count": 320,
   "outputs": [
    {
     "name": "stdout",
     "output_type": "stream",
     "text": [
      "[0. 1.]\n"
     ]
    }
   ],
   "source": [
    "# SEXVAR\n",
    "# change 2 to 0 (female as 0). Male is 1\n",
    "brfssSelected['SEXVAR'] = brfssSelected['SEXVAR'].replace({2:0})\n",
    "print(brfssSelected['SEXVAR'].unique())"
   ],
   "metadata": {
    "collapsed": false
   }
  },
  {
   "cell_type": "code",
   "execution_count": 321,
   "outputs": [
    {
     "name": "stdout",
     "output_type": "stream",
     "text": [
      "[11.  9. 12. 13. 10.  7.  6.  8.  4.  3.  5.  2.  1.]\n",
      "(276028, 28)\n"
     ]
    }
   ],
   "source": [
    "# _AGEG5YR\n",
    "# Ordinal. 1 = 18-24, 13 = 80+ (5 year increments)\n",
    "# Remove 14\n",
    "brfssSelected = brfssSelected[brfssSelected['_AGEG5YR'] != 14]\n",
    "print(brfssSelected['_AGEG5YR'].unique())\n",
    "print(brfssSelected.shape) # drops 2000"
   ],
   "metadata": {
    "collapsed": false
   }
  },
  {
   "cell_type": "code",
   "execution_count": 322,
   "outputs": [
    {
     "name": "stdout",
     "output_type": "stream",
     "text": [
      "[4. 3. 5. 6. 2. 1.]\n",
      "(275717, 28)\n"
     ]
    }
   ],
   "source": [
    "# EDUCA\n",
    "# Ordinal. 1 = never attended school. 6 = college for 4 years or more\n",
    "# Remove 9\n",
    "brfssSelected = brfssSelected[brfssSelected['EDUCA'] != 9]\n",
    "print(brfssSelected['EDUCA'].unique())\n",
    "print(brfssSelected.shape) # drops 300"
   ],
   "metadata": {
    "collapsed": false
   }
  },
  {
   "cell_type": "code",
   "execution_count": 323,
   "outputs": [
    {
     "name": "stdout",
     "output_type": "stream",
     "text": [
      "[ 5.  3.  7.  4.  6.  8.  2.  9. 10.  1. 11.]\n",
      "(238832, 28)\n"
     ]
    }
   ],
   "source": [
    "# INCOME3\n",
    "# Oridinal. 1 = less than 10,000, 11 = 200k+\n",
    "brfssSelected = brfssSelected[brfssSelected['INCOME3'] != 77]\n",
    "brfssSelected = brfssSelected[brfssSelected['INCOME3'] != 99]\n",
    "print(brfssSelected['INCOME3'].unique())\n",
    "print(brfssSelected.shape) # drops 38,000"
   ],
   "metadata": {
    "collapsed": false
   }
  },
  {
   "cell_type": "code",
   "execution_count": 324,
   "outputs": [
    {
     "name": "stdout",
     "output_type": "stream",
     "text": [
      "['AL' 'AK' 'AZ' 'AR' 'CA' 'CO' 'CT' 'DE' 'DC' 'GA' 'HI' 'ID' 'IL' 'IN'\n",
      " 'IA' 'KS' 'KY' 'LA' 'ME' 'MD' 'MA' 'MI' 'MN' 'MS' 'MO' 'MT' 'NE' 'NV'\n",
      " 'NH' 'NJ' 'NM' 'NY' 'NC' 'ND' 'OH' 'OK' 'OR' 'PA' 'RI' 'SC' 'SD' 'TN'\n",
      " 'TX' 'UT' 'VT' 'VA' 'WA' 'WV' 'WI' 'WY' 'GU' 'PR' 'VI']\n"
     ]
    }
   ],
   "source": [
    "# _STATE\n",
    "brfssSelected['_STATE'] = brfssSelected['_STATE'].astype(int).apply(\"{0:0=2d}\".format)\n",
    "brfssSelected['_STATE'] = brfssSelected['_STATE'].apply(lambda x: us.states.lookup(x).abbr)\n",
    "print(brfssSelected['_STATE'].unique())"
   ],
   "metadata": {
    "collapsed": false
   }
  },
  {
   "cell_type": "code",
   "execution_count": 325,
   "outputs": [
    {
     "name": "stdout",
     "output_type": "stream",
     "text": [
      "[0. 1.]\n",
      "(238738, 28)\n"
     ]
    }
   ],
   "source": [
    "# --- Cleaning Optional Fields ---\n",
    "#BPMEDS\n",
    "#Remove 7 & 9\n",
    "#Set null to 0\n",
    "brfssSelected = brfssSelected[brfssSelected['BPMEDS'] != 7]\n",
    "brfssSelected = brfssSelected[brfssSelected['BPMEDS'] != 9]\n",
    "brfssSelected = brfssSelected.fillna({'BPMEDS':0})\n",
    "brfssSelected['BPMEDS'] = brfssSelected['BPMEDS'].replace({2:0})\n",
    "print(brfssSelected['BPMEDS'].unique())\n",
    "print(brfssSelected.shape) # drops 100"
   ],
   "metadata": {
    "collapsed": false
   }
  },
  {
   "cell_type": "code",
   "execution_count": 326,
   "outputs": [
    {
     "name": "stdout",
     "output_type": "stream",
     "text": [
      "[1. 0.]\n",
      "(238216, 28)\n"
     ]
    }
   ],
   "source": [
    "# CHOLMED3\n",
    "brfssSelected = brfssSelected[brfssSelected['CHOLMED3'] != 7]\n",
    "brfssSelected = brfssSelected[brfssSelected['CHOLMED3'] != 9]\n",
    "brfssSelected = brfssSelected.fillna({'CHOLMED3':0})\n",
    "brfssSelected['CHOLMED3'] = brfssSelected['CHOLMED3'].replace({2:0})\n",
    "print(brfssSelected['CHOLMED3'].unique())\n",
    "print(brfssSelected.shape) # drops 500"
   ],
   "metadata": {
    "collapsed": false
   }
  },
  {
   "cell_type": "code",
   "execution_count": 327,
   "outputs": [
    {
     "name": "stdout",
     "output_type": "stream",
     "text": [
      "[ 0. 56. 65. 62. 10. 60. 77. 34. 72. 58. 64. 40. 49. 50. 52. 28. 46. 55.\n",
      " 63. 19. 76. 24. 51. 68. 70. 59. 32. 35. 13. 37. 48. 41. 30. 74. 69. 45.\n",
      " 17. 61. 80. 54. 53. 57. 67. 66. 79. 38. 33. 23. 42. 12. 22. 44. 26. 43.\n",
      " 39. 25. 75. 20. 36. 47. 31. 71. 18. 29.  9. 78. 11. 27.  7. 85. 21. 14.\n",
      " 81.  5. 86.  1. 15. 82. 83. 73.  8. 16. 87. 90. 84.  4. 92.  3.  6. 88.\n",
      " 94. 95.  2. 93. 89. 97.]\n"
     ]
    }
   ],
   "source": [
    "# DIABAGE3\n",
    "# Age you got diabetes - 1-97\n",
    "# Remove 98 & 99\n",
    "# Set never to 0 or 100??\n",
    "brfssSelected = brfssSelected[brfssSelected['DIABAGE3'] != 98]\n",
    "brfssSelected = brfssSelected[brfssSelected['DIABAGE3'] != 99]\n",
    "brfssSelected = brfssSelected.fillna({'DIABAGE3':0}) #Not sure whether to set to 0 or 100?\n",
    "print(brfssSelected['DIABAGE3'].unique())\n",
    "# drops 1400"
   ],
   "metadata": {
    "collapsed": false
   }
  },
  {
   "cell_type": "code",
   "execution_count": 328,
   "outputs": [
    {
     "name": "stdout",
     "output_type": "stream",
     "text": [
      "(236808, 28)\n",
      "   _MICHD  _RFHYPE6  TOLDHI3  _CHOLCH3  _BMI5  SMOKE100  CVDSTRK3  DIABETE4  \\\n",
      "0     0.0       0.0      1.0       1.0  14.54       1.0       0.0       0.0   \n",
      "3     0.0       1.0      1.0       1.0  33.47       0.0       0.0       2.0   \n",
      "\n",
      "   _TOTINDA  FRUTDA2_  ...  PHYSHLTH  DIFFWALK  SEXVAR  _AGEG5YR  EDUCA  \\\n",
      "0       0.0      1.00  ...      20.0       0.0     0.0      11.0    4.0   \n",
      "3       1.0      0.43  ...       0.0       0.0     0.0       9.0    4.0   \n",
      "\n",
      "   INCOME3  _STATE  BPMEDS  CHOLMED3  DIABAGE3  \n",
      "0      5.0      AL     0.0       1.0       0.0  \n",
      "3      7.0      AL     1.0       0.0      56.0  \n",
      "\n",
      "[2 rows x 28 columns]\n"
     ]
    }
   ],
   "source": [
    "print(brfssSelected.shape) # Total = 236,808\n",
    "print(brfssSelected.head(2))"
   ],
   "metadata": {
    "collapsed": false
   }
  },
  {
   "cell_type": "code",
   "execution_count": 329,
   "outputs": [
    {
     "data": {
      "text/plain": "_MICHD\n0.0    216557\n1.0     20251\ndtype: int64"
     },
     "execution_count": 329,
     "metadata": {},
     "output_type": "execute_result"
    }
   ],
   "source": [
    "#Check Group Sizes of the heart disease column\n",
    "brfssSelected.groupby(['_MICHD']).size()"
   ],
   "metadata": {
    "collapsed": false
   }
  },
  {
   "cell_type": "code",
   "execution_count": 330,
   "outputs": [],
   "source": [
    "# Make Columns more readable\n",
    "#Rename the columns to make them more readable\n",
    "brfss = brfssSelected.rename(columns = {'_MICHD':'HeartDiseaseOrAttack',\n",
    "                                         '_RFHYPE6':'HighBP',\n",
    "                                         'TOLDHI3':'HighChol', '_CHOLCH3':'CholCheckLast5Years',\n",
    "                                         '_BMI5':'BMI',\n",
    "                                         'SMOKE100':'Smoker',\n",
    "                                         'CVDSTRK3':'Stroke', 'DIABETE4':'Diabetes',\n",
    "                                         '_TOTINDA':'PhysActivityLast30Days',\n",
    "                                         'FRUTDA2_':'FruitsPerDay', 'GRENDA1_':'DarkGreensPerDay', 'POTADA1_':'PotatoesPerDay', 'VEGEDA2_': 'OtherVegPerDay',\n",
    "                                         '_RFDRHV7':'HeavyDrinker',\n",
    "                                         'PRIMINSR':'AnyHealthcare', 'MEDCOST1':'CantAffordHealthcare',\n",
    "                                         'GENHLTH':'GeneralHealth', 'MENTHLTH':'BadMentalHealthLast30Days', 'PHYSHLTH':'BadPhysicalHealthLast30Days', 'DIFFWALK':'DiffWalking',\n",
    "                                         'SEXVAR':'Sex', '_AGEG5YR':'AgeGroup', 'EDUCA':'HighestEducation', 'INCOME3':'IncomeGroup',\n",
    "                                         'BPMEDS': 'HighBPMeds', 'CHOLMED3':'CholMeds', 'DIABAGE3':'DiabetesAge', '_STATE':'State'})"
   ],
   "metadata": {
    "collapsed": false
   }
  },
  {
   "cell_type": "code",
   "execution_count": 331,
   "outputs": [
    {
     "data": {
      "text/plain": "   HeartDiseaseOrAttack  HighBP  HighChol  CholCheckLast5Years    BMI  Smoker  \\\n0                   0.0     0.0       1.0                  1.0  14.54     1.0   \n3                   0.0     1.0       1.0                  1.0  33.47     0.0   \n4                   1.0     0.0       1.0                  1.0  28.73     0.0   \n5                   0.0     0.0       0.0                  1.0  24.37     1.0   \n9                   0.0     1.0       0.0                  1.0  39.94     1.0   \n\n   Stroke  Diabetes  PhysActivityLast30Days  FruitsPerDay  ...  \\\n0     0.0       0.0                     0.0          1.00  ...   \n3     0.0       2.0                     1.0          0.43  ...   \n4     1.0       2.0                     1.0          1.00  ...   \n5     0.0       0.0                     0.0          0.29  ...   \n9     0.0       0.0                     1.0          1.00  ...   \n\n   BadPhysicalHealthLast30Days  DiffWalking  Sex  AgeGroup  HighestEducation  \\\n0                         20.0          0.0  0.0      11.0               4.0   \n3                          0.0          0.0  0.0       9.0               4.0   \n4                         30.0          1.0  1.0      12.0               3.0   \n5                          0.0          1.0  1.0      13.0               5.0   \n9                         25.0          1.0  0.0      10.0               4.0   \n\n   IncomeGroup  State  HighBPMeds  CholMeds  DiabetesAge  \n0          5.0     AL         0.0       1.0          0.0  \n3          7.0     AL         1.0       0.0         56.0  \n4          4.0     AL         0.0       1.0         65.0  \n5          6.0     AL         0.0       0.0          0.0  \n9          8.0     AL         1.0       1.0          0.0  \n\n[5 rows x 28 columns]",
      "text/html": "<div>\n<style scoped>\n    .dataframe tbody tr th:only-of-type {\n        vertical-align: middle;\n    }\n\n    .dataframe tbody tr th {\n        vertical-align: top;\n    }\n\n    .dataframe thead th {\n        text-align: right;\n    }\n</style>\n<table border=\"1\" class=\"dataframe\">\n  <thead>\n    <tr style=\"text-align: right;\">\n      <th></th>\n      <th>HeartDiseaseOrAttack</th>\n      <th>HighBP</th>\n      <th>HighChol</th>\n      <th>CholCheckLast5Years</th>\n      <th>BMI</th>\n      <th>Smoker</th>\n      <th>Stroke</th>\n      <th>Diabetes</th>\n      <th>PhysActivityLast30Days</th>\n      <th>FruitsPerDay</th>\n      <th>...</th>\n      <th>BadPhysicalHealthLast30Days</th>\n      <th>DiffWalking</th>\n      <th>Sex</th>\n      <th>AgeGroup</th>\n      <th>HighestEducation</th>\n      <th>IncomeGroup</th>\n      <th>State</th>\n      <th>HighBPMeds</th>\n      <th>CholMeds</th>\n      <th>DiabetesAge</th>\n    </tr>\n  </thead>\n  <tbody>\n    <tr>\n      <th>0</th>\n      <td>0.0</td>\n      <td>0.0</td>\n      <td>1.0</td>\n      <td>1.0</td>\n      <td>14.54</td>\n      <td>1.0</td>\n      <td>0.0</td>\n      <td>0.0</td>\n      <td>0.0</td>\n      <td>1.00</td>\n      <td>...</td>\n      <td>20.0</td>\n      <td>0.0</td>\n      <td>0.0</td>\n      <td>11.0</td>\n      <td>4.0</td>\n      <td>5.0</td>\n      <td>AL</td>\n      <td>0.0</td>\n      <td>1.0</td>\n      <td>0.0</td>\n    </tr>\n    <tr>\n      <th>3</th>\n      <td>0.0</td>\n      <td>1.0</td>\n      <td>1.0</td>\n      <td>1.0</td>\n      <td>33.47</td>\n      <td>0.0</td>\n      <td>0.0</td>\n      <td>2.0</td>\n      <td>1.0</td>\n      <td>0.43</td>\n      <td>...</td>\n      <td>0.0</td>\n      <td>0.0</td>\n      <td>0.0</td>\n      <td>9.0</td>\n      <td>4.0</td>\n      <td>7.0</td>\n      <td>AL</td>\n      <td>1.0</td>\n      <td>0.0</td>\n      <td>56.0</td>\n    </tr>\n    <tr>\n      <th>4</th>\n      <td>1.0</td>\n      <td>0.0</td>\n      <td>1.0</td>\n      <td>1.0</td>\n      <td>28.73</td>\n      <td>0.0</td>\n      <td>1.0</td>\n      <td>2.0</td>\n      <td>1.0</td>\n      <td>1.00</td>\n      <td>...</td>\n      <td>30.0</td>\n      <td>1.0</td>\n      <td>1.0</td>\n      <td>12.0</td>\n      <td>3.0</td>\n      <td>4.0</td>\n      <td>AL</td>\n      <td>0.0</td>\n      <td>1.0</td>\n      <td>65.0</td>\n    </tr>\n    <tr>\n      <th>5</th>\n      <td>0.0</td>\n      <td>0.0</td>\n      <td>0.0</td>\n      <td>1.0</td>\n      <td>24.37</td>\n      <td>1.0</td>\n      <td>0.0</td>\n      <td>0.0</td>\n      <td>0.0</td>\n      <td>0.29</td>\n      <td>...</td>\n      <td>0.0</td>\n      <td>1.0</td>\n      <td>1.0</td>\n      <td>13.0</td>\n      <td>5.0</td>\n      <td>6.0</td>\n      <td>AL</td>\n      <td>0.0</td>\n      <td>0.0</td>\n      <td>0.0</td>\n    </tr>\n    <tr>\n      <th>9</th>\n      <td>0.0</td>\n      <td>1.0</td>\n      <td>0.0</td>\n      <td>1.0</td>\n      <td>39.94</td>\n      <td>1.0</td>\n      <td>0.0</td>\n      <td>0.0</td>\n      <td>1.0</td>\n      <td>1.00</td>\n      <td>...</td>\n      <td>25.0</td>\n      <td>1.0</td>\n      <td>0.0</td>\n      <td>10.0</td>\n      <td>4.0</td>\n      <td>8.0</td>\n      <td>AL</td>\n      <td>1.0</td>\n      <td>1.0</td>\n      <td>0.0</td>\n    </tr>\n  </tbody>\n</table>\n<p>5 rows × 28 columns</p>\n</div>"
     },
     "execution_count": 331,
     "metadata": {},
     "output_type": "execute_result"
    }
   ],
   "source": [
    "brfss.head()"
   ],
   "metadata": {
    "collapsed": false
   }
  },
  {
   "cell_type": "code",
   "execution_count": 332,
   "outputs": [
    {
     "data": {
      "text/plain": "HeartDiseaseOrAttack\n0.0    216557\n1.0     20251\ndtype: int64"
     },
     "execution_count": 332,
     "metadata": {},
     "output_type": "execute_result"
    }
   ],
   "source": [
    "brfss.groupby(['HeartDiseaseOrAttack']).size()"
   ],
   "metadata": {
    "collapsed": false
   }
  },
  {
   "cell_type": "code",
   "execution_count": 333,
   "outputs": [],
   "source": [
    "brfss.to_csv('../data/heart_disease_health_indicators_BRFSS2021.csv', sep=\",\", index=False)"
   ],
   "metadata": {
    "collapsed": false
   }
  },
  {
   "cell_type": "code",
   "execution_count": 287,
   "outputs": [],
   "source": [],
   "metadata": {
    "collapsed": false
   }
  }
 ],
 "metadata": {
  "kernelspec": {
   "display_name": "Python 3",
   "language": "python",
   "name": "python3"
  },
  "language_info": {
   "codemirror_mode": {
    "name": "ipython",
    "version": 2
   },
   "file_extension": ".py",
   "mimetype": "text/x-python",
   "name": "python",
   "nbconvert_exporter": "python",
   "pygments_lexer": "ipython2",
   "version": "2.7.6"
  }
 },
 "nbformat": 4,
 "nbformat_minor": 0
}
