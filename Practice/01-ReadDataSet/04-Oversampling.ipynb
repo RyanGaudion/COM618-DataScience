{
 "cells": [
  {
   "cell_type": "code",
   "execution_count": 1,
   "metadata": {
    "collapsed": true
   },
   "outputs": [],
   "source": [
    "import pandas as pd\n",
    "import numpy as np\n",
    "import matplotlib.pyplot as plt\n",
    "import seaborn as sns\n",
    "import plotly.express as px\n",
    "import math\n",
    "\n",
    "from sklearn.model_selection import train_test_split\n",
    "from sklearn.ensemble import RandomForestClassifier\n",
    "from sklearn.metrics import classification_report\n",
    "\n",
    "#Inspired by https://www.kaggle.com/code/mahmoudlimam/resampling-tutorial\n",
    "# Importance measurement - f1 score (recall & precision)\n",
    "\n",
    "y_col = \"HeartDiseaseOrAttack\"\n",
    "colsToDrop = [\"State\"]"
   ]
  },
  {
   "cell_type": "code",
   "execution_count": 2,
   "outputs": [],
   "source": [
    "df = pd.read_csv('../data/heart_disease_health_indicators_BRFSS2021.csv')\n",
    "\n",
    "for col in colsToDrop:\n",
    "    df = df.drop(col, axis=1)"
   ],
   "metadata": {
    "collapsed": false
   }
  },
  {
   "cell_type": "code",
   "execution_count": 3,
   "outputs": [
    {
     "data": {
      "text/plain": "<AxesSubplot: xlabel='HeartDiseaseOrAttack', ylabel='count'>"
     },
     "execution_count": 3,
     "metadata": {},
     "output_type": "execute_result"
    },
    {
     "data": {
      "text/plain": "<Figure size 640x480 with 1 Axes>",
      "image/png": "[encoded data removed]"
     },
     "metadata": {},
     "output_type": "display_data"
    }
   ],
   "source": [
    "sns.countplot(data=df, x=y_col)"
   ],
   "metadata": {
    "collapsed": false
   }
  },
  {
   "cell_type": "code",
   "execution_count": 4,
   "outputs": [],
   "source": [
    "X = df.drop(y_col, axis=1)\n",
    "y = df[y_col]\n",
    "\n",
    "X_train, X_test, y_train, y_test = train_test_split(X, y, test_size=0.1, random_state=45)"
   ],
   "metadata": {
    "collapsed": false
   }
  },
  {
   "cell_type": "code",
   "execution_count": 5,
   "outputs": [],
   "source": [
    "def train_evaluate(X_train, X_test, y_train, y_test, sampler=None):\n",
    "    model = RandomForestClassifier(max_depth=6, n_jobs=-1, n_estimators=50, verbose=1)\n",
    "\n",
    "    Xs_train, ys_train = X_train, y_train\n",
    "\n",
    "    if sampler is not None:\n",
    "        Xs_train, ys_train = sampler.fit_resample(X_train, y_train)\n",
    "\n",
    "    model.fit(Xs_train, ys_train)\n",
    "\n",
    "    y_pred_train = model.predict(X_train)\n",
    "    y_pred_test = model.predict(X_test)\n",
    "\n",
    "    print(\"Training Results:\\n\")\n",
    "    print(classification_report(y_train, y_pred_train))\n",
    "    print(\"\\n\\nTesting Results:\\n\")\n",
    "    print(classification_report(y_test, y_pred_test))"
   ],
   "metadata": {
    "collapsed": false
   }
  },
  {
   "cell_type": "code",
   "execution_count": 6,
   "outputs": [
    {
     "name": "stderr",
     "output_type": "stream",
     "text": [
      "[Parallel(n_jobs=-1)]: Using backend ThreadingBackend with 16 concurrent workers.\n",
      "[Parallel(n_jobs=-1)]: Done  18 tasks      | elapsed:    1.6s\n",
      "[Parallel(n_jobs=-1)]: Done  50 out of  50 | elapsed:    2.8s finished\n",
      "[Parallel(n_jobs=16)]: Using backend ThreadingBackend with 16 concurrent workers.\n",
      "[Parallel(n_jobs=16)]: Done  18 tasks      | elapsed:    0.0s\n",
      "[Parallel(n_jobs=16)]: Done  50 out of  50 | elapsed:    0.1s finished\n",
      "[Parallel(n_jobs=16)]: Using backend ThreadingBackend with 16 concurrent workers.\n",
      "[Parallel(n_jobs=16)]: Done  18 tasks      | elapsed:    0.0s\n",
      "[Parallel(n_jobs=16)]: Done  50 out of  50 | elapsed:    0.0s finished\n"
     ]
    },
    {
     "name": "stdout",
     "output_type": "stream",
     "text": [
      "Training Results:\n",
      "\n",
      "              precision    recall  f1-score   support\n",
      "\n",
      "         0.0       0.91      1.00      0.96    194844\n",
      "         1.0       0.75      0.00      0.01     18283\n",
      "\n",
      "    accuracy                           0.91    213127\n",
      "   macro avg       0.83      0.50      0.48    213127\n",
      "weighted avg       0.90      0.91      0.87    213127\n",
      "\n",
      "\n",
      "\n",
      "Testing Results:\n",
      "\n",
      "              precision    recall  f1-score   support\n",
      "\n",
      "         0.0       0.92      1.00      0.96     21713\n",
      "         1.0       0.67      0.00      0.00      1968\n",
      "\n",
      "    accuracy                           0.92     23681\n",
      "   macro avg       0.79      0.50      0.48     23681\n",
      "weighted avg       0.90      0.92      0.88     23681\n",
      "\n"
     ]
    }
   ],
   "source": [
    "# Without re-sampling\n",
    "train_evaluate(X_train, X_test, y_train, y_test)\n",
    "\n",
    "# With no re-sampling we get for test:\n",
    "# Recall for 1.0 - 0.01\n",
    "# Macro-Average F1 - 0.48"
   ],
   "metadata": {
    "collapsed": false
   }
  },
  {
   "cell_type": "code",
   "execution_count": 7,
   "outputs": [
    {
     "name": "stderr",
     "output_type": "stream",
     "text": [
      "[Parallel(n_jobs=-1)]: Using backend ThreadingBackend with 16 concurrent workers.\n",
      "[Parallel(n_jobs=-1)]: Done  18 tasks      | elapsed:    0.1s\n",
      "[Parallel(n_jobs=-1)]: Done  50 out of  50 | elapsed:    0.2s finished\n",
      "[Parallel(n_jobs=16)]: Using backend ThreadingBackend with 16 concurrent workers.\n",
      "[Parallel(n_jobs=16)]: Done  18 tasks      | elapsed:    0.0s\n",
      "[Parallel(n_jobs=16)]: Done  50 out of  50 | elapsed:    0.1s finished\n",
      "[Parallel(n_jobs=16)]: Using backend ThreadingBackend with 16 concurrent workers.\n",
      "[Parallel(n_jobs=16)]: Done  18 tasks      | elapsed:    0.0s\n",
      "[Parallel(n_jobs=16)]: Done  50 out of  50 | elapsed:    0.0s finished\n"
     ]
    },
    {
     "name": "stdout",
     "output_type": "stream",
     "text": [
      "Training Results:\n",
      "\n",
      "              precision    recall  f1-score   support\n",
      "\n",
      "         0.0       0.98      0.72      0.83    194844\n",
      "         1.0       0.22      0.83      0.34     18283\n",
      "\n",
      "    accuracy                           0.73    213127\n",
      "   macro avg       0.60      0.77      0.58    213127\n",
      "weighted avg       0.91      0.73      0.79    213127\n",
      "\n",
      "\n",
      "\n",
      "Testing Results:\n",
      "\n",
      "              precision    recall  f1-score   support\n",
      "\n",
      "         0.0       0.98      0.72      0.83     21713\n",
      "         1.0       0.21      0.83      0.34      1968\n",
      "\n",
      "    accuracy                           0.73     23681\n",
      "   macro avg       0.59      0.77      0.58     23681\n",
      "weighted avg       0.92      0.73      0.79     23681\n",
      "\n"
     ]
    }
   ],
   "source": [
    "## -- Undersampling --\n",
    "\n",
    "#Random Undersampling\n",
    "from imblearn.under_sampling import RandomUnderSampler\n",
    "\n",
    "sampler = RandomUnderSampler(random_state=11)\n",
    "\n",
    "train_evaluate(X_train, X_test, y_train, y_test, sampler)\n",
    "\n",
    "# Test Results:\n",
    "# Recall for 1.0: 0.01 -> 0.83\n",
    "# Macro-Average F1: 0.48 -> 0.58"
   ],
   "metadata": {
    "collapsed": false
   }
  },
  {
   "cell_type": "code",
   "execution_count": 8,
   "outputs": [],
   "source": [
    "import faiss\n",
    "\n",
    "#https://towardsdatascience.com/k-means-8x-faster-27x-lower-error-than-scikit-learns-in-25-lines-eaedc7a3a0c8\n",
    "# class FaissKMeans:\n",
    "#     def __init__(self, n_clusters=8, n_init=10, max_iter=300):\n",
    "#         self.n_clusters = n_clusters\n",
    "#         self.n_init = n_init\n",
    "#         self.max_iter = max_iter\n",
    "#         self.kmeans = None\n",
    "#         self.cluster_centers_ = None\n",
    "#         self.inertia_ = None\n",
    "#\n",
    "#     def fit(self, X, y=None):\n",
    "#         self.kmeans = faiss.Kmeans(d=X.shape[1],\n",
    "#                                    k=self.n_clusters,\n",
    "#                                    niter=self.max_iter,\n",
    "#                                    nredo=self.n_init)\n",
    "#         self.kmeans.train(X.astype(np.float32))\n",
    "#         self.cluster_centers_ = self.kmeans.centroids\n",
    "#         self.inertia_ = self.kmeans.obj[-1]\n",
    "#\n",
    "#     def predict(self, X):\n",
    "#         return self.kmeans.index.search(X.astype(np.float32), 1)[1]\n",
    "#\n",
    "#     def get_params(self, deep=True):\n",
    "#         out = dict()\n",
    "#         out[\"n_clusters\"] = self.n_clusters\n",
    "#         out[\"n_init\"] = self.n_init\n",
    "#         out[\"max_iter\"] = self.max_iter\n",
    "#         return out\n",
    "#\n",
    "#     def set_params(self, **params):\n",
    "#         for key, value in params.items():\n",
    "#             setattr(self, key, value)\n",
    "#         return self"
   ],
   "metadata": {
    "collapsed": false
   }
  },
  {
   "cell_type": "code",
   "execution_count": 9,
   "outputs": [
    {
     "name": "stdout",
     "output_type": "stream",
     "text": [
      "Init 1/3 with method k-means++\n"
     ]
    },
    {
     "name": "stderr",
     "output_type": "stream",
     "text": [
      "C:\\VSCode\\Uni\\COM618-DataScience\\Practice\\01-ReadDataSet\\venv\\lib\\site-packages\\sklearn\\cluster\\_kmeans.py:870: FutureWarning: The default value of `n_init` will change from 3 to 'auto' in 1.4. Set the value of `n_init` explicitly to suppress the warning\n",
      "  warnings.warn(\n"
     ]
    },
    {
     "name": "stdout",
     "output_type": "stream",
     "text": [
      "Inertia for init 1/3: 362594.58290000015\n",
      "Init 2/3 with method k-means++\n",
      "Inertia for init 2/3: 359469.9026249998\n",
      "Init 3/3 with method k-means++\n",
      "Inertia for init 3/3: 360490.79259999975\n",
      "[MiniBatchKMeans] Reassigning 2048 cluster centers.\n",
      "Minibatch step 1/4756: mean batch inertia: 6.864443536376955\n",
      "[MiniBatchKMeans] Reassigning 2048 cluster centers.\n",
      "Minibatch step 2/4756: mean batch inertia: 6.933034379272461, ewa inertia: 6.933034379272461\n",
      "[MiniBatchKMeans] Reassigning 2048 cluster centers.\n",
      "Minibatch step 3/4756: mean batch inertia: 7.010121390869764, ewa inertia: 6.936275400591997\n",
      "[MiniBatchKMeans] Reassigning 2048 cluster centers.\n",
      "Minibatch step 4/4756: mean batch inertia: 6.9612399968652365, ewa inertia: 6.937325003982746\n",
      "[MiniBatchKMeans] Reassigning 2048 cluster centers.\n",
      "Minibatch step 5/4756: mean batch inertia: 7.177608512939774, ewa inertia: 6.947427405919547\n",
      "[MiniBatchKMeans] Reassigning 2048 cluster centers.\n",
      "Minibatch step 6/4756: mean batch inertia: 6.8025747681442965, ewa inertia: 6.941337268586515\n",
      "[MiniBatchKMeans] Reassigning 2048 cluster centers.\n",
      "Minibatch step 7/4756: mean batch inertia: 6.979221368708449, ewa inertia: 6.942930055407829\n",
      "[MiniBatchKMeans] Reassigning 2048 cluster centers.\n",
      "Minibatch step 8/4756: mean batch inertia: 6.762280352252054, ewa inertia: 6.935334877865413\n",
      "[MiniBatchKMeans] Reassigning 2048 cluster centers.\n",
      "Minibatch step 9/4756: mean batch inertia: 6.9537892598397955, ewa inertia: 6.936110767917167\n",
      "[MiniBatchKMeans] Reassigning 2048 cluster centers.\n",
      "Minibatch step 10/4756: mean batch inertia: 6.7493647675725255, ewa inertia: 6.928259279632514\n",
      "[MiniBatchKMeans] Reassigning 2048 cluster centers.\n",
      "Minibatch step 11/4756: mean batch inertia: 6.582529700081376, ewa inertia: 6.913723537295359\n",
      "[MiniBatchKMeans] Reassigning 2048 cluster centers.\n",
      "Minibatch step 12/4756: mean batch inertia: 6.420579745556463, ewa inertia: 6.8929899596211825\n",
      "[MiniBatchKMeans] Reassigning 2048 cluster centers.\n",
      "Minibatch step 13/4756: mean batch inertia: 6.8668506298547065, ewa inertia: 6.891890966116361\n",
      "[MiniBatchKMeans] Reassigning 2048 cluster centers.\n",
      "Minibatch step 14/4756: mean batch inertia: 6.654369717258914, ewa inertia: 6.881904699747503\n",
      "[MiniBatchKMeans] Reassigning 2048 cluster centers.\n",
      "Minibatch step 15/4756: mean batch inertia: 6.445457703315391, ewa inertia: 6.86355486375083\n",
      "[MiniBatchKMeans] Reassigning 2048 cluster centers.\n",
      "Minibatch step 16/4756: mean batch inertia: 6.426846568576622, ewa inertia: 6.845194041794572\n",
      "[MiniBatchKMeans] Reassigning 1882 cluster centers.\n",
      "Minibatch step 17/4756: mean batch inertia: 6.6015089793421735, ewa inertia: 6.834948626045591\n",
      "Minibatch step 18/4756: mean batch inertia: 6.137892821645725, ewa inertia: 6.805641837831145\n",
      "Minibatch step 19/4756: mean batch inertia: 6.0511412988893225, ewa inertia: 6.773919861824517\n",
      "Minibatch step 20/4756: mean batch inertia: 6.237868286691621, ewa inertia: 6.751382283218504\n",
      "Minibatch step 21/4756: mean batch inertia: 6.308859668927497, ewa inertia: 6.732777005914637\n",
      "Minibatch step 22/4756: mean batch inertia: 5.876355697284763, ewa inertia: 6.696769906115843\n",
      "Minibatch step 23/4756: mean batch inertia: 6.0724886181346855, ewa inertia: 6.6705228260720055\n",
      "Minibatch step 24/4756: mean batch inertia: 5.908774175234653, ewa inertia: 6.638496112799098\n",
      "Minibatch step 25/4756: mean batch inertia: 5.992663187829291, ewa inertia: 6.611342922717995\n",
      "Minibatch step 26/4756: mean batch inertia: 5.79075408819278, ewa inertia: 6.5768423518415\n",
      "Minibatch step 27/4756: mean batch inertia: 5.8499968777176985, ewa inertia: 6.546283096412712\n",
      "Minibatch step 28/4756: mean batch inertia: 5.700771205320398, ewa inertia: 6.510734668627405\n",
      "Minibatch step 29/4756: mean batch inertia: 5.728186181998246, ewa inertia: 6.477833453802975\n",
      "Minibatch step 30/4756: mean batch inertia: 5.729628345150999, ewa inertia: 6.446376160826111\n",
      "Minibatch step 31/4756: mean batch inertia: 5.765843066802896, ewa inertia: 6.417764048089125\n",
      "Minibatch step 32/4756: mean batch inertia: 5.600333713067984, ewa inertia: 6.383396272141612\n",
      "Minibatch step 33/4756: mean batch inertia: 5.752046857918724, ewa inertia: 6.356852022089961\n",
      "Minibatch step 34/4756: mean batch inertia: 5.701671739411558, ewa inertia: 6.32930583473231\n",
      "Minibatch step 35/4756: mean batch inertia: 5.5871952780144, ewa inertia: 6.298104779120756\n",
      "Minibatch step 36/4756: mean batch inertia: 5.585720201895473, ewa inertia: 6.268153512952112\n",
      "Minibatch step 37/4756: mean batch inertia: 5.782790904361293, ewa inertia: 6.247747084819104\n",
      "Minibatch step 38/4756: mean batch inertia: 5.585816735765956, ewa inertia: 6.219917099859555\n",
      "Minibatch step 39/4756: mean batch inertia: 5.612356330602902, ewa inertia: 6.194373011883212\n",
      "Minibatch step 40/4756: mean batch inertia: 5.642015539903578, ewa inertia: 6.171149873437487\n",
      "Minibatch step 41/4756: mean batch inertia: 5.777239724193976, ewa inertia: 6.15458844285111\n",
      "Minibatch step 42/4756: mean batch inertia: 5.598584112058237, ewa inertia: 6.131211977055964\n",
      "Minibatch step 43/4756: mean batch inertia: 5.585543919626474, ewa inertia: 6.108270086186491\n",
      "Minibatch step 44/4756: mean batch inertia: 5.585174835216629, ewa inertia: 6.0862772390724\n",
      "Minibatch step 45/4756: mean batch inertia: 5.5574342188373125, ewa inertia: 6.06404273461108\n",
      "Minibatch step 46/4756: mean batch inertia: 5.391204063054324, ewa inertia: 6.035754123677297\n",
      "Minibatch step 47/4756: mean batch inertia: 5.505648982706721, ewa inertia: 6.013466555021027\n",
      "Minibatch step 48/4756: mean batch inertia: 5.595429863032843, ewa inertia: 5.99589075589471\n",
      "Minibatch step 49/4756: mean batch inertia: 5.526495669140149, ewa inertia: 5.976155661072193\n",
      "Minibatch step 50/4756: mean batch inertia: 5.60114380944453, ewa inertia: 5.9603887843828565\n",
      "Minibatch step 51/4756: mean batch inertia: 5.612086827587897, ewa inertia: 5.9457448898509755\n",
      "Minibatch step 52/4756: mean batch inertia: 5.305954225995898, ewa inertia: 5.91884573863693\n",
      "Minibatch step 53/4756: mean batch inertia: 5.719669611852265, ewa inertia: 5.910471642146797\n",
      "Minibatch step 54/4756: mean batch inertia: 5.485474704517888, ewa inertia: 5.892603208709676\n",
      "Minibatch step 55/4756: mean batch inertia: 5.197100632566691, ewa inertia: 5.863361723920415\n",
      "Minibatch step 56/4756: mean batch inertia: 5.2937614898507395, ewa inertia: 5.839413636376476\n",
      "Minibatch step 57/4756: mean batch inertia: 5.416758831427608, ewa inertia: 5.8216436748063\n",
      "Minibatch step 58/4756: mean batch inertia: 5.306030435973125, ewa inertia: 5.799965398984383\n",
      "Minibatch step 59/4756: mean batch inertia: 5.438725499338035, ewa inertia: 5.7847775457784865\n",
      "Minibatch step 60/4756: mean batch inertia: 5.285333163974949, ewa inertia: 5.763779068138647\n",
      "Minibatch step 61/4756: mean batch inertia: 5.689633686640666, ewa inertia: 5.76066172376116\n",
      "Minibatch step 62/4756: mean batch inertia: 5.268013206695665, ewa inertia: 5.739948969254755\n",
      "Minibatch step 63/4756: mean batch inertia: 5.38229115158838, ewa inertia: 5.7249117199421065\n",
      "Minibatch step 64/4756: mean batch inertia: 5.286115135259127, ewa inertia: 5.706463098618886\n",
      "Minibatch step 65/4756: mean batch inertia: 5.512758528107011, ewa inertia: 5.698319046466492\n",
      "Minibatch step 66/4756: mean batch inertia: 5.232930496832675, ewa inertia: 5.678752401191528\n",
      "Minibatch step 67/4756: mean batch inertia: 5.159257799877776, ewa inertia: 5.656910938624041\n",
      "Minibatch step 68/4756: mean batch inertia: 5.42659174693717, ewa inertia: 5.647227473211539\n",
      "Minibatch step 69/4756: mean batch inertia: 5.252222293323162, ewa inertia: 5.630620003511801\n",
      "Minibatch step 70/4756: mean batch inertia: 5.238026218041614, ewa inertia: 5.614113917697067\n",
      "Minibatch step 71/4756: mean batch inertia: 5.23142023812611, ewa inertia: 5.598024068724575\n",
      "Minibatch step 72/4756: mean batch inertia: 5.214554275849244, ewa inertia: 5.581901589095974\n",
      "Minibatch step 73/4756: mean batch inertia: 5.173391219624218, ewa inertia: 5.564726311584554\n",
      "Minibatch step 74/4756: mean batch inertia: 5.3484020490901685, ewa inertia: 5.555631244437057\n",
      "Minibatch step 75/4756: mean batch inertia: 5.305330468751962, ewa inertia: 5.545107679786118\n",
      "Minibatch step 76/4756: mean batch inertia: 5.204180179493029, ewa inertia: 5.5307738345121775\n",
      "Minibatch step 77/4756: mean batch inertia: 5.1375909080656585, ewa inertia: 5.514242979045268\n",
      "Minibatch step 78/4756: mean batch inertia: 5.212705833270743, ewa inertia: 5.501565249064079\n",
      "Minibatch step 79/4756: mean batch inertia: 5.204173788606363, ewa inertia: 5.489061818932078\n",
      "Minibatch step 80/4756: mean batch inertia: 5.107777440429911, ewa inertia: 5.473031222156745\n",
      "Minibatch step 81/4756: mean batch inertia: 5.342634585367082, ewa inertia: 5.46754886824168\n",
      "Minibatch step 82/4756: mean batch inertia: 5.115963738394848, ewa inertia: 5.452766937046602\n",
      "Minibatch step 83/4756: mean batch inertia: 5.178185867193006, ewa inertia: 5.441222539580716\n",
      "Minibatch step 84/4756: mean batch inertia: 5.111693533545132, ewa inertia: 5.427367928903288\n",
      "Minibatch step 85/4756: mean batch inertia: 5.060177486470863, ewa inertia: 5.411929893006003\n",
      "Minibatch step 86/4756: mean batch inertia: 5.269377178030759, ewa inertia: 5.405936452881406\n",
      "Minibatch step 87/4756: mean batch inertia: 5.11067077863237, ewa inertia: 5.393522398615461\n",
      "Minibatch step 88/4756: mean batch inertia: 5.09909412842301, ewa inertia: 5.3811435518941355\n",
      "Minibatch step 89/4756: mean batch inertia: 5.330157949460785, ewa inertia: 5.378999929757904\n",
      "Minibatch step 90/4756: mean batch inertia: 5.324401873174527, ewa inertia: 5.376704426770756\n",
      "Minibatch step 91/4756: mean batch inertia: 5.2565820469007445, ewa inertia: 5.371654040382113\n",
      "Minibatch step 92/4756: mean batch inertia: 5.193592867312006, ewa inertia: 5.364167694159267\n",
      "Minibatch step 93/4756: mean batch inertia: 5.18050365370388, ewa inertia: 5.356445782796848\n",
      "Minibatch step 94/4756: mean batch inertia: 5.366839368664284, ewa inertia: 5.356882767350858\n",
      "Minibatch step 95/4756: mean batch inertia: 5.137060049362259, ewa inertia: 5.347640612274964\n",
      "Minibatch step 96/4756: mean batch inertia: 5.297466507200935, ewa inertia: 5.345531108470573\n",
      "Minibatch step 97/4756: mean batch inertia: 5.115054726343869, ewa inertia: 5.33584103419419\n",
      "Minibatch step 98/4756: mean batch inertia: 5.174647132477924, ewa inertia: 5.329063850058803\n",
      "Minibatch step 99/4756: mean batch inertia: 5.0152860046664385, ewa inertia: 5.315871476072022\n",
      "Minibatch step 100/4756: mean batch inertia: 5.141651283526857, ewa inertia: 5.3085466187889\n",
      "Minibatch step 101/4756: mean batch inertia: 5.150312012235696, ewa inertia: 5.301893854299774\n",
      "Minibatch step 102/4756: mean batch inertia: 5.258229586122299, ewa inertia: 5.3000580479669965\n",
      "Minibatch step 103/4756: mean batch inertia: 5.187224466125832, ewa inertia: 5.2953141094392295\n",
      "Minibatch step 104/4756: mean batch inertia: 5.021595569316198, ewa inertia: 5.283805975893653\n",
      "Minibatch step 105/4756: mean batch inertia: 5.094887169411579, ewa inertia: 5.275863134852306\n",
      "Minibatch step 106/4756: mean batch inertia: 5.274493000225145, ewa inertia: 5.275805529356319\n",
      "[MiniBatchKMeans] Reassigning 199 cluster centers.\n",
      "Minibatch step 107/4756: mean batch inertia: 5.160504562375922, ewa inertia: 5.270957852887827\n",
      "Minibatch step 108/4756: mean batch inertia: 5.2196694251015305, ewa inertia: 5.2688014988606495\n",
      "Minibatch step 109/4756: mean batch inertia: 5.196803423971789, ewa inertia: 5.265774435145955\n",
      "Minibatch step 110/4756: mean batch inertia: 5.003502899385963, ewa inertia: 5.254747575740039\n",
      "Minibatch step 111/4756: mean batch inertia: 5.103927930517674, ewa inertia: 5.2484065634807475\n",
      "Minibatch step 112/4756: mean batch inertia: 5.194465849620984, ewa inertia: 5.246138697597922\n",
      "Minibatch step 113/4756: mean batch inertia: 5.103839129212856, ewa inertia: 5.240155900686477\n",
      "Minibatch step 114/4756: mean batch inertia: 5.146658219030523, ewa inertia: 5.236224914476281\n",
      "Minibatch step 115/4756: mean batch inertia: 5.257851762285457, ewa inertia: 5.237134186652897\n",
      "Minibatch step 116/4756: mean batch inertia: 5.169997266103819, ewa inertia: 5.234311503734998\n",
      "Minibatch step 117/4756: mean batch inertia: 5.195524337907387, ewa inertia: 5.232680748711981\n",
      "Minibatch step 118/4756: mean batch inertia: 5.170443002110985, ewa inertia: 5.230064045074959\n",
      "Minibatch step 119/4756: mean batch inertia: 5.2363525765448395, ewa inertia: 5.230328438052974\n",
      "Minibatch step 120/4756: mean batch inertia: 5.165092917466197, ewa inertia: 5.227585696978546\n",
      "Minibatch step 121/4756: mean batch inertia: 5.116782959725372, ewa inertia: 5.22292714262212\n",
      "Minibatch step 122/4756: mean batch inertia: 5.004298583899544, ewa inertia: 5.213735194391191\n",
      "Minibatch step 123/4756: mean batch inertia: 5.1002416163638635, ewa inertia: 5.208963507197781\n",
      "Minibatch step 124/4756: mean batch inertia: 5.200922120875979, ewa inertia: 5.208625417758749\n",
      "Minibatch step 125/4756: mean batch inertia: 5.173613502542804, ewa inertia: 5.207153388148294\n",
      "Minibatch step 126/4756: mean batch inertia: 5.198968924893351, ewa inertia: 5.206809283229079\n",
      "Minibatch step 127/4756: mean batch inertia: 5.0451512403061995, ewa inertia: 5.200012584891302\n",
      "Minibatch step 128/4756: mean batch inertia: 5.087259616159337, ewa inertia: 5.195272035634959\n",
      "Minibatch step 129/4756: mean batch inertia: 5.004261016504157, ewa inertia: 5.187241230283425\n",
      "Minibatch step 130/4756: mean batch inertia: 5.08232138119874, ewa inertia: 5.182830014169582\n",
      "Minibatch step 131/4756: mean batch inertia: 5.097103661339388, ewa inertia: 5.179225763188623\n",
      "Minibatch step 132/4756: mean batch inertia: 5.106445548584877, ewa inertia: 5.176165815445371\n",
      "Minibatch step 133/4756: mean batch inertia: 5.158240719721909, ewa inertia: 5.175412178533125\n",
      "Minibatch step 134/4756: mean batch inertia: 5.044924105363659, ewa inertia: 5.169925980296556\n",
      "Minibatch step 135/4756: mean batch inertia: 5.114942576170434, ewa inertia: 5.167614275882272\n",
      "Minibatch step 136/4756: mean batch inertia: 5.123160267911987, ewa inertia: 5.165745265985725\n",
      "Minibatch step 137/4756: mean batch inertia: 4.9182565944325916, ewa inertia: 5.155339932529063\n",
      "Minibatch step 138/4756: mean batch inertia: 5.212422999208586, ewa inertia: 5.157739914474911\n",
      "Minibatch step 139/4756: mean batch inertia: 5.112205174455784, ewa inertia: 5.155825466630539\n",
      "Minibatch step 140/4756: mean batch inertia: 4.9666925844099605, ewa inertia: 5.147873625058259\n",
      "Minibatch step 141/4756: mean batch inertia: 5.180029655325397, ewa inertia: 5.149225582767969\n",
      "Minibatch step 142/4756: mean batch inertia: 5.028782506654752, ewa inertia: 5.144161713130465\n",
      "Minibatch step 143/4756: mean batch inertia: 5.018840922564002, ewa inertia: 5.138892766448126\n",
      "Minibatch step 144/4756: mean batch inertia: 5.124207851781081, ewa inertia: 5.138275358657562\n",
      "Minibatch step 145/4756: mean batch inertia: 5.092981206233657, ewa inertia: 5.136371026000031\n",
      "Minibatch step 146/4756: mean batch inertia: 5.086373427139454, ewa inertia: 5.134268943165646\n",
      "Minibatch step 147/4756: mean batch inertia: 5.165257371453783, ewa inertia: 5.135571810596354\n",
      "Minibatch step 148/4756: mean batch inertia: 5.013599912709481, ewa inertia: 5.13044366367193\n",
      "Minibatch step 149/4756: mean batch inertia: 4.918818532088892, ewa inertia: 5.121546165260741\n",
      "Minibatch step 150/4756: mean batch inertia: 4.843841600378795, ewa inertia: 5.1098704445827\n",
      "Minibatch step 151/4756: mean batch inertia: 5.084539130352205, ewa inertia: 5.108805423021068\n",
      "Minibatch step 152/4756: mean batch inertia: 5.0827955079825795, ewa inertia: 5.1077118705871065\n",
      "Minibatch step 153/4756: mean batch inertia: 5.015893360474992, ewa inertia: 5.103851482920816\n",
      "Minibatch step 154/4756: mean batch inertia: 5.051808822374334, ewa inertia: 5.101663418176035\n",
      "Minibatch step 155/4756: mean batch inertia: 5.127722493441168, ewa inertia: 5.102759037486626\n",
      "Minibatch step 156/4756: mean batch inertia: 5.083440494971657, ewa inertia: 5.101946814949314\n",
      "Minibatch step 157/4756: mean batch inertia: 5.0290464315742645, ewa inertia: 5.098881814869208\n",
      "Minibatch step 158/4756: mean batch inertia: 5.201514575911106, ewa inertia: 5.103196873394986\n",
      "Minibatch step 159/4756: mean batch inertia: 5.04726386388226, ewa inertia: 5.100845244079745\n",
      "Minibatch step 160/4756: mean batch inertia: 5.06618428795211, ewa inertia: 5.099387970079398\n",
      "Minibatch step 161/4756: mean batch inertia: 5.075229496605083, ewa inertia: 5.098372259054217\n",
      "Minibatch step 162/4756: mean batch inertia: 5.044881689776359, ewa inertia: 5.09612331890423\n",
      "Minibatch step 163/4756: mean batch inertia: 5.024385329281271, ewa inertia: 5.093107190130121\n",
      "Minibatch step 164/4756: mean batch inertia: 4.928466643767421, ewa inertia: 5.08618509638482\n",
      "Minibatch step 165/4756: mean batch inertia: 5.155256057263489, ewa inertia: 5.089089093467209\n",
      "Minibatch step 166/4756: mean batch inertia: 5.051140150468457, ewa inertia: 5.087493580413008\n",
      "Minibatch step 167/4756: mean batch inertia: 5.066772294118214, ewa inertia: 5.086622381371067\n",
      "Minibatch step 168/4756: mean batch inertia: 5.047640547430997, ewa inertia: 5.084983441785052\n",
      "Minibatch step 169/4756: mean batch inertia: 5.018486577300307, ewa inertia: 5.082187669176779\n",
      "Minibatch step 170/4756: mean batch inertia: 5.005812878013229, ewa inertia: 5.078976592222216\n",
      "Minibatch step 171/4756: mean batch inertia: 5.039051112385065, ewa inertia: 5.077297978294089\n",
      "Minibatch step 172/4756: mean batch inertia: 4.966900712966452, ewa inertia: 5.072656471467822\n",
      "Minibatch step 173/4756: mean batch inertia: 5.180624844046674, ewa inertia: 5.077195858714947\n",
      "Minibatch step 174/4756: mean batch inertia: 5.048271573916103, ewa inertia: 5.075979775463788\n",
      "Minibatch step 175/4756: mean batch inertia: 4.965023085746768, ewa inertia: 5.0713147483798915\n",
      "Minibatch step 176/4756: mean batch inertia: 4.954732727976651, ewa inertia: 5.0664132117166805\n",
      "Minibatch step 177/4756: mean batch inertia: 4.9220017957060955, ewa inertia: 5.060341624968451\n",
      "Minibatch step 178/4756: mean batch inertia: 4.924834670066723, ewa inertia: 5.054644414495743\n",
      "Minibatch step 179/4756: mean batch inertia: 5.056523190403452, ewa inertia: 5.054723405140799\n",
      "Minibatch step 180/4756: mean batch inertia: 5.021522383949483, ewa inertia: 5.05332751217152\n",
      "Minibatch step 181/4756: mean batch inertia: 4.827809378611642, ewa inertia: 5.04384590089013\n",
      "Minibatch step 182/4756: mean batch inertia: 5.121790647756004, ewa inertia: 5.04712298455317\n",
      "Minibatch step 183/4756: mean batch inertia: 5.008997801336546, ewa inertia: 5.045520061712397\n",
      "Minibatch step 184/4756: mean batch inertia: 5.093581660335091, ewa inertia: 5.047540747980544\n",
      "Minibatch step 185/4756: mean batch inertia: 4.9961410359551675, ewa inertia: 5.045379715154904\n",
      "Minibatch step 186/4756: mean batch inertia: 5.126643792571148, ewa inertia: 5.048796355675286\n",
      "Minibatch step 187/4756: mean batch inertia: 5.119801831958102, ewa inertia: 5.051781686896045\n",
      "Minibatch step 188/4756: mean batch inertia: 4.935337898644826, ewa inertia: 5.04688596202061\n",
      "Minibatch step 189/4756: mean batch inertia: 4.988262404560583, ewa inertia: 5.044421212179904\n",
      "Minibatch step 190/4756: mean batch inertia: 5.001588046228386, ewa inertia: 5.042620348439623\n",
      "Minibatch step 191/4756: mean batch inertia: 5.0309681776401804, ewa inertia: 5.042130448348837\n",
      "Minibatch step 192/4756: mean batch inertia: 4.9756610892502, ewa inertia: 5.039335832168099\n",
      "Minibatch step 193/4756: mean batch inertia: 5.111469497528712, ewa inertia: 5.0423685966046214\n",
      "Minibatch step 194/4756: mean batch inertia: 4.887656875700815, ewa inertia: 5.035863947177416\n",
      "Minibatch step 195/4756: mean batch inertia: 5.024252754603434, ewa inertia: 5.035375769961854\n",
      "Minibatch step 196/4756: mean batch inertia: 4.981473588968824, ewa inertia: 5.033109524142383\n",
      "[MiniBatchKMeans] Reassigning 64 cluster centers.\n",
      "Minibatch step 197/4756: mean batch inertia: 5.020262604745868, ewa inertia: 5.032569392428989\n",
      "Minibatch step 198/4756: mean batch inertia: 4.921559442995257, ewa inertia: 5.027902126110833\n",
      "Minibatch step 199/4756: mean batch inertia: 4.893203786128505, ewa inertia: 5.022238912781596\n",
      "Minibatch step 200/4756: mean batch inertia: 4.965081578801268, ewa inertia: 5.019835808365435\n",
      "Minibatch step 201/4756: mean batch inertia: 4.903826656941187, ewa inertia: 5.01495835721982\n",
      "Minibatch step 202/4756: mean batch inertia: 4.977820988717051, ewa inertia: 5.013396965740569\n",
      "Minibatch step 203/4756: mean batch inertia: 5.208121285139774, ewa inertia: 5.021583891884521\n",
      "Minibatch step 204/4756: mean batch inertia: 5.0254487631063895, ewa inertia: 5.021746385276959\n",
      "Minibatch step 205/4756: mean batch inertia: 5.1024462138656625, ewa inertia: 5.025139302702598\n",
      "Minibatch step 206/4756: mean batch inertia: 5.011410053757803, ewa inertia: 5.0245620746117785\n",
      "Minibatch step 207/4756: mean batch inertia: 5.171645135023261, ewa inertia: 5.0307459871108975\n",
      "Minibatch step 208/4756: mean batch inertia: 4.906475687146316, ewa inertia: 5.025521206914793\n",
      "Minibatch step 209/4756: mean batch inertia: 4.96502473752495, ewa inertia: 5.0229777129722155\n",
      "Minibatch step 210/4756: mean batch inertia: 5.231943373386991, ewa inertia: 5.031763397439962\n",
      "Minibatch step 211/4756: mean batch inertia: 4.8899125498707905, ewa inertia: 5.025799466401\n",
      "Minibatch step 212/4756: mean batch inertia: 4.921277008464179, ewa inertia: 5.021404958071721\n",
      "Converged (lack of improvement in inertia) at step 212/4756\n"
     ]
    },
    {
     "name": "stderr",
     "output_type": "stream",
     "text": [
      "[Parallel(n_jobs=-1)]: Using backend ThreadingBackend with 16 concurrent workers.\n",
      "[Parallel(n_jobs=-1)]: Done  18 tasks      | elapsed:    0.0s\n",
      "[Parallel(n_jobs=-1)]: Done  50 out of  50 | elapsed:    0.2s finished\n",
      "[Parallel(n_jobs=16)]: Using backend ThreadingBackend with 16 concurrent workers.\n",
      "[Parallel(n_jobs=16)]: Done  18 tasks      | elapsed:    0.0s\n",
      "[Parallel(n_jobs=16)]: Done  50 out of  50 | elapsed:    0.1s finished\n",
      "[Parallel(n_jobs=16)]: Using backend ThreadingBackend with 16 concurrent workers.\n",
      "[Parallel(n_jobs=16)]: Done  18 tasks      | elapsed:    0.0s\n",
      "[Parallel(n_jobs=16)]: Done  50 out of  50 | elapsed:    0.0s finished\n"
     ]
    },
    {
     "name": "stdout",
     "output_type": "stream",
     "text": [
      "Training Results:\n",
      "\n",
      "              precision    recall  f1-score   support\n",
      "\n",
      "         0.0       0.99      0.30      0.46    194844\n",
      "         1.0       0.12      0.98      0.21     18283\n",
      "\n",
      "    accuracy                           0.36    213127\n",
      "   macro avg       0.56      0.64      0.33    213127\n",
      "weighted avg       0.92      0.36      0.44    213127\n",
      "\n",
      "\n",
      "\n",
      "Testing Results:\n",
      "\n",
      "              precision    recall  f1-score   support\n",
      "\n",
      "         0.0       0.99      0.29      0.45     21713\n",
      "         1.0       0.11      0.98      0.20      1968\n",
      "\n",
      "    accuracy                           0.35     23681\n",
      "   macro avg       0.55      0.64      0.33     23681\n",
      "weighted avg       0.92      0.35      0.43     23681\n",
      "\n"
     ]
    }
   ],
   "source": [
    "# Cluster Centroid Undersampling\n",
    "from imblearn.under_sampling import ClusterCentroids\n",
    "from sklearn.cluster import MiniBatchKMeans\n",
    "\n",
    "kmeans = MiniBatchKMeans(verbose=1, batch_size=4096)\n",
    "sampler = ClusterCentroids(estimator=kmeans)\n",
    "\n",
    "train_evaluate(X_train, X_test, y_train, y_test, sampler)\n",
    "\n",
    "# Test Results:\n",
    "# Recall for 1.0: 0.01 -> 0.98\n",
    "# Macro-Average F1: 0.48 -> 0.33"
   ],
   "metadata": {
    "collapsed": false
   }
  },
  {
   "cell_type": "code",
   "execution_count": 40,
   "outputs": [
    {
     "name": "stderr",
     "output_type": "stream",
     "text": [
      "[Parallel(n_jobs=-1)]: Using backend ThreadingBackend with 16 concurrent workers.\n",
      "[Parallel(n_jobs=-1)]: Done  18 tasks      | elapsed:    2.9s\n",
      "[Parallel(n_jobs=-1)]: Done  50 out of  50 | elapsed:    4.9s finished\n",
      "[Parallel(n_jobs=16)]: Using backend ThreadingBackend with 16 concurrent workers.\n",
      "[Parallel(n_jobs=16)]: Done  18 tasks      | elapsed:    0.0s\n",
      "[Parallel(n_jobs=16)]: Done  50 out of  50 | elapsed:    0.1s finished\n",
      "[Parallel(n_jobs=16)]: Using backend ThreadingBackend with 16 concurrent workers.\n",
      "[Parallel(n_jobs=16)]: Done  18 tasks      | elapsed:    0.0s\n",
      "[Parallel(n_jobs=16)]: Done  50 out of  50 | elapsed:    0.0s finished\n"
     ]
    },
    {
     "name": "stdout",
     "output_type": "stream",
     "text": [
      "Training Results:\n",
      "\n",
      "              precision    recall  f1-score   support\n",
      "\n",
      "         0.0       0.98      0.72      0.83    194844\n",
      "         1.0       0.22      0.83      0.34     18283\n",
      "\n",
      "    accuracy                           0.73    213127\n",
      "   macro avg       0.60      0.77      0.59    213127\n",
      "weighted avg       0.91      0.73      0.79    213127\n",
      "\n",
      "\n",
      "\n",
      "Testing Results:\n",
      "\n",
      "              precision    recall  f1-score   support\n",
      "\n",
      "         0.0       0.98      0.72      0.83     21713\n",
      "         1.0       0.21      0.83      0.34      1968\n",
      "\n",
      "    accuracy                           0.73     23681\n",
      "   macro avg       0.60      0.78      0.59     23681\n",
      "weighted avg       0.92      0.73      0.79     23681\n",
      "\n"
     ]
    }
   ],
   "source": [
    "## Oversampling\n",
    "\n",
    "# Random Oversampling\n",
    "from imblearn.over_sampling import RandomOverSampler\n",
    "sampler = RandomOverSampler(random_state=11)\n",
    "\n",
    "train_evaluate(X_train, X_test, y_train, y_test, sampler)\n",
    "# Test Results:\n",
    "# Recall for 1.0: 0.01 -> 0.83\n",
    "# Macro-Average F1: 0.48 -> 0.59"
   ],
   "metadata": {
    "collapsed": false
   }
  },
  {
   "cell_type": "code",
   "execution_count": 42,
   "outputs": [
    {
     "name": "stderr",
     "output_type": "stream",
     "text": [
      "[Parallel(n_jobs=-1)]: Using backend ThreadingBackend with 16 concurrent workers.\n",
      "[Parallel(n_jobs=-1)]: Done  18 tasks      | elapsed:    3.0s\n",
      "[Parallel(n_jobs=-1)]: Done  50 out of  50 | elapsed:    5.1s finished\n",
      "[Parallel(n_jobs=16)]: Using backend ThreadingBackend with 16 concurrent workers.\n",
      "[Parallel(n_jobs=16)]: Done  18 tasks      | elapsed:    0.0s\n",
      "[Parallel(n_jobs=16)]: Done  50 out of  50 | elapsed:    0.1s finished\n",
      "[Parallel(n_jobs=16)]: Using backend ThreadingBackend with 16 concurrent workers.\n",
      "[Parallel(n_jobs=16)]: Done  18 tasks      | elapsed:    0.0s\n",
      "[Parallel(n_jobs=16)]: Done  50 out of  50 | elapsed:    0.0s finished\n"
     ]
    },
    {
     "name": "stdout",
     "output_type": "stream",
     "text": [
      "Training Results:\n",
      "\n",
      "              precision    recall  f1-score   support\n",
      "\n",
      "         0.0       0.96      0.85      0.90    194844\n",
      "         1.0       0.28      0.60      0.38     18283\n",
      "\n",
      "    accuracy                           0.83    213127\n",
      "   macro avg       0.62      0.73      0.64    213127\n",
      "weighted avg       0.90      0.83      0.86    213127\n",
      "\n",
      "\n",
      "\n",
      "Testing Results:\n",
      "\n",
      "              precision    recall  f1-score   support\n",
      "\n",
      "         0.0       0.96      0.86      0.91     21713\n",
      "         1.0       0.28      0.61      0.38      1968\n",
      "\n",
      "    accuracy                           0.84     23681\n",
      "   macro avg       0.62      0.73      0.64     23681\n",
      "weighted avg       0.90      0.84      0.86     23681\n",
      "\n"
     ]
    }
   ],
   "source": [
    "#SMOTE Oversampling\n",
    "from imblearn.over_sampling import SMOTE\n",
    "\n",
    "sampler = SMOTE(k_neighbors=5, random_state=11)\n",
    "train_evaluate(X_train, X_test, y_train, y_test, sampler)\n",
    "# Test Results:\n",
    "# Recall for 1.0: 0.01 -> 0.61\n",
    "# Macro-Average F1: 0.48 -> 0.64"
   ],
   "metadata": {
    "collapsed": false
   }
  },
  {
   "cell_type": "code",
   "execution_count": 43,
   "outputs": [
    {
     "name": "stderr",
     "output_type": "stream",
     "text": [
      "[Parallel(n_jobs=-1)]: Using backend ThreadingBackend with 16 concurrent workers.\n",
      "[Parallel(n_jobs=-1)]: Done  18 tasks      | elapsed:    2.9s\n",
      "[Parallel(n_jobs=-1)]: Done  50 out of  50 | elapsed:    5.3s finished\n",
      "[Parallel(n_jobs=16)]: Using backend ThreadingBackend with 16 concurrent workers.\n",
      "[Parallel(n_jobs=16)]: Done  18 tasks      | elapsed:    0.0s\n",
      "[Parallel(n_jobs=16)]: Done  50 out of  50 | elapsed:    0.1s finished\n",
      "[Parallel(n_jobs=16)]: Using backend ThreadingBackend with 16 concurrent workers.\n",
      "[Parallel(n_jobs=16)]: Done  18 tasks      | elapsed:    0.0s\n",
      "[Parallel(n_jobs=16)]: Done  50 out of  50 | elapsed:    0.0s finished\n"
     ]
    },
    {
     "name": "stdout",
     "output_type": "stream",
     "text": [
      "Training Results:\n",
      "\n",
      "              precision    recall  f1-score   support\n",
      "\n",
      "         0.0       0.96      0.86      0.91    194844\n",
      "         1.0       0.29      0.60      0.39     18283\n",
      "\n",
      "    accuracy                           0.84    213127\n",
      "   macro avg       0.62      0.73      0.65    213127\n",
      "weighted avg       0.90      0.84      0.86    213127\n",
      "\n",
      "\n",
      "\n",
      "Testing Results:\n",
      "\n",
      "              precision    recall  f1-score   support\n",
      "\n",
      "         0.0       0.96      0.86      0.91     21713\n",
      "         1.0       0.28      0.59      0.38      1968\n",
      "\n",
      "    accuracy                           0.84     23681\n",
      "   macro avg       0.62      0.73      0.64     23681\n",
      "weighted avg       0.90      0.84      0.86     23681\n",
      "\n"
     ]
    }
   ],
   "source": [
    "# Borderline SMOTE\n",
    "from imblearn.over_sampling import BorderlineSMOTE\n",
    "sampler = BorderlineSMOTE(k_neighbors=5, random_state=11)\n",
    "\n",
    "train_evaluate(X_train, X_test, y_train, y_test, sampler)\n",
    "# Test Results:\n",
    "# Recall for 1.0: 0.01 -> 0.59\n",
    "# Macro-Average F1: 0.48 -> 0.64"
   ],
   "metadata": {
    "collapsed": false
   }
  },
  {
   "cell_type": "code",
   "execution_count": 44,
   "outputs": [
    {
     "name": "stderr",
     "output_type": "stream",
     "text": [
      "[Parallel(n_jobs=-1)]: Using backend ThreadingBackend with 16 concurrent workers.\n",
      "[Parallel(n_jobs=-1)]: Done  18 tasks      | elapsed:    3.2s\n",
      "[Parallel(n_jobs=-1)]: Done  50 out of  50 | elapsed:    6.2s finished\n",
      "[Parallel(n_jobs=16)]: Using backend ThreadingBackend with 16 concurrent workers.\n",
      "[Parallel(n_jobs=16)]: Done  18 tasks      | elapsed:    0.0s\n",
      "[Parallel(n_jobs=16)]: Done  50 out of  50 | elapsed:    0.1s finished\n",
      "[Parallel(n_jobs=16)]: Using backend ThreadingBackend with 16 concurrent workers.\n",
      "[Parallel(n_jobs=16)]: Done  18 tasks      | elapsed:    0.0s\n",
      "[Parallel(n_jobs=16)]: Done  50 out of  50 | elapsed:    0.0s finished\n"
     ]
    },
    {
     "name": "stdout",
     "output_type": "stream",
     "text": [
      "Training Results:\n",
      "\n",
      "              precision    recall  f1-score   support\n",
      "\n",
      "         0.0       0.96      0.85      0.90    194844\n",
      "         1.0       0.28      0.61      0.38     18283\n",
      "\n",
      "    accuracy                           0.83    213127\n",
      "   macro avg       0.62      0.73      0.64    213127\n",
      "weighted avg       0.90      0.83      0.86    213127\n",
      "\n",
      "\n",
      "\n",
      "Testing Results:\n",
      "\n",
      "              precision    recall  f1-score   support\n",
      "\n",
      "         0.0       0.96      0.86      0.91     21713\n",
      "         1.0       0.28      0.60      0.38      1968\n",
      "\n",
      "    accuracy                           0.84     23681\n",
      "   macro avg       0.62      0.73      0.64     23681\n",
      "weighted avg       0.90      0.84      0.86     23681\n",
      "\n"
     ]
    }
   ],
   "source": [
    "from smote_variants import DBSMOTE\n",
    "oversampler = DBSMOTE(min_samples=10)\n",
    "\n",
    "train_evaluate(X_train, X_test, y_train, y_test, sampler)\n",
    "# Test Results:\n",
    "# Recall for 1.0: 0.01 -> 0.6\n",
    "# Macro-Average F1: 0.48 -> 0.64"
   ],
   "metadata": {
    "collapsed": false
   }
  }
 ],
 "metadata": {
  "kernelspec": {
   "display_name": "Python 3",
   "language": "python",
   "name": "python3"
  },
  "language_info": {
   "codemirror_mode": {
    "name": "ipython",
    "version": 2
   },
   "file_extension": ".py",
   "mimetype": "text/x-python",
   "name": "python",
   "nbconvert_exporter": "python",
   "pygments_lexer": "ipython2",
   "version": "2.7.6"
  }
 },
 "nbformat": 4,
 "nbformat_minor": 0
}
